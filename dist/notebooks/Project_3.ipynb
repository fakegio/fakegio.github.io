{
 "cells": [
  {
   "cell_type": "markdown",
   "id": "59372cff",
   "metadata": {},
   "source": [
    "# Project 3: Predicting Salary"
   ]
  },
  {
   "cell_type": "markdown",
   "id": "0f39c41c",
   "metadata": {},
   "source": [
    "## Introducing The Problem"
   ]
  },
  {
   "cell_type": "markdown",
   "id": "03400920",
   "metadata": {},
   "source": [
    "According to the [Statista Research Department](https://www.statista.com/topics/789/wages-and-salary/#topicOverview), the average annual wage in 2021 was estimated to be $74,738. However, a study published by [Jenzabar](https://jenzabar.com/2021-education-and-employment-survey) in the same year, found that nearly half of American adults feel they're underpaid. To address this concern, I believe that promoting salary transparency can play a pivotal role in fighting underpayment. So, I aim to predict salaries based on factors like age, education, and experience. I also want to answer how much of an impact does education have on salary? Does education contribute more to salary than experience? By revealing how salaries are determined, we can help address the problem of underpayment and make the job market fairer for everyone."
   ]
  },
  {
   "cell_type": "markdown",
   "id": "d4526cab",
   "metadata": {},
   "source": [
    "## Introducing The Data"
   ]
  },
  {
   "cell_type": "code",
   "execution_count": 1,
   "id": "57daa04c",
   "metadata": {},
   "outputs": [],
   "source": [
    "#import stuff\n",
    "import pandas as pd\n",
    "import numpy as np\n",
    "import matplotlib.pyplot as plt\n",
    "import seaborn as sns\n",
    "%matplotlib inline"
   ]
  },
  {
   "cell_type": "code",
   "execution_count": 2,
   "id": "bf024d4c",
   "metadata": {},
   "outputs": [
    {
     "data": {
      "text/html": [
       "<div>\n",
       "<style scoped>\n",
       "    .dataframe tbody tr th:only-of-type {\n",
       "        vertical-align: middle;\n",
       "    }\n",
       "\n",
       "    .dataframe tbody tr th {\n",
       "        vertical-align: top;\n",
       "    }\n",
       "\n",
       "    .dataframe thead th {\n",
       "        text-align: right;\n",
       "    }\n",
       "</style>\n",
       "<table border=\"1\" class=\"dataframe\">\n",
       "  <thead>\n",
       "    <tr style=\"text-align: right;\">\n",
       "      <th></th>\n",
       "      <th>Age</th>\n",
       "      <th>Gender</th>\n",
       "      <th>Education Level</th>\n",
       "      <th>Job Title</th>\n",
       "      <th>Years of Experience</th>\n",
       "      <th>Salary</th>\n",
       "    </tr>\n",
       "  </thead>\n",
       "  <tbody>\n",
       "    <tr>\n",
       "      <th>0</th>\n",
       "      <td>32.0</td>\n",
       "      <td>Male</td>\n",
       "      <td>Bachelor's</td>\n",
       "      <td>Software Engineer</td>\n",
       "      <td>5.0</td>\n",
       "      <td>90000.0</td>\n",
       "    </tr>\n",
       "    <tr>\n",
       "      <th>1</th>\n",
       "      <td>28.0</td>\n",
       "      <td>Female</td>\n",
       "      <td>Master's</td>\n",
       "      <td>Data Analyst</td>\n",
       "      <td>3.0</td>\n",
       "      <td>65000.0</td>\n",
       "    </tr>\n",
       "    <tr>\n",
       "      <th>2</th>\n",
       "      <td>45.0</td>\n",
       "      <td>Male</td>\n",
       "      <td>PhD</td>\n",
       "      <td>Senior Manager</td>\n",
       "      <td>15.0</td>\n",
       "      <td>150000.0</td>\n",
       "    </tr>\n",
       "    <tr>\n",
       "      <th>3</th>\n",
       "      <td>36.0</td>\n",
       "      <td>Female</td>\n",
       "      <td>Bachelor's</td>\n",
       "      <td>Sales Associate</td>\n",
       "      <td>7.0</td>\n",
       "      <td>60000.0</td>\n",
       "    </tr>\n",
       "    <tr>\n",
       "      <th>4</th>\n",
       "      <td>52.0</td>\n",
       "      <td>Male</td>\n",
       "      <td>Master's</td>\n",
       "      <td>Director</td>\n",
       "      <td>20.0</td>\n",
       "      <td>200000.0</td>\n",
       "    </tr>\n",
       "  </tbody>\n",
       "</table>\n",
       "</div>"
      ],
      "text/plain": [
       "    Age  Gender Education Level          Job Title  Years of Experience  \\\n",
       "0  32.0    Male      Bachelor's  Software Engineer                  5.0   \n",
       "1  28.0  Female        Master's       Data Analyst                  3.0   \n",
       "2  45.0    Male             PhD     Senior Manager                 15.0   \n",
       "3  36.0  Female      Bachelor's    Sales Associate                  7.0   \n",
       "4  52.0    Male        Master's           Director                 20.0   \n",
       "\n",
       "     Salary  \n",
       "0   90000.0  \n",
       "1   65000.0  \n",
       "2  150000.0  \n",
       "3   60000.0  \n",
       "4  200000.0  "
      ]
     },
     "execution_count": 2,
     "metadata": {},
     "output_type": "execute_result"
    }
   ],
   "source": [
    "data = pd.read_csv(\"Salary_Data.csv\")\n",
    "df = pd.DataFrame(data,columns = data.columns)\n",
    "df.head()"
   ]
  },
  {
   "cell_type": "code",
   "execution_count": 3,
   "id": "d937071d",
   "metadata": {},
   "outputs": [
    {
     "data": {
      "text/plain": [
       "(6704, 6)"
      ]
     },
     "execution_count": 3,
     "metadata": {},
     "output_type": "execute_result"
    }
   ],
   "source": [
    "df.shape"
   ]
  },
  {
   "cell_type": "markdown",
   "id": "86220412",
   "metadata": {},
   "source": [
    "For this project, I'm going to be using a salary dataset found on [Kaggle](https://www.kaggle.com/datasets/mohithsairamreddy/salary-data/data). This dataset includes 6,704 rows and 6 columns. The columns consist of age, years of experience, job title, education level, and salary.\n"
   ]
  },
  {
   "cell_type": "markdown",
   "id": "41fd2413",
   "metadata": {},
   "source": [
    "## What Is Regression?"
   ]
  },
  {
   "cell_type": "markdown",
   "id": "d75e2866",
   "metadata": {},
   "source": [
    "Regression is a statistical method used to model a target value based on independent predictors. The two types of regression we've talked about are linear regression and logistic regression. Linear regression is used to find the relationship between independent and dependent variables. Upon doing this, the regression model is then used to predict continuous values. Logistic regression is mainly used for classification purposes. Logistic regression usually has a finite number of outcomes/outputs, such as \"spam\" or \"not spam.\""
   ]
  },
  {
   "cell_type": "markdown",
   "id": "7d15de88",
   "metadata": {},
   "source": [
    "In this project, I'm going to be utilizing linear regression. So, how does it work? First, we use the \"least squares\" method to fit a line to the data. The least squares method sums up the squared value of the individual residuals of a given line. This sum is sometimes called the sum of squared residuals. The line of best fit is found by looking for the slope and intercept of the line that best minimizes the sum of squared residuals."
   ]
  },
  {
   "cell_type": "markdown",
   "id": "94a4acd9",
   "metadata": {},
   "source": [
    "After finding the line of best fit, we can use R^2, also known as the coefficient of determination, to tell us how much of our target can be explained by our features. In other words, how \"good\" is our line of best-fit."
   ]
  },
  {
   "attachments": {
    "R-squared-formula-linear-regression-model.jpg": {
     "image/jpeg": "[encoded data removed]"
    }
   },
   "cell_type": "markdown",
   "id": "c87d3c12",
   "metadata": {},
   "source": [
    "![R-squared-formula-linear-regression-model.jpg](attachment:R-squared-formula-linear-regression-model.jpg)"
   ]
  },
  {
   "cell_type": "markdown",
   "id": "087f7f5d",
   "metadata": {},
   "source": [
    "# Experiment 1"
   ]
  },
  {
   "cell_type": "markdown",
   "id": "daf15e27",
   "metadata": {},
   "source": [
    "## Data Understanding"
   ]
  },
  {
   "cell_type": "code",
   "execution_count": 4,
   "id": "3554a900",
   "metadata": {},
   "outputs": [
    {
     "data": {
      "text/html": [
       "<div>\n",
       "<style scoped>\n",
       "    .dataframe tbody tr th:only-of-type {\n",
       "        vertical-align: middle;\n",
       "    }\n",
       "\n",
       "    .dataframe tbody tr th {\n",
       "        vertical-align: top;\n",
       "    }\n",
       "\n",
       "    .dataframe thead th {\n",
       "        text-align: right;\n",
       "    }\n",
       "</style>\n",
       "<table border=\"1\" class=\"dataframe\">\n",
       "  <thead>\n",
       "    <tr style=\"text-align: right;\">\n",
       "      <th></th>\n",
       "      <th>Age</th>\n",
       "      <th>Years of Experience</th>\n",
       "      <th>Salary</th>\n",
       "    </tr>\n",
       "  </thead>\n",
       "  <tbody>\n",
       "    <tr>\n",
       "      <th>count</th>\n",
       "      <td>6702.000000</td>\n",
       "      <td>6701.000000</td>\n",
       "      <td>6699.000000</td>\n",
       "    </tr>\n",
       "    <tr>\n",
       "      <th>mean</th>\n",
       "      <td>33.620859</td>\n",
       "      <td>8.094687</td>\n",
       "      <td>115326.964771</td>\n",
       "    </tr>\n",
       "    <tr>\n",
       "      <th>std</th>\n",
       "      <td>7.614633</td>\n",
       "      <td>6.059003</td>\n",
       "      <td>52786.183911</td>\n",
       "    </tr>\n",
       "    <tr>\n",
       "      <th>min</th>\n",
       "      <td>21.000000</td>\n",
       "      <td>0.000000</td>\n",
       "      <td>350.000000</td>\n",
       "    </tr>\n",
       "    <tr>\n",
       "      <th>25%</th>\n",
       "      <td>28.000000</td>\n",
       "      <td>3.000000</td>\n",
       "      <td>70000.000000</td>\n",
       "    </tr>\n",
       "    <tr>\n",
       "      <th>50%</th>\n",
       "      <td>32.000000</td>\n",
       "      <td>7.000000</td>\n",
       "      <td>115000.000000</td>\n",
       "    </tr>\n",
       "    <tr>\n",
       "      <th>75%</th>\n",
       "      <td>38.000000</td>\n",
       "      <td>12.000000</td>\n",
       "      <td>160000.000000</td>\n",
       "    </tr>\n",
       "    <tr>\n",
       "      <th>max</th>\n",
       "      <td>62.000000</td>\n",
       "      <td>34.000000</td>\n",
       "      <td>250000.000000</td>\n",
       "    </tr>\n",
       "  </tbody>\n",
       "</table>\n",
       "</div>"
      ],
      "text/plain": [
       "               Age  Years of Experience         Salary\n",
       "count  6702.000000          6701.000000    6699.000000\n",
       "mean     33.620859             8.094687  115326.964771\n",
       "std       7.614633             6.059003   52786.183911\n",
       "min      21.000000             0.000000     350.000000\n",
       "25%      28.000000             3.000000   70000.000000\n",
       "50%      32.000000             7.000000  115000.000000\n",
       "75%      38.000000            12.000000  160000.000000\n",
       "max      62.000000            34.000000  250000.000000"
      ]
     },
     "execution_count": 4,
     "metadata": {},
     "output_type": "execute_result"
    }
   ],
   "source": [
    "df.describe()"
   ]
  },
  {
   "cell_type": "markdown",
   "id": "9bd31369",
   "metadata": {},
   "source": [
    "Before diving in, I decided to look at the mean and standard deviation for the numerical variables to get a better understanding of the data."
   ]
  },
  {
   "cell_type": "code",
   "execution_count": 5,
   "id": "4abe7d82",
   "metadata": {},
   "outputs": [
    {
     "data": {
      "text/plain": [
       "Text(0.5, 1.0, 'The Relationship Between Age and Salary')"
      ]
     },
     "execution_count": 5,
     "metadata": {},
     "output_type": "execute_result"
    },
    {
     "data": {
      "image/png": "[encoded data removed]",
      "text/plain": [
       "<Figure size 640x480 with 1 Axes>"
      ]
     },
     "metadata": {},
     "output_type": "display_data"
    }
   ],
   "source": [
    "sns.lineplot(data=df, x=\"Age\", y=\"Salary\")\n",
    "plt.title('The Relationship Between Age and Salary')"
   ]
  },
  {
   "cell_type": "markdown",
   "id": "a09b4889",
   "metadata": {},
   "source": [
    "Then, I plotted the relationship between age and salary. As you can see, there is a strong positive correlation suggesting that as age increases, salary tends to increase as well."
   ]
  },
  {
   "cell_type": "code",
   "execution_count": 6,
   "id": "448d8758",
   "metadata": {},
   "outputs": [
    {
     "data": {
      "text/plain": [
       "Text(0.5, 1.0, 'Years of Experience vs Salary')"
      ]
     },
     "execution_count": 6,
     "metadata": {},
     "output_type": "execute_result"
    },
    {
     "data": {
      "image/png": "[encoded data removed]",
      "text/plain": [
       "<Figure size 640x480 with 1 Axes>"
      ]
     },
     "metadata": {},
     "output_type": "display_data"
    }
   ],
   "source": [
    "sns.lineplot(data=df, x=\"Years of Experience\", y=\"Salary\")\n",
    "plt.title('Years of Experience vs Salary')"
   ]
  },
  {
   "cell_type": "markdown",
   "id": "0504a785",
   "metadata": {},
   "source": [
    "Next, I examined the relationship between years of experience and salary, which revealed a strong resemblance to the previous graph. This trend implies that individuals with more years of experience tend to have a higher salary."
   ]
  },
  {
   "cell_type": "markdown",
   "id": "34dc9fa2",
   "metadata": {},
   "source": [
    "The consistent, upward trajectory  depicted in the graphs underline the influence that both age and years of experience have over an individual's salary."
   ]
  },
  {
   "cell_type": "code",
   "execution_count": 7,
   "id": "0ba3cb11",
   "metadata": {},
   "outputs": [],
   "source": [
    "#Calculate the mean for males\n",
    "df_other = df[(df['Gender'] == 'Other') & (df['Salary'].notnull())]\n",
    "other_salary = df_other[\"Salary\"].mean()\n",
    "\n",
    "#Calculate the mean for females\n",
    "df_female = df[(df['Gender'] == 'Female') & (df['Salary'].notnull())]\n",
    "female_salary = df_female[\"Salary\"].mean()\n",
    "\n",
    "#Calculate the mean for other\n",
    "df_other = df[(df['Gender'] == 'Other') & (df['Salary'].notnull())]\n",
    "other_salary = df_other[\"Salary\"].mean()"
   ]
  },
  {
   "cell_type": "code",
   "execution_count": 8,
   "id": "848f4baf",
   "metadata": {},
   "outputs": [
    {
     "ename": "NameError",
     "evalue": "name 'male_salary' is not defined",
     "output_type": "error",
     "traceback": [
      "\u001b[1;31m---------------------------------------------------------------------------\u001b[0m",
      "\u001b[1;31mNameError\u001b[0m                                 Traceback (most recent call last)",
      "Cell \u001b[1;32mIn[8], line 1\u001b[0m\n\u001b[1;32m----> 1\u001b[0m plt\u001b[38;5;241m.\u001b[39mbar([\u001b[38;5;124m'\u001b[39m\u001b[38;5;124mMale\u001b[39m\u001b[38;5;124m'\u001b[39m,\u001b[38;5;124m'\u001b[39m\u001b[38;5;124mFemale\u001b[39m\u001b[38;5;124m'\u001b[39m,\u001b[38;5;124m'\u001b[39m\u001b[38;5;124mOther\u001b[39m\u001b[38;5;124m'\u001b[39m],[male_salary,female_salary,other_salary])\n\u001b[0;32m      2\u001b[0m plt\u001b[38;5;241m.\u001b[39mxlabel(\u001b[38;5;124m'\u001b[39m\u001b[38;5;124mGender\u001b[39m\u001b[38;5;124m'\u001b[39m)\n\u001b[0;32m      3\u001b[0m plt\u001b[38;5;241m.\u001b[39mylabel(\u001b[38;5;124m'\u001b[39m\u001b[38;5;124mSalary\u001b[39m\u001b[38;5;124m'\u001b[39m)\n",
      "\u001b[1;31mNameError\u001b[0m: name 'male_salary' is not defined"
     ]
    }
   ],
   "source": [
    "plt.bar(['Male','Female','Other'],[male_salary,female_salary,other_salary])\n",
    "plt.xlabel('Gender')\n",
    "plt.ylabel('Salary')\n",
    "plt.title('Average Salary Comparison by Gender')"
   ]
  },
  {
   "cell_type": "markdown",
   "id": "20348aa5",
   "metadata": {},
   "source": [
    "Finally, I wanted to see how gender affects salary. This bar chart illustrates a comparison of average salaries across different gender categories. The bar for males depicts an average salary of around 120,000 USD, while the female category shows an average salary of around 110,000 USD. Additionally, the 'Other' category indicates an average salary floating around 125,000 USD. This visual representation highlights the disparities in average salaries among the different gender groups, emphasizing potential variations in earnings based on gender."
   ]
  },
  {
   "cell_type": "markdown",
   "id": "cd6179de",
   "metadata": {},
   "source": [
    "These visualizations made a strong argument to use age, years of experience, and gender in our regression model to predict salary. "
   ]
  },
  {
   "cell_type": "markdown",
   "id": "61cb243e",
   "metadata": {},
   "source": [
    "## Pre-Processing The Data"
   ]
  },
  {
   "cell_type": "code",
   "execution_count": null,
   "id": "529f1040",
   "metadata": {},
   "outputs": [],
   "source": [
    "df.isna().sum()"
   ]
  },
  {
   "cell_type": "code",
   "execution_count": null,
   "id": "6dad5e24",
   "metadata": {
    "scrolled": true
   },
   "outputs": [],
   "source": [
    "df[df.isna().any(axis=1)]"
   ]
  },
  {
   "cell_type": "markdown",
   "id": "25e289a8",
   "metadata": {},
   "source": [
    "Searching for nulls. We can drop the first two rows immediately."
   ]
  },
  {
   "cell_type": "code",
   "execution_count": null,
   "id": "f672355d",
   "metadata": {},
   "outputs": [],
   "source": [
    "df = df.dropna(how='all')\n",
    "df[df.isna().any(axis=1)]"
   ]
  },
  {
   "cell_type": "markdown",
   "id": "3eaf6ae3",
   "metadata": {},
   "source": [
    "Dropping the 3rd row due to insufficient amount of information to fill in the null values."
   ]
  },
  {
   "cell_type": "code",
   "execution_count": null,
   "id": "d36a5042",
   "metadata": {},
   "outputs": [],
   "source": [
    "df = df.drop(5247)\n",
    "df[df.isna().any(axis=1)]"
   ]
  },
  {
   "cell_type": "code",
   "execution_count": null,
   "id": "4320798c",
   "metadata": {},
   "outputs": [],
   "source": [
    "df[df[\"Job Title\"] == \"Developer\"]"
   ]
  },
  {
   "cell_type": "markdown",
   "id": "b421eb93",
   "metadata": {},
   "source": [
    "I had planned to count the education levels for the 'Developer' job title and fill in the null value, but since this row is the only one with this job title, I'll drop it."
   ]
  },
  {
   "cell_type": "code",
   "execution_count": null,
   "id": "42271dbd",
   "metadata": {},
   "outputs": [],
   "source": [
    "df = df.drop(2011)\n",
    "df[df.isna().any(axis=1)]"
   ]
  },
  {
   "cell_type": "markdown",
   "id": "81f6a236",
   "metadata": {},
   "source": [
    "Now, for each of these rows, I'm going to take the average salary based on their education level, job title, and years of experience to fill in the null value."
   ]
  },
  {
   "cell_type": "code",
   "execution_count": null,
   "id": "39c84a76",
   "metadata": {},
   "outputs": [],
   "source": [
    "#Calculating the average salary for a full stack engineer with a masters and 8 years of experience\n",
    "df_eng = df[(df['Education Level'] == 'Master\\'s Degree') & (df['Job Title'] == 'Full Stack Engineer') & (df['Years of Experience'] == 8.0) & (df['Salary'].notnull())]\n",
    "eng_salary = df_eng[\"Salary\"].mean()\n",
    "\n",
    "#Replacing the null value\n",
    "df.loc[3136, [\"Salary\"]] = eng_salary\n",
    "df.loc[3136]"
   ]
  },
  {
   "cell_type": "code",
   "execution_count": null,
   "id": "09d7ff3b",
   "metadata": {},
   "outputs": [],
   "source": [
    "#Calculating the average salary for a sales director with a bachelor's and 6 years of experience\n",
    "df_sales = df[(df['Education Level'] == 'Bachelor\\'s Degree') & (df['Job Title'] == 'Sales Director') & (df['Years of Experience'] == 6.0) & (df['Salary'].notnull())]\n",
    "sales_salary = df_sales[\"Salary\"].mean()\n",
    "\n",
    "#Replacing the null value\n",
    "df.loc[6455, [\"Salary\"]] = sales_salary\n",
    "df.loc[6455]"
   ]
  },
  {
   "cell_type": "code",
   "execution_count": null,
   "id": "c04515d8",
   "metadata": {},
   "outputs": [],
   "source": [
    "#Dropping duplicates\n",
    "df = df.drop_duplicates(keep=\"first\")\n",
    "df.shape"
   ]
  },
  {
   "cell_type": "markdown",
   "id": "f9de3043",
   "metadata": {},
   "source": [
    "Dropping duplicates to reduce noise and prevent skewed results."
   ]
  },
  {
   "cell_type": "code",
   "execution_count": null,
   "id": "c7059c3f",
   "metadata": {},
   "outputs": [],
   "source": [
    "df=df.drop(axis=1, columns=\"Job Title\")\n",
    "df.head()"
   ]
  },
  {
   "cell_type": "markdown",
   "id": "ad82d983",
   "metadata": {},
   "source": [
    "Now, because regression models require numerical features, the \"Job Title\" column would have to undergo some encoding to be used. Although, considering the numerous job titles, this might introduce unnecessary complexity to the model. Therefore, I decided to drop the job title column altogether."
   ]
  },
  {
   "cell_type": "code",
   "execution_count": null,
   "id": "8fdbb80b",
   "metadata": {},
   "outputs": [],
   "source": [
    "df['Education Level'].unique()"
   ]
  },
  {
   "cell_type": "code",
   "execution_count": null,
   "id": "99adf4bc",
   "metadata": {},
   "outputs": [],
   "source": [
    "df.loc[df[\"Education Level\"] == 'Bachelor\\'s Degree', \"Education Level\"] = 'Bachelor\\'s'\n",
    "df.loc[df[\"Education Level\"] == 'Master\\'s Degree', \"Education Level\"] = 'Master\\'s'\n",
    "df.loc[df[\"Education Level\"] == 'phD', \"Education Level\"] = 'PhD'"
   ]
  },
  {
   "cell_type": "code",
   "execution_count": null,
   "id": "a9b130ec",
   "metadata": {},
   "outputs": [],
   "source": [
    "df['Education Level'].unique()"
   ]
  },
  {
   "cell_type": "markdown",
   "id": "a4e747ef",
   "metadata": {},
   "source": [
    "I realized the education levels were redundant, so I categorized them into: 'High School', 'Bachelors', 'Masters', and 'PhD' for the sake of consistency."
   ]
  },
  {
   "cell_type": "code",
   "execution_count": null,
   "id": "4246b1fb",
   "metadata": {},
   "outputs": [],
   "source": [
    "df = pd.get_dummies(df, columns = ['Gender', 'Education Level'])\n",
    "df.head()"
   ]
  },
  {
   "cell_type": "markdown",
   "id": "747e281f",
   "metadata": {},
   "source": [
    "I proceeded to one-hot encode the non-numerical columns to use in our model."
   ]
  },
  {
   "cell_type": "markdown",
   "id": "2bf8b3b4",
   "metadata": {},
   "source": [
    "## Modeling"
   ]
  },
  {
   "cell_type": "code",
   "execution_count": null,
   "id": "ec3a04b5",
   "metadata": {},
   "outputs": [],
   "source": [
    "from sklearn.preprocessing import StandardScaler\n",
    "from sklearn.model_selection import train_test_split\n",
    "from sklearn import linear_model, metrics\n",
    "from sklearn.compose import ColumnTransformer"
   ]
  },
  {
   "cell_type": "markdown",
   "id": "a05d7151",
   "metadata": {},
   "source": [
    "Before we build our model, we must standardize our numerical features."
   ]
  },
  {
   "cell_type": "code",
   "execution_count": null,
   "id": "dc76df4a",
   "metadata": {},
   "outputs": [],
   "source": [
    "# Identify the columns to be scaled\n",
    "columns_to_scale = ['Age', 'Years of Experience'] \n",
    "\n",
    "# Create a column transformer\n",
    "preprocessor = ColumnTransformer(\n",
    "    transformers=[\n",
    "        ('scaled', StandardScaler(), columns_to_scale)],\n",
    "    remainder='passthrough'  # To keep the other columns unchanged\n",
    ")\n",
    "\n",
    "# Apply the transformation to the data\n",
    "scaled = preprocessor.fit_transform(df)\n",
    "\n",
    "# Convert the array to a data frame\n",
    "X_scaled = pd.DataFrame(scaled,columns = df.columns)"
   ]
  },
  {
   "cell_type": "markdown",
   "id": "d9a30eb1",
   "metadata": {},
   "source": [
    "Now, we can separate our features from the target and fit the model."
   ]
  },
  {
   "cell_type": "code",
   "execution_count": null,
   "id": "078ee0ff",
   "metadata": {},
   "outputs": [],
   "source": [
    "#Separate the features and the target\n",
    "X = X_scaled.drop(axis=1, columns=\"Salary\")\n",
    "y = X_scaled[\"Salary\"]\n",
    "\n",
    "#Training and test split\n",
    "X_train, X_test, y_train, y_test = train_test_split(X, y, test_size = 0.2, random_state = 7)\n",
    "\n",
    "# initialize linear regression model\n",
    "lr = linear_model.LinearRegression()\n",
    "\n",
    "# fit the model with our X and y training sets\n",
    "lr_model = lr.fit(X_train, y_train)"
   ]
  },
  {
   "cell_type": "markdown",
   "id": "cc4819bf",
   "metadata": {},
   "source": [
    "## Evaluation"
   ]
  },
  {
   "cell_type": "code",
   "execution_count": null,
   "id": "cf914ec9",
   "metadata": {},
   "outputs": [],
   "source": [
    "y_pred = lr_model.predict(X_test)\n",
    "\n",
    "mae = metrics.mean_absolute_error(y_test, y_pred)\n",
    "rmse = metrics.mean_squared_error(y_test, y_pred,squared = False)\n",
    "\n",
    "print('Mean Absolute Error:', mae)\n",
    "print('Root Mean Square Error:', rmse)\n",
    "print('Coefficient of Determination:', lr.score(X_test,y_test))"
   ]
  },
  {
   "cell_type": "markdown",
   "id": "2ffb2f7f",
   "metadata": {},
   "source": [
    "For the model evaluation, I used the mean absolute error and root mean squared error metrics. I chose these two metrics because they are in the units of our target variable, making them easier to interpret. For both metrics, the closer it is to zero, the less errors are in our model. The mean absolute error is 22,891 meaning our salary prediction is about 22,891 USD off from the actual value. The root mean squared error says our salary prediction is 29,645 USD off from the actual salary."
   ]
  },
  {
   "cell_type": "markdown",
   "id": "bc84d465",
   "metadata": {},
   "source": [
    "I also included the coefficient of determination show how the model explains the variance in the dependent variables based on the independent variable. The score suggests the model accounts for about 64.6% of the variability in the data, leaving approximately 35.4% unexplained by the model."
   ]
  },
  {
   "cell_type": "markdown",
   "id": "470dc1bf",
   "metadata": {},
   "source": [
    "# Experiment 2"
   ]
  },
  {
   "cell_type": "markdown",
   "id": "54b9f1cd",
   "metadata": {},
   "source": [
    "For this experiment, I am going to drop the years of experience column and compare the results from the previous experiment."
   ]
  },
  {
   "cell_type": "code",
   "execution_count": null,
   "id": "24653878",
   "metadata": {},
   "outputs": [],
   "source": [
    "X = X_scaled.drop(axis=1, columns=['Years of Experience', 'Salary'])\n",
    "y = X_scaled[\"Salary\"]\n",
    "X.head()"
   ]
  },
  {
   "cell_type": "code",
   "execution_count": null,
   "id": "6782f0dc",
   "metadata": {},
   "outputs": [],
   "source": [
    "#Training and test split\n",
    "X_train, X_test, y_train, y_test = train_test_split(X, y, test_size = 0.2, random_state = 42)\n",
    "\n",
    "# initialize linear regression model\n",
    "lr = linear_model.LinearRegression()\n",
    "\n",
    "# fit the model with our X and y training sets\n",
    "lr_model = lr.fit(X_train, y_train)"
   ]
  },
  {
   "cell_type": "code",
   "execution_count": null,
   "id": "f6c6d0c4",
   "metadata": {},
   "outputs": [],
   "source": [
    "y_pred = lr_model.predict(X_test)\n",
    "mae = metrics.mean_absolute_error(y_test, y_pred)\n",
    "rmse = metrics.mean_squared_error(y_test, y_pred,squared = False)\n",
    "\n",
    "print('Mean Absolute Error:', mae)\n",
    "print('Root Mean Square Error:', rmse)\n",
    "print('Coefficient of Determination:', lr.score(X_test,y_test))"
   ]
  },
  {
   "cell_type": "markdown",
   "id": "7ad4ad35",
   "metadata": {},
   "source": [
    "Using the metrics, this model's results looks similar to the first experiment's results. We can conclude that years of experience doesn't have much of an impact on this model."
   ]
  },
  {
   "cell_type": "markdown",
   "id": "1fa3869a",
   "metadata": {},
   "source": [
    "# Experiment 3"
   ]
  },
  {
   "cell_type": "markdown",
   "id": "52905477",
   "metadata": {},
   "source": [
    "For this experiment, I'm dropping the education columns and comparing the results from the previous experiments."
   ]
  },
  {
   "cell_type": "code",
   "execution_count": null,
   "id": "82858011",
   "metadata": {},
   "outputs": [],
   "source": [
    "X = X_scaled.drop(axis=1, columns=['Education Level_Bachelor\\'s','Education Level_High School','Education Level_Master\\'s','Education Level_PhD','Salary'])\n",
    "y = X_scaled[\"Salary\"]\n",
    "X.head()"
   ]
  },
  {
   "cell_type": "code",
   "execution_count": null,
   "id": "e6014982",
   "metadata": {},
   "outputs": [],
   "source": [
    "#Training and test split\n",
    "X_train, X_test, y_train, y_test = train_test_split(X, y, test_size = 0.2, random_state = 7)\n",
    "\n",
    "# initialize linear regression model\n",
    "lr = linear_model.LinearRegression()\n",
    "\n",
    "# fit the model with our X and y training sets\n",
    "lr_model = lr.fit(X_train, y_train)"
   ]
  },
  {
   "cell_type": "code",
   "execution_count": null,
   "id": "7103f35c",
   "metadata": {},
   "outputs": [],
   "source": [
    "y_pred = lr_model.predict(X_test)\n",
    "mae = metrics.mean_absolute_error(y_test, y_pred)\n",
    "rmse = metrics.mean_squared_error(y_test, y_pred,squared = False)\n",
    "\n",
    "print('Mean Absolute Error:', mae)\n",
    "print('Root Mean Square Error:', rmse)\n",
    "print('Coefficient of Determination:', lr.score(X_test,y_test))"
   ]
  },
  {
   "cell_type": "markdown",
   "id": "8212647a",
   "metadata": {},
   "source": [
    "These metrics differ significantly from the previous two evaluations. Compared to the first experiment, both the mean absolute error and root mean squared error have increased by approximately 3,000. Moreover, the coefficient of determination demonstrates a substantial impact, dropping by 8%, from 64% to 58%. This experiment highlights the significant role of the 'education' feature in predicting salary, demonstrating its greater impact compared to experience."
   ]
  },
  {
   "cell_type": "markdown",
   "id": "c753f0aa",
   "metadata": {},
   "source": [
    "## Impact"
   ]
  },
  {
   "cell_type": "markdown",
   "id": "d1ad8910",
   "metadata": {},
   "source": [
    "By demonstrating the significant impact of education on salary prediction, this project has the potential to inspire individuals who are undecided about furthering their education. The correlation between education level and salary prediction can serve as an incentive for those contemplating returning to school. Highlighting the higher salary associated with higher education might encourage individuals to invest in their education.\n",
    "\n",
    "While showcasing the importance of education in salary prediction, it's essential to acknowledge that some individuals may face financial constraints that hinder their ability to pursue higher education. Individuals who aspire to pursue education but lack the financial means could become discouraged, potentially leading to a sense of decreased motivation to pursue professional growth."
   ]
  },
  {
   "cell_type": "markdown",
   "id": "ebcf280f",
   "metadata": {},
   "source": [
    "## Conclusion"
   ]
  },
  {
   "cell_type": "markdown",
   "id": "d85cbd53",
   "metadata": {},
   "source": [
    "I saw first-hand how much weight some features have over others. In my case, education had the most influence. During the third experiment, I initially removed the 'age' column and conducted a comparison of the results. However, due to the similarity with the outcomes of the first two experiments, I replaced it with the 'education' column. I also learned how important it is to use multiple metrics because they vary and have their own advantages/disadvantages."
   ]
  },
  {
   "cell_type": "markdown",
   "id": "8c8ff1f5",
   "metadata": {},
   "source": [
    "## References"
   ]
  },
  {
   "cell_type": "markdown",
   "id": "93ebc03f",
   "metadata": {},
   "source": [
    "- [Dataset](https://www.kaggle.com/datasets/mohithsairamreddy/salary-data/data)\n",
    "- [R-Squared formula](https://www.google.com/url?sa=i&url=https%3A%2F%2Fvitalflux.com%2Fr-squared-explained-machine-learning%2F&psig=AOvVaw1RveVMA5T2ohvfe3nddmGN&ust=1697658719560000&source=images&cd=vfe&opi=89978449&ved=0CBIQjhxqFwoTCNDPufHt_YEDFQAAAAAdAAAAABAI)\n",
    "- [Column Transformer](https://scikit-learn.org/stable/modules/generated/sklearn.compose.ColumnTransformer.html)"
   ]
  }
 ],
 "metadata": {
  "kernelspec": {
   "display_name": "Python 3 (ipykernel)",
   "language": "python",
   "name": "python3"
  },
  "language_info": {
   "codemirror_mode": {
    "name": "ipython",
    "version": 3
   },
   "file_extension": ".py",
   "mimetype": "text/x-python",
   "name": "python",
   "nbconvert_exporter": "python",
   "pygments_lexer": "ipython3",
   "version": "3.11.4"
  }
 },
 "nbformat": 4,
 "nbformat_minor": 5
}
