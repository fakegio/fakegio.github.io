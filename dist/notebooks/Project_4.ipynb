{
 "cells": [
  {
   "cell_type": "markdown",
   "id": "6d9616bf",
   "metadata": {},
   "source": [
    "# Project 4: Clustering Horror Movies"
   ]
  },
  {
   "cell_type": "markdown",
   "id": "b7cf3b8b",
   "metadata": {},
   "source": [
    "I've watched horror movies ever since I was a kid. Over the years, it's become increasingly challenging to discover ones I haven't already seen. As my list of viewed mainstream movies expands, I find myself delving deeper into niche movies.  Although,  I don't want to spend half of a movie just to figure out if I'll enjoy it or not. The main question I have is can I utilize clustering to identify horror movies I haven't watched and might enjoy?"
   ]
  },
  {
   "cell_type": "markdown",
   "id": "4d260c21",
   "metadata": {},
   "source": [
    "## What Is Clustering?"
   ]
  },
  {
   "cell_type": "markdown",
   "id": "43070528",
   "metadata": {},
   "source": [
    "Clustering is a machine learning technique that involves grouping data points. Data points in the same group have similar properties, while data in different groups have dissimilar properties."
   ]
  },
  {
   "cell_type": "markdown",
   "id": "b84e9aa1",
   "metadata": {},
   "source": [
    "In this project, I'm going to use a specific type of clustering called K-Means clustering. For K-Means Clustering, we must first decide how many clusters we want to have. We can decide on this by using what's called the elbow method. "
   ]
  },
  {
   "cell_type": "markdown",
   "id": "c8920805",
   "metadata": {},
   "source": [
    "The elbow method calculates and graphs the sum of the square distance between points in a cluster and the center of the cluster. It does this for a range of clusters, usually 1-10, and the number of clusters is decided on which K in the graph represents an \"elbow\"."
   ]
  },
  {
   "cell_type": "markdown",
   "id": "1bb09d02",
   "metadata": {},
   "source": [
    "After deciding on how many clusters we want to have in our model, we randomly initialize the centroids of each cluster. Each data point is categorized by calculating it's distance between each centroid and classifying the point to be in the group whose center is closest. After all data points are clustered, the center of each cluster is recalculated by taking the mean of its data points. This process is repeated until the clusters stop changing."
   ]
  },
  {
   "cell_type": "markdown",
   "id": "18816df6",
   "metadata": {},
   "source": [
    "## Introducing The Data"
   ]
  },
  {
   "cell_type": "markdown",
   "id": "44d38ba0",
   "metadata": {},
   "source": [
    "Introduce the data\n",
    "Where did you find it? What is the data about (include links)? What are the features (with additional explanations if not already self-explanatory from the name itself)?"
   ]
  },
  {
   "cell_type": "markdown",
   "id": "d605310c",
   "metadata": {},
   "source": [
    "I found my dataset on [Kaggle](https://www.kaggle.com/datasets/sujaykapadnis/horror-movies-dataset). The dataset includes horror movies dating back from the 1950s. The data includes 32,540 rows and 20 columns. The columns include:\n",
    "- id\n",
    "- original title\n",
    "- title\n",
    "- original language\n",
    "- movie description\n",
    "- movie tagline\n",
    "- release date\n",
    "- a url path to the poster\n",
    "- popularity (as of September 2023)\n",
    "- vote count (number of ratings)\n",
    "- vote average \n",
    "- budget\n",
    "- revenue\n",
    "- runtime in minutes\n",
    "- status (eg: released)\n",
    "- genre\n",
    "- collection id\n",
    "- collection name (series name)"
   ]
  },
  {
   "cell_type": "code",
   "execution_count": 2,
   "id": "ae55ad4d",
   "metadata": {},
   "outputs": [],
   "source": [
    "#import stuff\n",
    "import pandas as pd\n",
    "import numpy as np\n",
    "import matplotlib.pyplot as plt\n",
    "import seaborn as sns\n",
    "%matplotlib inline"
   ]
  },
  {
   "cell_type": "code",
   "execution_count": 3,
   "id": "773ad97b",
   "metadata": {},
   "outputs": [
    {
     "data": {
      "text/html": [
       "<div>\n",
       "<style scoped>\n",
       "    .dataframe tbody tr th:only-of-type {\n",
       "        vertical-align: middle;\n",
       "    }\n",
       "\n",
       "    .dataframe tbody tr th {\n",
       "        vertical-align: top;\n",
       "    }\n",
       "\n",
       "    .dataframe thead th {\n",
       "        text-align: right;\n",
       "    }\n",
       "</style>\n",
       "<table border=\"1\" class=\"dataframe\">\n",
       "  <thead>\n",
       "    <tr style=\"text-align: right;\">\n",
       "      <th></th>\n",
       "      <th>id</th>\n",
       "      <th>original_title</th>\n",
       "      <th>title</th>\n",
       "      <th>original_language</th>\n",
       "      <th>overview</th>\n",
       "      <th>tagline</th>\n",
       "      <th>release_date</th>\n",
       "      <th>poster_path</th>\n",
       "      <th>popularity</th>\n",
       "      <th>vote_count</th>\n",
       "      <th>vote_average</th>\n",
       "      <th>budget</th>\n",
       "      <th>revenue</th>\n",
       "      <th>runtime</th>\n",
       "      <th>status</th>\n",
       "      <th>adult</th>\n",
       "      <th>backdrop_path</th>\n",
       "      <th>genre_names</th>\n",
       "      <th>collection</th>\n",
       "      <th>collection_name</th>\n",
       "    </tr>\n",
       "  </thead>\n",
       "  <tbody>\n",
       "    <tr>\n",
       "      <th>0</th>\n",
       "      <td>760161</td>\n",
       "      <td>Orphan: First Kill</td>\n",
       "      <td>Orphan: First Kill</td>\n",
       "      <td>en</td>\n",
       "      <td>After escaping from an Estonian psychiatric fa...</td>\n",
       "      <td>There's always been something wrong with Esther.</td>\n",
       "      <td>2022-07-27</td>\n",
       "      <td>/pHkKbIRoCe7zIFvqan9LFSaQAde.jpg</td>\n",
       "      <td>5088.584</td>\n",
       "      <td>902</td>\n",
       "      <td>6.9</td>\n",
       "      <td>0</td>\n",
       "      <td>9572765</td>\n",
       "      <td>99</td>\n",
       "      <td>Released</td>\n",
       "      <td>False</td>\n",
       "      <td>/5GA3vV1aWWHTSDO5eno8V5zDo8r.jpg</td>\n",
       "      <td>Horror, Thriller</td>\n",
       "      <td>760193.0</td>\n",
       "      <td>Orphan Collection</td>\n",
       "    </tr>\n",
       "    <tr>\n",
       "      <th>1</th>\n",
       "      <td>760741</td>\n",
       "      <td>Beast</td>\n",
       "      <td>Beast</td>\n",
       "      <td>en</td>\n",
       "      <td>A recently widowed man and his two teenage dau...</td>\n",
       "      <td>Fight for family.</td>\n",
       "      <td>2022-08-11</td>\n",
       "      <td>/xIGr7UHsKf0URWmyyd5qFMAq4d8.jpg</td>\n",
       "      <td>2172.338</td>\n",
       "      <td>584</td>\n",
       "      <td>7.1</td>\n",
       "      <td>0</td>\n",
       "      <td>56000000</td>\n",
       "      <td>93</td>\n",
       "      <td>Released</td>\n",
       "      <td>False</td>\n",
       "      <td>/2k9tBql5GYH328Krj66tDT9LtFZ.jpg</td>\n",
       "      <td>Adventure, Drama, Horror</td>\n",
       "      <td>NaN</td>\n",
       "      <td>NaN</td>\n",
       "    </tr>\n",
       "    <tr>\n",
       "      <th>2</th>\n",
       "      <td>882598</td>\n",
       "      <td>Smile</td>\n",
       "      <td>Smile</td>\n",
       "      <td>en</td>\n",
       "      <td>After witnessing a bizarre, traumatic incident...</td>\n",
       "      <td>Once you see it, it’s too late.</td>\n",
       "      <td>2022-09-23</td>\n",
       "      <td>/hiaeZKzwsk4y4atFhmncO5KRxeT.jpg</td>\n",
       "      <td>1863.628</td>\n",
       "      <td>114</td>\n",
       "      <td>6.8</td>\n",
       "      <td>17000000</td>\n",
       "      <td>45000000</td>\n",
       "      <td>115</td>\n",
       "      <td>Released</td>\n",
       "      <td>False</td>\n",
       "      <td>/mVNPfpydornVe4H4UCIk7WevWjf.jpg</td>\n",
       "      <td>Horror, Mystery, Thriller</td>\n",
       "      <td>NaN</td>\n",
       "      <td>NaN</td>\n",
       "    </tr>\n",
       "    <tr>\n",
       "      <th>3</th>\n",
       "      <td>756999</td>\n",
       "      <td>The Black Phone</td>\n",
       "      <td>The Black Phone</td>\n",
       "      <td>en</td>\n",
       "      <td>Finney Blake, a shy but clever 13-year-old boy...</td>\n",
       "      <td>Never talk to strangers.</td>\n",
       "      <td>2022-06-22</td>\n",
       "      <td>/lr11mCT85T1JanlgjMuhs9nMht4.jpg</td>\n",
       "      <td>1071.398</td>\n",
       "      <td>2736</td>\n",
       "      <td>7.9</td>\n",
       "      <td>18800000</td>\n",
       "      <td>161000000</td>\n",
       "      <td>103</td>\n",
       "      <td>Released</td>\n",
       "      <td>False</td>\n",
       "      <td>/AfvIjhDu9p64jKcmohS4hsPG95Q.jpg</td>\n",
       "      <td>Horror, Thriller</td>\n",
       "      <td>NaN</td>\n",
       "      <td>NaN</td>\n",
       "    </tr>\n",
       "    <tr>\n",
       "      <th>4</th>\n",
       "      <td>772450</td>\n",
       "      <td>Presencias</td>\n",
       "      <td>Presences</td>\n",
       "      <td>es</td>\n",
       "      <td>A man who loses his wife and goes to seclude h...</td>\n",
       "      <td>NaN</td>\n",
       "      <td>2022-09-07</td>\n",
       "      <td>/dgDT3uol3mdvwEg0jt1ble3l9hw.jpg</td>\n",
       "      <td>1020.995</td>\n",
       "      <td>83</td>\n",
       "      <td>7.0</td>\n",
       "      <td>0</td>\n",
       "      <td>0</td>\n",
       "      <td>0</td>\n",
       "      <td>Released</td>\n",
       "      <td>False</td>\n",
       "      <td>/ojfzhdwRemcDt1I6pao6vVLw9AA.jpg</td>\n",
       "      <td>Horror</td>\n",
       "      <td>NaN</td>\n",
       "      <td>NaN</td>\n",
       "    </tr>\n",
       "  </tbody>\n",
       "</table>\n",
       "</div>"
      ],
      "text/plain": [
       "       id      original_title               title original_language  \\\n",
       "0  760161  Orphan: First Kill  Orphan: First Kill                en   \n",
       "1  760741               Beast               Beast                en   \n",
       "2  882598               Smile               Smile                en   \n",
       "3  756999     The Black Phone     The Black Phone                en   \n",
       "4  772450          Presencias           Presences                es   \n",
       "\n",
       "                                            overview  \\\n",
       "0  After escaping from an Estonian psychiatric fa...   \n",
       "1  A recently widowed man and his two teenage dau...   \n",
       "2  After witnessing a bizarre, traumatic incident...   \n",
       "3  Finney Blake, a shy but clever 13-year-old boy...   \n",
       "4  A man who loses his wife and goes to seclude h...   \n",
       "\n",
       "                                            tagline release_date  \\\n",
       "0  There's always been something wrong with Esther.   2022-07-27   \n",
       "1                                 Fight for family.   2022-08-11   \n",
       "2                   Once you see it, it’s too late.   2022-09-23   \n",
       "3                          Never talk to strangers.   2022-06-22   \n",
       "4                                               NaN   2022-09-07   \n",
       "\n",
       "                        poster_path  popularity  vote_count  vote_average  \\\n",
       "0  /pHkKbIRoCe7zIFvqan9LFSaQAde.jpg    5088.584         902           6.9   \n",
       "1  /xIGr7UHsKf0URWmyyd5qFMAq4d8.jpg    2172.338         584           7.1   \n",
       "2  /hiaeZKzwsk4y4atFhmncO5KRxeT.jpg    1863.628         114           6.8   \n",
       "3  /lr11mCT85T1JanlgjMuhs9nMht4.jpg    1071.398        2736           7.9   \n",
       "4  /dgDT3uol3mdvwEg0jt1ble3l9hw.jpg    1020.995          83           7.0   \n",
       "\n",
       "     budget    revenue  runtime    status  adult  \\\n",
       "0         0    9572765       99  Released  False   \n",
       "1         0   56000000       93  Released  False   \n",
       "2  17000000   45000000      115  Released  False   \n",
       "3  18800000  161000000      103  Released  False   \n",
       "4         0          0        0  Released  False   \n",
       "\n",
       "                      backdrop_path                genre_names  collection  \\\n",
       "0  /5GA3vV1aWWHTSDO5eno8V5zDo8r.jpg           Horror, Thriller    760193.0   \n",
       "1  /2k9tBql5GYH328Krj66tDT9LtFZ.jpg   Adventure, Drama, Horror         NaN   \n",
       "2  /mVNPfpydornVe4H4UCIk7WevWjf.jpg  Horror, Mystery, Thriller         NaN   \n",
       "3  /AfvIjhDu9p64jKcmohS4hsPG95Q.jpg           Horror, Thriller         NaN   \n",
       "4  /ojfzhdwRemcDt1I6pao6vVLw9AA.jpg                     Horror         NaN   \n",
       "\n",
       "     collection_name  \n",
       "0  Orphan Collection  \n",
       "1                NaN  \n",
       "2                NaN  \n",
       "3                NaN  \n",
       "4                NaN  "
      ]
     },
     "execution_count": 3,
     "metadata": {},
     "output_type": "execute_result"
    }
   ],
   "source": [
    "data = pd.read_csv(\"horror_movies.csv\")\n",
    "df = pd.DataFrame(data,columns = data.columns)\n",
    "df.head()"
   ]
  },
  {
   "cell_type": "markdown",
   "id": "3db155ba",
   "metadata": {},
   "source": [
    "## Data Pre-Processing"
   ]
  },
  {
   "cell_type": "code",
   "execution_count": 18,
   "id": "8eca539a",
   "metadata": {},
   "outputs": [
    {
     "data": {
      "text/plain": [
       "id                       0\n",
       "original_title           0\n",
       "title                    0\n",
       "original_language        0\n",
       "overview              1286\n",
       "tagline              19833\n",
       "release_date             0\n",
       "poster_path           4474\n",
       "popularity               0\n",
       "vote_count               0\n",
       "vote_average             0\n",
       "budget                   0\n",
       "revenue                  0\n",
       "runtime                  0\n",
       "status                   0\n",
       "adult                    0\n",
       "backdrop_path        18995\n",
       "genre_names              0\n",
       "collection           30234\n",
       "collection_name      30234\n",
       "dtype: int64"
      ]
     },
     "execution_count": 18,
     "metadata": {},
     "output_type": "execute_result"
    }
   ],
   "source": [
    "df.isnull().sum()"
   ]
  },
  {
   "cell_type": "markdown",
   "id": "954b68c8",
   "metadata": {},
   "source": [
    "Checking for nulls, given that most of the nulls are in columns that won't be necessary for this project, I'm going to drop the null values"
   ]
  },
  {
   "cell_type": "code",
   "execution_count": 22,
   "id": "3e603771",
   "metadata": {},
   "outputs": [],
   "source": [
    "df = df.dropna()"
   ]
  },
  {
   "cell_type": "markdown",
   "id": "97a1a81f",
   "metadata": {},
   "source": [
    "The data is well-structured and contains the information I need, so that will be it for pre-processing"
   ]
  },
  {
   "cell_type": "markdown",
   "id": "32727f62",
   "metadata": {},
   "source": [
    "## Data Visualization"
   ]
  },
  {
   "cell_type": "markdown",
   "id": "6ac0d427",
   "metadata": {},
   "source": [
    "In this step, I will be delving deeper into the data to get a better understanding and pick out features to use in my clustering model"
   ]
  },
  {
   "cell_type": "code",
   "execution_count": 8,
   "id": "1ee04861",
   "metadata": {},
   "outputs": [
    {
     "name": "stdout",
     "output_type": "stream",
     "text": [
      "<class 'pandas.core.frame.DataFrame'>\n",
      "RangeIndex: 32540 entries, 0 to 32539\n",
      "Data columns (total 20 columns):\n",
      " #   Column             Non-Null Count  Dtype  \n",
      "---  ------             --------------  -----  \n",
      " 0   id                 32540 non-null  int64  \n",
      " 1   original_title     32540 non-null  object \n",
      " 2   title              32540 non-null  object \n",
      " 3   original_language  32540 non-null  object \n",
      " 4   overview           31254 non-null  object \n",
      " 5   tagline            12707 non-null  object \n",
      " 6   release_date       32540 non-null  object \n",
      " 7   poster_path        28066 non-null  object \n",
      " 8   popularity         32540 non-null  float64\n",
      " 9   vote_count         32540 non-null  int64  \n",
      " 10  vote_average       32540 non-null  float64\n",
      " 11  budget             32540 non-null  int64  \n",
      " 12  revenue            32540 non-null  int64  \n",
      " 13  runtime            32540 non-null  int64  \n",
      " 14  status             32540 non-null  object \n",
      " 15  adult              32540 non-null  bool   \n",
      " 16  backdrop_path      13545 non-null  object \n",
      " 17  genre_names        32540 non-null  object \n",
      " 18  collection         2306 non-null   float64\n",
      " 19  collection_name    2306 non-null   object \n",
      "dtypes: bool(1), float64(3), int64(5), object(11)\n",
      "memory usage: 4.7+ MB\n"
     ]
    }
   ],
   "source": [
    "df.info()"
   ]
  },
  {
   "cell_type": "markdown",
   "id": "15b4140d",
   "metadata": {},
   "source": [
    "As you can see, there are many object types, most likely referring to the string values of each movie."
   ]
  },
  {
   "cell_type": "code",
   "execution_count": 6,
   "id": "44fef132",
   "metadata": {},
   "outputs": [
    {
     "data": {
      "text/html": [
       "<div>\n",
       "<style scoped>\n",
       "    .dataframe tbody tr th:only-of-type {\n",
       "        vertical-align: middle;\n",
       "    }\n",
       "\n",
       "    .dataframe tbody tr th {\n",
       "        vertical-align: top;\n",
       "    }\n",
       "\n",
       "    .dataframe thead th {\n",
       "        text-align: right;\n",
       "    }\n",
       "</style>\n",
       "<table border=\"1\" class=\"dataframe\">\n",
       "  <thead>\n",
       "    <tr style=\"text-align: right;\">\n",
       "      <th></th>\n",
       "      <th>id</th>\n",
       "      <th>popularity</th>\n",
       "      <th>vote_count</th>\n",
       "      <th>vote_average</th>\n",
       "      <th>budget</th>\n",
       "      <th>revenue</th>\n",
       "      <th>runtime</th>\n",
       "      <th>collection</th>\n",
       "    </tr>\n",
       "  </thead>\n",
       "  <tbody>\n",
       "    <tr>\n",
       "      <th>count</th>\n",
       "      <td>3.254000e+04</td>\n",
       "      <td>32540.000000</td>\n",
       "      <td>32540.000000</td>\n",
       "      <td>32540.000000</td>\n",
       "      <td>3.254000e+04</td>\n",
       "      <td>3.254000e+04</td>\n",
       "      <td>32540.000000</td>\n",
       "      <td>2.306000e+03</td>\n",
       "    </tr>\n",
       "    <tr>\n",
       "      <th>mean</th>\n",
       "      <td>4.459108e+05</td>\n",
       "      <td>4.013456</td>\n",
       "      <td>62.691487</td>\n",
       "      <td>3.335728</td>\n",
       "      <td>5.431266e+05</td>\n",
       "      <td>1.349747e+06</td>\n",
       "      <td>62.142901</td>\n",
       "      <td>4.815349e+05</td>\n",
       "    </tr>\n",
       "    <tr>\n",
       "      <th>std</th>\n",
       "      <td>3.057447e+05</td>\n",
       "      <td>37.513472</td>\n",
       "      <td>420.887474</td>\n",
       "      <td>2.876002</td>\n",
       "      <td>4.542668e+06</td>\n",
       "      <td>1.443048e+07</td>\n",
       "      <td>40.998527</td>\n",
       "      <td>3.244982e+05</td>\n",
       "    </tr>\n",
       "    <tr>\n",
       "      <th>min</th>\n",
       "      <td>1.700000e+01</td>\n",
       "      <td>0.000000</td>\n",
       "      <td>0.000000</td>\n",
       "      <td>0.000000</td>\n",
       "      <td>0.000000e+00</td>\n",
       "      <td>0.000000e+00</td>\n",
       "      <td>0.000000</td>\n",
       "      <td>6.560000e+02</td>\n",
       "    </tr>\n",
       "    <tr>\n",
       "      <th>25%</th>\n",
       "      <td>1.464948e+05</td>\n",
       "      <td>0.600000</td>\n",
       "      <td>0.000000</td>\n",
       "      <td>0.000000</td>\n",
       "      <td>0.000000e+00</td>\n",
       "      <td>0.000000e+00</td>\n",
       "      <td>14.000000</td>\n",
       "      <td>1.554210e+05</td>\n",
       "    </tr>\n",
       "    <tr>\n",
       "      <th>50%</th>\n",
       "      <td>4.265210e+05</td>\n",
       "      <td>0.840000</td>\n",
       "      <td>2.000000</td>\n",
       "      <td>4.000000</td>\n",
       "      <td>0.000000e+00</td>\n",
       "      <td>0.000000e+00</td>\n",
       "      <td>80.000000</td>\n",
       "      <td>4.712590e+05</td>\n",
       "    </tr>\n",
       "    <tr>\n",
       "      <th>75%</th>\n",
       "      <td>7.075340e+05</td>\n",
       "      <td>2.243250</td>\n",
       "      <td>11.000000</td>\n",
       "      <td>5.700000</td>\n",
       "      <td>0.000000e+00</td>\n",
       "      <td>0.000000e+00</td>\n",
       "      <td>91.000000</td>\n",
       "      <td>7.590672e+05</td>\n",
       "    </tr>\n",
       "    <tr>\n",
       "      <th>max</th>\n",
       "      <td>1.033095e+06</td>\n",
       "      <td>5088.584000</td>\n",
       "      <td>16900.000000</td>\n",
       "      <td>10.000000</td>\n",
       "      <td>2.000000e+08</td>\n",
       "      <td>7.018426e+08</td>\n",
       "      <td>683.000000</td>\n",
       "      <td>1.033032e+06</td>\n",
       "    </tr>\n",
       "  </tbody>\n",
       "</table>\n",
       "</div>"
      ],
      "text/plain": [
       "                 id    popularity    vote_count  vote_average        budget  \\\n",
       "count  3.254000e+04  32540.000000  32540.000000  32540.000000  3.254000e+04   \n",
       "mean   4.459108e+05      4.013456     62.691487      3.335728  5.431266e+05   \n",
       "std    3.057447e+05     37.513472    420.887474      2.876002  4.542668e+06   \n",
       "min    1.700000e+01      0.000000      0.000000      0.000000  0.000000e+00   \n",
       "25%    1.464948e+05      0.600000      0.000000      0.000000  0.000000e+00   \n",
       "50%    4.265210e+05      0.840000      2.000000      4.000000  0.000000e+00   \n",
       "75%    7.075340e+05      2.243250     11.000000      5.700000  0.000000e+00   \n",
       "max    1.033095e+06   5088.584000  16900.000000     10.000000  2.000000e+08   \n",
       "\n",
       "            revenue       runtime    collection  \n",
       "count  3.254000e+04  32540.000000  2.306000e+03  \n",
       "mean   1.349747e+06     62.142901  4.815349e+05  \n",
       "std    1.443048e+07     40.998527  3.244982e+05  \n",
       "min    0.000000e+00      0.000000  6.560000e+02  \n",
       "25%    0.000000e+00     14.000000  1.554210e+05  \n",
       "50%    0.000000e+00     80.000000  4.712590e+05  \n",
       "75%    0.000000e+00     91.000000  7.590672e+05  \n",
       "max    7.018426e+08    683.000000  1.033032e+06  "
      ]
     },
     "execution_count": 6,
     "metadata": {},
     "output_type": "execute_result"
    }
   ],
   "source": [
    "df.describe()"
   ]
  },
  {
   "cell_type": "markdown",
   "id": "3503b346",
   "metadata": {},
   "source": [
    "Given from this graph, the movies in this dataset contain, on average, 62 votes and a 3.34/10 rating."
   ]
  },
  {
   "cell_type": "markdown",
   "id": "77aea369",
   "metadata": {},
   "source": [
    "Next, I'm going to use a heatmap to choose features in our clustering model."
   ]
  },
  {
   "cell_type": "code",
   "execution_count": 14,
   "id": "12030864",
   "metadata": {},
   "outputs": [
    {
     "data": {
      "text/plain": [
       "<Axes: >"
      ]
     },
     "execution_count": 14,
     "metadata": {},
     "output_type": "execute_result"
    },
    {
     "data": {
      "image/png": "[encoded data removed]",
      "text/plain": [
       "<Figure size 640x480 with 2 Axes>"
      ]
     },
     "metadata": {},
     "output_type": "display_data"
    }
   ],
   "source": [
    "df_corr=df.select_dtypes(include=['int', 'float'])#only using float and int values\n",
    "\n",
    "sns.heatmap(df_corr.corr(),annot=True, fmt=\".2f\", cmap='coolwarm')"
   ]
  },
  {
   "cell_type": "markdown",
   "id": "9ca934d2",
   "metadata": {},
   "source": [
    "The strongest correlation seems to be with revenue and vote count which makes sense. High revenue movies tend to have more ratings, whether good or bad. Budget and revenue also have a correlation, suggesting that the higher a movie budget, the more generated revenue."
   ]
  },
  {
   "cell_type": "markdown",
   "id": "9831bd7e",
   "metadata": {},
   "source": [
    "From this heatmap, my chosen features are going to be revenue, vote count, and budget. I'm also going to include popularity and vote average, as I'm curious to see how these two features will affect our clusters."
   ]
  },
  {
   "cell_type": "markdown",
   "id": "e3dee3e5",
   "metadata": {},
   "source": [
    "## Modeling"
   ]
  },
  {
   "cell_type": "code",
   "execution_count": 57,
   "id": "a537e888",
   "metadata": {},
   "outputs": [],
   "source": [
    "from sklearn.cluster import KMeans\n",
    "import plotly.express as px"
   ]
  },
  {
   "cell_type": "markdown",
   "id": "7eac97d3",
   "metadata": {},
   "source": [
    "I'm going to be using K-Means clustering over agglomerative clustering due to having a large dataset (agglomerative clustering is resource-intensive). Also, agglomerative clustering is more sensitive to outliers. From our data visualization section, we see that on average, movies have a rating of 3.3/10 and the highest movie rating is a 10/10. The average vote count is 62 with the highest vote count being 16,900."
   ]
  },
  {
   "cell_type": "markdown",
   "id": "6ba6bafd",
   "metadata": {},
   "source": [
    "As I stated before, I'm going to be using revenue, vote count, budget, popularity and vote average for our features."
   ]
  },
  {
   "cell_type": "code",
   "execution_count": 23,
   "id": "0f14cd73",
   "metadata": {},
   "outputs": [],
   "source": [
    "X = df[[\"revenue\",\"vote_count\",\"budget\",\"popularity\",\"vote_average\"]]"
   ]
  },
  {
   "cell_type": "markdown",
   "id": "c9fdb11f",
   "metadata": {},
   "source": [
    "Before we can train our model, we have to specify the amount of clusters, K, we want. We can decide on an amount using the elbow method, as mentioned before."
   ]
  },
  {
   "cell_type": "code",
   "execution_count": 28,
   "id": "d5234d81",
   "metadata": {},
   "outputs": [
    {
     "data": {
      "text/plain": [
       "Text(0, 0.5, 'Variance')"
      ]
     },
     "execution_count": 28,
     "metadata": {},
     "output_type": "execute_result"
    },
    {
     "data": {
      "image/png": "[encoded data removed]",
      "text/plain": [
       "<Figure size 640x480 with 1 Axes>"
      ]
     },
     "metadata": {},
     "output_type": "display_data"
    }
   ],
   "source": [
    "inertia = []\n",
    "for k in range(1,8):\n",
    "    kmeans = KMeans(n_clusters=k, random_state=1,init=\"k-means++\", n_init=10).fit(X)\n",
    "    inertia.append(np.sqrt(kmeans.inertia_))\n",
    "plt.plot(range(1, 8), inertia, marker='s');\n",
    "plt.xlabel('$k$')\n",
    "plt.ylabel('Variance')"
   ]
  },
  {
   "cell_type": "markdown",
   "id": "fcaea2ff",
   "metadata": {},
   "source": [
    "I'd say the elbow point would be at 3, because the variance decrease rate starts to flatten out."
   ]
  },
  {
   "cell_type": "code",
   "execution_count": 32,
   "id": "bf17d449",
   "metadata": {},
   "outputs": [],
   "source": [
    "kmeans = KMeans(n_clusters=3, random_state=1, n_init=10).fit(X)\n",
    "y = kmeans.fit_predict(X)"
   ]
  },
  {
   "cell_type": "code",
   "execution_count": 53,
   "id": "56e0b21d",
   "metadata": {},
   "outputs": [
    {
     "data": {
      "text/plain": [
       "<Axes: xlabel='vote_count', ylabel='revenue'>"
      ]
     },
     "execution_count": 53,
     "metadata": {},
     "output_type": "execute_result"
    },
    {
     "data": {
      "image/png": "[encoded data removed]",
      "text/plain": [
       "<Figure size 640x480 with 1 Axes>"
      ]
     },
     "metadata": {},
     "output_type": "display_data"
    }
   ],
   "source": [
    "sns.scatterplot(x = X[\"vote_count\"], y = X[\"revenue\"], hue=y)"
   ]
  },
  {
   "cell_type": "code",
   "execution_count": 59,
   "id": "bbab2671",
   "metadata": {},
   "outputs": [
    {
     "data": {
      "application/vnd.plotly.v1+json": {
       "config": {
        "plotlyServerURL": "https://plot.ly"
       },
       "data": [
        {
         "customdata": [
          [
           "Orphan: First Kill",
           6.9,
           5088.584
          ],
          [
           "Jeepers Creepers: Reborn",
           5.8,
           821.605
          ],
          [
           "X",
           6.8,
           543.67
          ],
          [
           "The Jack in the Box: Awakening",
           6.4,
           527.579
          ],
          [
           "Halloween Kills",
           6.7,
           315.027
          ],
          [
           "Texas Chainsaw Massacre",
           5.3,
           293.443
          ],
          [
           "Scream",
           6.7,
           291.196
          ],
          [
           "Orphan",
           7,
           265.858
          ],
          [
           "Bring It On: Cheer or Die",
           6.2,
           253.614
          ],
          [
           "Jeepers Creepers 3",
           4.9,
           246.189
          ],
          [
           "The Conjuring: The Devil Made Me Do It",
           7.6,
           246.13
          ],
          [
           "The Addams Family 2",
           7.1,
           241.156
          ],
          [
           "It Chapter Two",
           6.9,
           230.451
          ],
          [
           "The Forever Purge",
           7.2,
           198.269
          ],
          [
           "Don't Breathe 2",
           7.3,
           196.003
          ],
          [
           "Jeepers Creepers",
           6.4,
           195.983
          ],
          [
           "The Conjuring",
           7.5,
           173.527
          ],
          [
           "Jeepers Creepers 2",
           6.1,
           169.063
          ],
          [
           "Halloween",
           6.5,
           158.374
          ],
          [
           "A Quiet Place Part II",
           7.6,
           153.956
          ],
          [
           "Paranormal Activity: Next of Kin",
           6.4,
           149.767
          ],
          [
           "Black Water: Abyss",
           5.1,
           147.567
          ],
          [
           "Bride of Chucky",
           6,
           139.831
          ],
          [
           "Wrong Turn 3: Left for Dead",
           5.6,
           138.012
          ],
          [
           "The Conjuring 2",
           7.3,
           137.18
          ],
          [
           "The Nun",
           5.8,
           131.032
          ],
          [
           "A Haunted House 2",
           6,
           125.807
          ],
          [
           "Wrong Turn 4: Bloody Beginnings",
           5.7,
           125.455
          ],
          [
           "Wrong Turn 2: Dead End",
           6,
           123.581
          ],
          [
           "Constantine",
           7,
           119.677
          ],
          [
           "The Meg",
           6.2,
           116.512
          ],
          [
           "Cult of Chucky",
           5.8,
           116.318
          ],
          [
           "The Addams Family",
           6.6,
           116.021
          ],
          [
           "Wrong Turn 5: Bloodlines",
           5.4,
           112.707
          ],
          [
           "Fear Street: 1994",
           6.8,
           111.397
          ],
          [
           "Terrifier 2",
           8,
           109.994
          ],
          [
           "Halloween",
           7.6,
           109.29
          ],
          [
           "A Haunted House",
           5.8,
           108.186
          ],
          [
           "The First Purge",
           6,
           108.11
          ],
          [
           "It",
           7.2,
           106.786
          ],
          [
           "Fear Street: 1978",
           7.3,
           105.156
          ],
          [
           "Straight Outta Nowhere: Scooby-Doo! Meets Courage the Cowardly Dog",
           8.1,
           103.618
          ],
          [
           "Seed of Chucky",
           5.4,
           102.731
          ],
          [
           "The Exorcist",
           7.7,
           101.991
          ],
          [
           "Army of the Dead",
           6.3,
           99.777
          ],
          [
           "Child's Play 2",
           6.2,
           97.858
          ],
          [
           "Halloween",
           6.2,
           97.161
          ],
          [
           "Dragon Fury",
           6,
           96.114
          ],
          [
           "Train to Busan",
           7.8,
           94.624
          ],
          [
           "Saw",
           7.4,
           93.053
          ],
          [
           "The Purge: Election Year",
           6.4,
           91.119
          ],
          [
           "Wrong Turn",
           6.3,
           90.04
          ],
          [
           "Child's Play 3",
           5.9,
           89.455
          ],
          [
           "Hellraiser",
           5.8,
           89.225
          ],
          [
           "Annabelle Comes Home",
           6.4,
           88.826
          ],
          [
           "The Texas Chainsaw Massacre",
           6.2,
           86.118
          ],
          [
           "Final Destination",
           6.6,
           83.626
          ],
          [
           "Curse of Chucky",
           5.9,
           82.858
          ],
          [
           "The Purge",
           6.3,
           81.585
          ],
          [
           "Annabelle: Creation",
           6.6,
           81.021
          ],
          [
           "The Ring",
           6.6,
           73.898
          ],
          [
           "Final Destination 5",
           6.1,
           73.733
          ],
          [
           "Alien: Covenant",
           6.1,
           73.672
          ],
          [
           "Insidious",
           6.9,
           73.643
          ],
          [
           "Aliens vs Predator: Requiem",
           5.1,
           73.039
          ],
          [
           "Paranormal Activity: The Marked Ones",
           5.4,
           73.028
          ],
          [
           "Goosebumps",
           6.3,
           72.726
          ],
          [
           "Freddy vs. Jason",
           6,
           72.488
          ],
          [
           "Paranormal Activity",
           6,
           71.944
          ],
          [
           "The Craft: Legacy",
           6.3,
           71.202
          ],
          [
           "The Texas Chainsaw Massacre: The Beginning",
           6.1,
           69.979
          ],
          [
           "[REC]",
           7.2,
           68.845
          ],
          [
           "Nobody Sleeps in the Woods Tonight",
           5.3,
           68.493
          ],
          [
           "Annabelle",
           5.7,
           68.243
          ],
          [
           "Halloween 4: The Return of Michael Myers",
           6.1,
           68.198
          ],
          [
           "Insidious: Chapter 2",
           6.7,
           68.172
          ],
          [
           "Scream",
           7.4,
           67.783
          ],
          [
           "The Human Centipede (First Sequence)",
           5.2,
           67.63
          ],
          [
           "Underworld: Awakening",
           6.3,
           67.467
          ],
          [
           "Final Destination 3",
           6.1,
           67.459
          ],
          [
           "Fear Street: 1666",
           7.3,
           66.278
          ],
          [
           "Sinister",
           6.8,
           65.319
          ],
          [
           "Zombieland",
           7.3,
           65.001
          ],
          [
           "Goosebumps 2: Haunted Halloween",
           6.1,
           64.989
          ],
          [
           "Final Destination 2",
           6.2,
           64.18
          ],
          [
           "A Quiet Place",
           7.4,
           63.493
          ],
          [
           "The Shining",
           8.2,
           63.472
          ],
          [
           "Underworld: Blood Wars",
           5.8,
           63.45
          ],
          [
           "Hellraiser",
           6.9,
           63.431
          ],
          [
           "Peninsula",
           6.8,
           62.868
          ],
          [
           "The Hills Have Eyes",
           6.4,
           62.574
          ],
          [
           "Candyman",
           6.1,
           62.465
          ],
          [
           "Freddy's Dead: The Final Nightmare",
           5.3,
           61.784
          ],
          [
           "The Purge: Anarchy",
           6.7,
           61.71
          ],
          [
           "Alien",
           8.1,
           60.982
          ],
          [
           "Terrifier",
           6.5,
           60.726
          ],
          [
           "Escape Room: Tournament of Champions",
           6.7,
           60.72
          ],
          [
           "Saw II",
           6.6,
           60.408
          ],
          [
           "Megalodon",
           5.7,
           60.183
          ],
          [
           "Halloween II",
           5.4,
           59.789
          ],
          [
           "Attack on Titan II: End of the World",
           5.9,
           59.771
          ],
          [
           "Dinosaur Hotel",
           5.2,
           59.573
          ],
          [
           "Anacondas: The Hunt for the Blood Orchid",
           5.4,
           59.552
          ],
          [
           "Saw III",
           6.4,
           59.343
          ],
          [
           "Friday the 13th",
           6.4,
           58.957
          ],
          [
           "Halloween 5: The Revenge of Michael Myers",
           5.4,
           58.22
          ],
          [
           "Blade",
           6.7,
           57.899
          ],
          [
           "I Spit on Your Grave",
           6.5,
           57.811
          ],
          [
           "The Texas Chain Saw Massacre",
           7.3,
           57.809
          ],
          [
           "The Thing",
           8,
           56.545
          ],
          [
           "Veronica",
           6.2,
           56.39
          ],
          [
           "Insidious: The Last Key",
           6.2,
           56.103
          ],
          [
           "Texas Chainsaw 3D",
           5.5,
           55.817
          ],
          [
           "Paranormal Activity 3",
           5.9,
           55.508
          ],
          [
           "Saw IV",
           6.2,
           54.942
          ],
          [
           "I Spit on Your Grave III: Vengeance is Mine",
           5.7,
           53.578
          ],
          [
           "The Hills Have Eyes 2",
           5.5,
           53.301
          ],
          [
           "28 Weeks Later",
           6.6,
           53.104
          ],
          [
           "Don't Breathe",
           7,
           53.069
          ],
          [
           "The Final Destination",
           5.6,
           53.023
          ],
          [
           "Halloween: The Curse of Michael Myers",
           5.2,
           52.474
          ],
          [
           "The Human Centipede 2 (Full Sequence)",
           4.8,
           51.967
          ],
          [
           "[REC]⁴ Apocalypse",
           5.5,
           51.876
          ],
          [
           "Deep Blue Sea 3",
           5.8,
           51.476
          ],
          [
           "Jaws",
           7.6,
           51.381
          ],
          [
           "Scream 2",
           6.4,
           51.026
          ],
          [
           "AVP: Alien vs. Predator",
           5.9,
           50.996
          ],
          [
           "Hostel",
           5.9,
           50.839
          ],
          [
           "The Babysitter: Killer Queen",
           6.4,
           50.778
          ],
          [
           "Piranha 3D",
           5.4,
           50.603
          ],
          [
           "Van Helsing",
           6.3,
           50.495
          ],
          [
           "Halloween II",
           6.5,
           50.085
          ],
          [
           "Evil Dead",
           6.5,
           49.982
          ],
          [
           "Hostel: Part II",
           5.8,
           49.793
          ],
          [
           "I Spit on Your Grave 2",
           6.3,
           49.755
          ],
          [
           "28 Days Later",
           7.2,
           49.268
          ],
          [
           "Friday the 13th: The Final Chapter",
           6.1,
           48.887
          ],
          [
           "Insidious: Chapter 3",
           6.3,
           48.653
          ],
          [
           "Halloween: Resurrection",
           4.7,
           47.79
          ],
          [
           "The Ring Two",
           5.7,
           47.482
          ],
          [
           "Saw 3D",
           6,
           47.018
          ],
          [
           "Carrie",
           7.3,
           46.915
          ],
          [
           "The Blair Witch Project",
           6.3,
           46.286
          ],
          [
           "The Evil Dead",
           7.3,
           46.079
          ],
          [
           "Friday the 13th Part 2",
           6.1,
           45.906
          ],
          [
           "Leprechaun 3",
           5.9,
           45.746
          ],
          [
           "Ouija",
           5.2,
           45.058
          ],
          [
           "The Grudge",
           5.9,
           44.825
          ],
          [
           "[REC]³ Genesis",
           5.2,
           44.643
          ],
          [
           "Saw V",
           6.2,
           44.561
          ],
          [
           "A Nightmare on Elm Street",
           7.3,
           44.489
          ],
          [
           "Fright Night",
           7,
           44.473
          ],
          [
           "Pet Sematary",
           6.6,
           43.608
          ],
          [
           "Interview with the Vampire",
           7.4,
           42.674
          ],
          [
           "Saw VI",
           6.3,
           42.6
          ],
          [
           "Scream 4",
           6.4,
           42.342
          ],
          [
           "Psycho",
           8.4,
           42.064
          ],
          [
           "An American Werewolf in London",
           7.4,
           41.806
          ],
          [
           "Army of Darkness",
           7.3,
           41.242
          ],
          [
           "Halloween H20: 20 Years Later",
           6,
           41.178
          ],
          [
           "The Descent",
           6.9,
           40.383
          ],
          [
           "Resident Evil: Damnation",
           6.8,
           40.315
          ],
          [
           "Anaconda",
           5.1,
           40.311
          ],
          [
           "Leprechaun",
           5.6,
           40.194
          ],
          [
           "Poltergeist",
           7.1,
           40.123
          ],
          [
           "Tremors",
           6.8,
           40.012
          ],
          [
           "The Amityville Horror",
           6.1,
           39.997
          ],
          [
           "Blade: Trinity",
           5.9,
           39.805
          ],
          [
           "Leprechaun 2",
           5.6,
           39.55
          ],
          [
           "Blade II",
           6.5,
           39.411
          ],
          [
           "Jigsaw",
           6.2,
           39.398
          ],
          [
           "The Boy",
           5.9,
           38.999
          ],
          [
           "The Return of the Living Dead",
           7.2,
           38.791
          ],
          [
           "The Strangers: Prey at Night",
           5.6,
           38.516
          ],
          [
           "Hellraiser: Hellworld",
           4.8,
           38.501
          ],
          [
           "Rings",
           5,
           38.303
          ],
          [
           "Pearl",
           7,
           38.183
          ],
          [
           "Halloween III: Season of the Witch",
           5.1,
           38.146
          ],
          [
           "A Nightmare on Elm Street Part 2: Freddy's Revenge",
           5.8,
           38.067
          ],
          [
           "The Last House on the Left",
           6.4,
           38.056
          ],
          [
           "Species",
           5.9,
           38.051
          ],
          [
           "The Descent: Part 2",
           5.9,
           38.029
          ],
          [
           "Hellbound: Hellraiser II",
           6.4,
           37.92
          ],
          [
           "The Exorcist III",
           6.2,
           37.903
          ],
          [
           "Ouija: Origin of Evil",
           6.1,
           37.821
          ],
          [
           "Friday the 13th Part VI: Jason Lives",
           6.2,
           37.545
          ],
          [
           "Scream 3",
           5.9,
           37.529
          ],
          [
           "A Nightmare on Elm Street 4: The Dream Master",
           5.8,
           37.502
          ],
          [
           "Bordello of Blood",
           5.9,
           37.441
          ],
          [
           "[REC]²",
           6.6,
           37.108
          ],
          [
           "Wolf Creek 2",
           6.3,
           36.644
          ],
          [
           "Leatherface",
           5.5,
           36.593
          ],
          [
           "Escape Room",
           6.5,
           36.573
          ],
          [
           "Jason X",
           4.8,
           36.342
          ],
          [
           "Friday the 13th Part VIII: Jason Takes Manhattan",
           5,
           36.337
          ],
          [
           "Silent Hill: Revelation 3D",
           5.5,
           36.244
          ],
          [
           "The Babysitter",
           6.1,
           35.85
          ],
          [
           "Piranha",
           5.9,
           35.829
          ],
          [
           "Silent Hill",
           6.5,
           35.639
          ],
          [
           "Lights Out",
           6.3,
           35.639
          ],
          [
           "Leprechaun: Back 2 tha Hood",
           5.2,
           35.458
          ],
          [
           "Happy Death Day",
           6.6,
           35.43
          ],
          [
           "Friday the 13th Part III",
           5.8,
           35.313
          ],
          [
           "The Craft",
           6.7,
           35.18
          ],
          [
           "Wishmaster 2: Evil Never Dies",
           5.5,
           35.088
          ],
          [
           "Suspiria",
           7.5,
           34.891
          ],
          [
           "Children of the Corn",
           5.7,
           34.686
          ],
          [
           "I Know What You Did Last Summer",
           5.9,
           34.017
          ],
          [
           "Leatherface: The Texas Chainsaw Massacre III",
           5.3,
           33.339
          ],
          [
           "The Texas Chainsaw Massacre 2",
           5.6,
           33.29
          ],
          [
           "The Empire of Corpses",
           6,
           33.239
          ],
          [
           "Exorcist II: The Heretic",
           4.5,
           32.967
          ],
          [
           "Pet Sematary",
           5.7,
           32.935
          ],
          [
           "Hostel: Part III",
           5.1,
           32.318
          ],
          [
           "See No Evil",
           5.4,
           32.164
          ],
          [
           "Hellraiser: Deader",
           4.7,
           31.757
          ],
          [
           "The Return of the Texas Chainsaw Massacre",
           4.4,
           31.468
          ],
          [
           "Critters",
           6.4,
           31.428
          ],
          [
           "Sinister 2",
           5.8,
           31.394
          ],
          [
           "Messengers 2: The Scarecrow",
           5.4,
           31.216
          ],
          [
           "Forbidden Empire",
           5.9,
           31.129
          ],
          [
           "Happy Death Day 2U",
           6.3,
           30.925
          ],
          [
           "Grave Encounters 2",
           5.5,
           30.872
          ],
          [
           "House of 1000 Corpses",
           6.2,
           30.568
          ],
          [
           "Hellraiser III: Hell on Earth",
           5.7,
           30.562
          ],
          [
           "New Nightmare",
           6.4,
           30.385
          ],
          [
           "Friday the 13th Part VII: The New Blood",
           5.4,
           30.38
          ],
          [
           "Creepshow",
           6.9,
           30.331
          ],
          [
           "Friday the 13th: A New Beginning",
           5.3,
           30.247
          ],
          [
           "The Birds",
           7.5,
           30.096
          ],
          [
           "Gremlins",
           7.1,
           30.063
          ],
          [
           "Doctor Sleep",
           7.2,
           29.402
          ],
          [
           "The Howling",
           6.5,
           29.36
          ],
          [
           "Gremlins 2: The New Batch",
           6.4,
           29.242
          ],
          [
           "Paranormal Activity 2",
           5.7,
           29.023
          ],
          [
           "Robert Reborn",
           3.9,
           28.911
          ],
          [
           "Creepshow 3",
           4.7,
           28.786
          ],
          [
           "Doom: Annihilation",
           4.9,
           28.724
          ],
          [
           "Ginger Snaps",
           6.8,
           28.2
          ],
          [
           "Hellraiser: Inferno",
           5.4,
           28.195
          ],
          [
           "Brahms: The Boy II",
           6,
           28.004
          ],
          [
           "30 Days of Night",
           6.4,
           27.909
          ],
          [
           "Return of the Living Dead III",
           6.6,
           27.871
          ],
          [
           "The Thing",
           6.2,
           27.719
          ],
          [
           "47 Meters Down",
           5.8,
           27.688
          ],
          [
           "Ringu",
           7.1,
           27.596
          ],
          [
           "The Omen",
           7.4,
           27.545
          ],
          [
           "The Collector",
           6.6,
           27.476
          ],
          [
           "The Strangers",
           6.1,
           27.332
          ],
          [
           "The Woman in Black 2: Angel of Death",
           5.2,
           27.191
          ],
          [
           "I Spit on Your Grave",
           6,
           27.131
          ],
          [
           "The Human Centipede 3 (Final Sequence)",
           3.7,
           27.09
          ],
          [
           "Paranormal Activity 4",
           5.4,
           26.924
          ],
          [
           "Alien Resurrection",
           6.1,
           26.916
          ],
          [
           "Leprechaun in the Hood",
           5.1,
           26.911
          ],
          [
           "House",
           6.1,
           26.73
          ],
          [
           "Unfriended",
           5.5,
           26.72
          ],
          [
           "Anaconda 3: Offspring",
           4.8,
           26.672
          ],
          [
           "Hellraiser: Hellseeker",
           4.9,
           26.19
          ],
          [
           "Jaws 2",
           5.9,
           26.18
          ],
          [
           "Piranha 3DD",
           4.3,
           26.066
          ],
          [
           "From Dusk Till Dawn",
           7,
           25.818
          ],
          [
           "Wolf Creek",
           6.2,
           25.809
          ],
          [
           "Exorcist: The Beginning",
           5.4,
           25.745
          ],
          [
           "The Bridge Curse",
           6.5,
           25.721
          ],
          [
           "The Messengers",
           5.7,
           25.592
          ],
          [
           "47 Meters Down: Uncaged",
           5.7,
           25.522
          ],
          [
           "Resident Evil: Apocalypse",
           6.3,
           25.504
          ],
          [
           "Candyman",
           6.6,
           25.43
          ],
          [
           "Mirrors",
           6.2,
           25.389
          ],
          [
           "Jaws: The Revenge",
           4.1,
           25.29
          ],
          [
           "Night of the Living Dead",
           7.6,
           25.289
          ],
          [
           "Dawn of the Dead",
           7.5,
           25.198
          ],
          [
           "Tremors 2: Aftershocks",
           6.2,
           25.188
          ],
          [
           "Silent Night, Deadly Night",
           5.8,
           24.794
          ],
          [
           "Zoombies",
           5.2,
           24.788
          ],
          [
           "Anacondas: Trail of Blood",
           4.8,
           24.47
          ],
          [
           "Resident Evil",
           6.6,
           24.356
          ],
          [
           "Grave Encounters",
           6.3,
           24.32
          ],
          [
           "Leprechaun Returns",
           6,
           24.287
          ],
          [
           "Unfriended: Dark Web",
           6.3,
           24.191
          ],
          [
           "Hellraiser: Judgment",
           5.1,
           24.182
          ],
          [
           "Pet Sematary II",
           5.3,
           24.157
          ],
          [
           "An American Werewolf in Paris",
           5.9,
           24.146
          ],
          [
           "Jaws 3-D",
           4.4,
           24.146
          ],
          [
           "The Fly",
           7.4,
           24.061
          ],
          [
           "Paranormal Activity: The Ghost Dimension",
           5.3,
           24.036
          ],
          [
           "The Skeleton Key",
           6.6,
           23.969
          ],
          [
           "The Haunting in Connecticut 2: Ghosts of Georgia",
           5.8,
           23.934
          ],
          [
           "Species III",
           5.3,
           23.901
          ],
          [
           "The Amityville Horror",
           6.3,
           23.878
          ],
          [
           "Leprechaun 4: In Space",
           4.6,
           23.875
          ],
          [
           "30 Days of Night: Dark Days",
           4.9,
           23.715
          ],
          [
           "Dominion: Prequel to The Exorcist",
           5.3,
           23.695
          ],
          [
           "The Lost Boys",
           7.1,
           23.542
          ],
          [
           "Darlin'",
           5.5,
           23.513
          ],
          [
           "Leprechaun: Origins",
           4.7,
           23.492
          ],
          [
           "The Collection",
           6.3,
           23.464
          ],
          [
           "Satan's Slaves",
           6.7,
           23.425
          ],
          [
           "Poltergeist II: The Other Side",
           6,
           23.377
          ],
          [
           "V/H/S",
           6.1,
           23.35
          ],
          [
           "Dead Space: Downfall",
           6.2,
           23.337
          ],
          [
           "Book of Shadows: Blair Witch 2",
           4.2,
           23.306
          ],
          [
           "I Still Know What You Did Last Summer",
           5.3,
           23.219
          ],
          [
           "Sadako vs. Kayako",
           5.4,
           23.105
          ],
          [
           "V/H/S/94",
           6.3,
           23.043
          ],
          [
           "Rosemary's Baby",
           7.8,
           22.975
          ],
          [
           "Creep 2",
           6.3,
           22.877
          ],
          [
           "The Woman in Black",
           6.1,
           22.819
          ],
          [
           "Hellraiser: Bloodline",
           5.3,
           22.544
          ],
          [
           "Blair Witch",
           5.2,
           22.395
          ],
          [
           "Tremors 3: Back to Perfection",
           5.8,
           22.373
          ],
          [
           "Vacancy",
           6.2,
           22.325
          ],
          [
           "Ju-on: The Grudge",
           6.7,
           22.301
          ],
          [
           "The Grudge 2",
           5.5,
           22.217
          ],
          [
           "Deep Blue Sea 2",
           5.1,
           22.013
          ],
          [
           "Species II",
           5.1,
           21.794
          ],
          [
           "Urban Legends: Final Cut",
           4.8,
           21.559
          ],
          [
           "Hellraiser: Revelations",
           3.6,
           21.545
          ],
          [
           "Ginger Snaps 2: Unleashed",
           6.5,
           21.484
          ],
          [
           "A Nightmare on Elm Street 3: Dream Warriors",
           6.7,
           21.198
          ],
          [
           "Fright Night",
           6.2,
           21.17
          ],
          [
           "The Last Exorcism",
           5.6,
           21.06
          ],
          [
           "A Nightmare on Elm Street: The Dream Child",
           5.4,
           20.909
          ],
          [
           "Resident Evil: Degeneration",
           6.8,
           20.906
          ],
          [
           "Land of the Dead",
           6.2,
           20.544
          ],
          [
           "Lake Placid",
           5.9,
           20.488
          ],
          [
           "Cabin Fever",
           5.7,
           20.364
          ],
          [
           "Amityville II: The Possession",
           5.8,
           20.16
          ],
          [
           "Dracula 2000",
           5.1,
           20.145
          ],
          [
           "Critters 2",
           6,
           20.123
          ],
          [
           "Alien³",
           6.3,
           19.883
          ],
          [
           "Boo 2! A Madea Halloween",
           5.7,
           19.835
          ],
          [
           "V/H/S/2",
           6.2,
           19.644
          ],
          [
           "Tusk",
           5.5,
           19.296
          ],
          [
           "Deep Blue Sea",
           5.9,
           19.294
          ],
          [
           "Doom",
           5.1,
           19.26
          ],
          [
           "Open Water",
           5.5,
           19.112
          ],
          [
           "Wishmaster 4: The Prophecy Fulfilled",
           4.6,
           18.827
          ],
          [
           "The Grudge 3",
           5.4,
           18.813
          ],
          [
           "Amityville: The Awakening",
           5.4,
           18.767
          ],
          [
           "Tremors 4: The Legend Begins",
           5.6,
           18.695
          ],
          [
           "Swamp Thing",
           5.4,
           18.641
          ],
          [
           "Species: The Awakening",
           4.7,
           18.637
          ],
          [
           "The Gallows",
           5,
           18.548
          ],
          [
           "I'll Always Know What You Did Last Summer",
           4.3,
           18.538
          ],
          [
           "Poltergeist III",
           5.2,
           18.531
          ],
          [
           "Queen of the Damned",
           6.1,
           18.506
          ],
          [
           "All Hallows' Eve",
           5.9,
           18.378
          ],
          [
           "Mirrors 2",
           5.5,
           18.309
          ],
          [
           "American Psycho II: All American Girl",
           4.6,
           18.281
          ],
          [
           "Tokyo Ghoul 'S'",
           6.7,
           18.238
          ],
          [
           "The Haunting in Connecticut",
           6.2,
           18.168
          ],
          [
           "Pulse",
           5,
           18.137
          ],
          [
           "Scooby-Doo! Frankencreepy",
           7.8,
           17.711
          ],
          [
           "Survival of the Dead",
           4.9,
           17.627
          ],
          [
           "Day Watch",
           6.1,
           17.544
          ],
          [
           "Wishmaster 3: Beyond the Gates of Hell",
           4.4,
           17.425
          ],
          [
           "Lake Placid 3",
           5.3,
           17.338
          ],
          [
           "Dead Snow",
           6,
           17.114
          ],
          [
           "Cage Dive",
           4.6,
           17.114
          ],
          [
           "3 from Hell",
           5.9,
           17.106
          ],
          [
           "Open Water 2: Adrift",
           5.5,
           17.096
          ],
          [
           "Re-Animator",
           7,
           17.048
          ],
          [
           "The Last House on the Left",
           6,
           16.966
          ],
          [
           "Vampires",
           6.3,
           16.921
          ],
          [
           "The Crow: Salvation",
           5.4,
           16.866
          ],
          [
           "Fright Night Part 2",
           6.4,
           16.865
          ],
          [
           "V/H/S: Viral",
           4.9,
           16.663
          ],
          [
           "Critters 3",
           5.1,
           16.561
          ],
          [
           "The Devil's Rejects",
           6.8,
           16.424
          ],
          [
           "Mimic",
           6,
           16.409
          ],
          [
           "Medusa: Queen of the Serpents",
           6.3,
           16.399
          ],
          [
           "House on Haunted Hill",
           5.6,
           16.294
          ],
          [
           "Silent Night, Deadly Night Part 2",
           4.6,
           16.282
          ],
          [
           "Prom Night",
           5.7,
           16.274
          ],
          [
           "Alone in the Dark",
           3.2,
           16.253
          ],
          [
           "Quarantine 2: Terminal",
           5.7,
           16.223
          ],
          [
           "Children of the Corn II: The Final Sacrifice",
           4.8,
           16.22
          ],
          [
           "The Stepfather",
           6.5,
           16.199
          ],
          [
           "Vampires: Los Muertos",
           5.4,
           16.191
          ],
          [
           "Dracula II: Ascension",
           5.6,
           16.058
          ],
          [
           "The Last Exorcism Part II",
           4.7,
           16.057
          ],
          [
           "Starship Troopers 2: Hero of the Federation",
           4.3,
           16.009
          ],
          [
           "Psycho II",
           6.4,
           16.001
          ],
          [
           "Cabin Fever 2: Spring Fever",
           4.5,
           15.97
          ],
          [
           "Day of the Dead",
           7,
           15.962
          ],
          [
           "Dead Snow 2: Red vs. Dead",
           6.6,
           15.94
          ],
          [
           "Urban Legends: Bloody Mary",
           4.9,
           15.84
          ],
          [
           "Creature from the Black Lagoon",
           6.9,
           15.758
          ],
          [
           "The Cell",
           6.3,
           15.71
          ],
          [
           "See No Evil 2",
           5.4,
           15.566
          ],
          [
           "The Reef: Stalked",
           6.3,
           15.533
          ],
          [
           "Village of the Damned",
           7.2,
           15.516
          ],
          [
           "Omen IV: The Awakening",
           5.1,
           15.415
          ],
          [
           "Godzilla Raids Again",
           6,
           15.389
          ],
          [
           "The Hitcher",
           7,
           15.342
          ],
          [
           "Omen III: The Final Conflict",
           5.8,
           15.321
          ],
          [
           "The Fly II",
           5.5,
           15.288
          ],
          [
           "The House by the Cemetery",
           6.1,
           15.266
          ],
          [
           "Cold Prey",
           6.2,
           15.212
          ],
          [
           "The Rocky Horror Picture Show",
           7.5,
           15.202
          ],
          [
           "Boo! A Madea Halloween",
           5.7,
           14.994
          ],
          [
           "Creepshow 2",
           6.2,
           14.978
          ],
          [
           "Crocodile",
           5.3,
           14.929
          ],
          [
           "The Fly",
           7.1,
           14.889
          ],
          [
           "Godzilla",
           7.6,
           14.815
          ],
          [
           "Warlock: The Armageddon",
           5.3,
           14.802
          ],
          [
           "Zombie Flesh Eaters",
           6.6,
           14.667
          ],
          [
           "Dracula",
           7.3,
           14.65
          ],
          [
           "Ouija: Deadly Reunion",
           4.9,
           14.597
          ],
          [
           "Scanners",
           6.7,
           14.422
          ],
          [
           "Hatchet",
           5.8,
           14.42
          ],
          [
           "The Blob",
           6.3,
           14.249
          ],
          [
           "Urban Legend",
           5.7,
           14.192
          ],
          [
           "Yoga Hosers",
           4.7,
           14.067
          ],
          [
           "Quarantine",
           5.8,
           14.059
          ],
          [
           "Godzilla, King of the Monsters!",
           6.6,
           13.969
          ],
          [
           "The Golden Voyage of Sinbad",
           6.6,
           13.913
          ],
          [
           "Emanuelle and the Last Cannibals",
           4.9,
           13.815
          ],
          [
           "Laid to Rest",
           5.2,
           13.805
          ],
          [
           "Mimic 2",
           5.3,
           13.673
          ],
          [
           "White Noise",
           5.6,
           13.653
          ],
          [
           "Howling Village",
           5.3,
           13.636
          ],
          [
           "The Hills Have Eyes",
           6.2,
           13.5
          ],
          [
           "Feast",
           6.2,
           13.423
          ],
          [
           "The Stepford Wives",
           6.7,
           13.352
          ],
          [
           "Damien: Omen II",
           6.4,
           13.287
          ],
          [
           "5 Headed Shark Attack",
           3.6,
           13.272
          ],
          [
           "Wishmaster",
           6,
           13.226
          ],
          [
           "Pumpkinhead",
           6.3,
           13.113
          ],
          [
           "Cabin Fever: Patient Zero",
           5,
           13.089
          ],
          [
           "Inferno",
           6.7,
           13.079
          ],
          [
           "City of the Living Dead",
           6.3,
           13.03
          ],
          [
           "Becky",
           6.4,
           13.017
          ],
          [
           "Pumpkinhead II: Blood Wings",
           5.4,
           12.97
          ],
          [
           "BloodRayne",
           4.2,
           12.952
          ],
          [
           "Dracula III: Legacy",
           5,
           12.945
          ],
          [
           "Shark Attack 3: Megalodon",
           4.3,
           12.932
          ],
          [
           "Children of the Corn IV: The Gathering",
           4.5,
           12.932
          ],
          [
           "The Crow: Wicked Prayer",
           3.4,
           12.858
          ],
          [
           "3-Headed Shark Attack",
           4.2,
           12.823
          ],
          [
           "Resident Evil: Extinction",
           6.3,
           12.617
          ],
          [
           "Night of the Demons 2",
           6.2,
           12.597
          ],
          [
           "Wyrmwood: Apocalypse",
           5.6,
           12.521
          ],
          [
           "Children of the Corn: Revelation",
           4,
           12.465
          ],
          [
           "Demons",
           6.6,
           12.433
          ],
          [
           "Wyrmwood: Road of the Dead",
           6.1,
           12.431
          ],
          [
           "2-Headed Shark Attack",
           4.2,
           12.421
          ],
          [
           "Joker's Poltergeist",
           4.3,
           12.385
          ],
          [
           "BloodRayne 2: Deliverance",
           4.1,
           12.358
          ],
          [
           "Boogeyman 2",
           5.5,
           12.334
          ],
          [
           "Rape Zombie: Lust of the Dead 5",
           5.5,
           12.327
          ],
          [
           "Children of the Corn V: Fields of Terror",
           4,
           12.273
          ],
          [
           "Critters Attack!",
           5,
           12.252
          ],
          [
           "One Missed Call",
           6.1,
           12.137
          ],
          [
           "The Hidden",
           7,
           12.103
          ],
          [
           "The Prophecy",
           6.5,
           12.044
          ],
          [
           "The Rage: Carrie 2",
           5.7,
           12.025
          ],
          [
           "Bhool Bhulaiyaa 2",
           6.7,
           12.004
          ],
          [
           "Children of the Corn III: Urban Harvest",
           4.7,
           11.984
          ],
          [
           "Tales from the Crypt: Demon Knight",
           6.8,
           11.97
          ],
          [
           "Psycho IV: The Beginning",
           5.6,
           11.819
          ],
          [
           "Sharknado",
           3.9,
           11.762
          ],
          [
           "The Woman",
           6.1,
           11.627
          ],
          [
           "Phantasm",
           6.6,
           11.607
          ],
          [
           "Stir of Echoes",
           6.7,
           11.572
          ],
          [
           "Vacancy 2: The First Cut",
           5.3,
           11.571
          ],
          [
           "Nekromantik",
           5.3,
           11.566
          ],
          [
           "Hollow Man II",
           4.9,
           11.509
          ],
          [
           "The Reef",
           5.7,
           11.506
          ],
          [
           "The Stakelander",
           5.8,
           11.492
          ],
          [
           "Sleepaway Camp",
           6.3,
           11.407
          ],
          [
           "The Lawnmower Man",
           5.6,
           11.382
          ],
          [
           "Godzilla vs. Biollante",
           7.2,
           11.296
          ],
          [
           "Return of the Living Dead Part II",
           6.2,
           11.282
          ],
          [
           "One Cut of the Dead",
           7.7,
           11.247
          ],
          [
           "V/H/S/99",
           4.3,
           11.243
          ],
          [
           "Return of the Living Dead: Rave to the Grave",
           5.3,
           11.239
          ],
          [
           "Maniac",
           6.4,
           11.219
          ],
          [
           "The Cured",
           5.6,
           11.18
          ],
          [
           "Quatermass 2",
           6.5,
           11.178
          ],
          [
           "Grizzly II: Revenge",
           3.3,
           11.172
          ],
          [
           "Victor Crowley",
           5.7,
           11.152
          ],
          [
           "Planet of the Sharks",
           3.8,
           11.088
          ],
          [
           "Screamers: The Hunting",
           5,
           11.025
          ],
          [
           "Decoys",
           4.8,
           11.004
          ],
          [
           "Lost Boys: The Tribe",
           4.7,
           10.989
          ],
          [
           "Black Water",
           5.9,
           10.975
          ],
          [
           "The Thinning",
           6.9,
           10.937
          ],
          [
           "Henry: Portrait of a Serial Killer",
           6.8,
           10.926
          ],
          [
           "Boogeyman",
           4.9,
           10.898
          ],
          [
           "Emanuelle Around the World",
           5.6,
           10.818
          ],
          [
           "Lavalantula",
           5,
           10.75
          ],
          [
           "Howling II: Stirba - Werewolf Bitch",
           5.2,
           10.734
          ],
          [
           "Puppet Master",
           5.8,
           10.717
          ],
          [
           "Silent Night Deadly Night 4: Initiation",
           4.3,
           10.715
          ],
          [
           "Alligator",
           5.9,
           10.71
          ],
          [
           "Bats",
           4.6,
           10.654
          ],
          [
           "Dark Night of the Scarecrow",
           6.6,
           10.632
          ],
          [
           "Fright Night 2: New Blood",
           4.8,
           10.581
          ],
          [
           "Mostly Ghostly: Have You Met My Ghoulfriend?",
           5.8,
           10.578
          ],
          [
           "Tales from the Hood",
           6.1,
           10.53
          ],
          [
           "Stepfather 2",
           5.4,
           10.433
          ],
          [
           "Ghoulies",
           4.8,
           10.416
          ],
          [
           "The Thinning: New World Order",
           7.2,
           10.394
          ],
          [
           "Night of the Demons III",
           5.6,
           10.38
          ],
          [
           "Satan's Slaves 2: Communion",
           7.3,
           10.334
          ],
          [
           "Contracted",
           5.3,
           10.322
          ],
          [
           "The Eye",
           6.5,
           10.319
          ],
          [
           "The Prophecy II",
           6.2,
           10.293
          ],
          [
           "Night of the Demons",
           5,
           10.276
          ],
          [
           "August Underground",
           4.3,
           10.271
          ],
          [
           "The Prophecy 3: The Ascent",
           6.1,
           10.245
          ],
          [
           "The Toxic Avenger",
           6.3,
           10.214
          ],
          [
           "2001 Maniacs",
           5.3,
           10.204
          ],
          [
           "Diary of the Dead",
           5.6,
           10.191
          ],
          [
           "Ringu 0",
           6.2,
           10.163
          ],
          [
           "Children of the Corn 666: Isaac's Return",
           4.8,
           10.163
          ],
          [
           "Greta, the Mad Butcher",
           4.6,
           10.161
          ],
          [
           "The Hills Have Eyes Part II",
           4.5,
           10.142
          ],
          [
           "Mega Shark vs. Crocosaurus",
           4,
           10.129
          ],
          [
           "Demons 2",
           6.1,
           10.111
          ],
          [
           "The ABCs of Death",
           5,
           10.088
          ],
          [
           "The Gate",
           6,
           10.085
          ],
          [
           "The Tag-Along",
           6,
           10.063
          ],
          [
           "Buried Alive",
           6.6,
           9.989
          ],
          [
           "Candyman: Day of the Dead",
           4.7,
           9.974
          ],
          [
           "Hatchet II",
           5.5,
           9.959
          ],
          [
           "Three… Extremes",
           6.8,
           9.952
          ],
          [
           "Stake Land",
           6.2,
           9.922
          ],
          [
           "Screamers",
           6.2,
           9.911
          ],
          [
           "Dracula: Prince of Darkness",
           6.8,
           9.905
          ],
          [
           "The Car",
           6.3,
           9.884
          ],
          [
           "Malibu Shark Attack",
           3.9,
           9.835
          ],
          [
           "Troll",
           4.9,
           9.774
          ],
          [
           "Mega Shark vs. Kolossus",
           4.4,
           9.703
          ],
          [
           "Breaking Wind",
           3.4,
           9.677
          ],
          [
           "House of the Dead",
           3.2,
           9.663
          ],
          [
           "Python",
           5,
           9.651
          ],
          [
           "The Howling: Reborn",
           4.8,
           9.646
          ],
          [
           "Psycho III",
           5.5,
           9.632
          ],
          [
           "Return of the Living Dead: Necropolis",
           5.4,
           9.632
          ],
          [
           "Amityville 3-D",
           4.6,
           9.618
          ],
          [
           "Blood Monkey",
           5.6,
           9.589
          ],
          [
           "Twins of Evil",
           6.8,
           9.579
          ],
          [
           "Robert",
           4.1,
           9.566
          ],
          [
           "The Return of Swamp Thing",
           5.6,
           9.491
          ],
          [
           "The Dentist",
           5.6,
           9.468
          ],
          [
           "White Noise 2: The Light",
           5.5,
           9.465
          ],
          [
           "Maniac Cop",
           6.2,
           9.46
          ],
          [
           "C.H.U.D.",
           5.7,
           9.442
          ],
          [
           "Pumpkinhead: Blood Feud",
           5.8,
           9.44
          ],
          [
           "Dead in Tombstone",
           5,
           9.423
          ],
          [
           "Lawnmower Man 2: Beyond Cyberspace",
           2.9,
           9.386
          ],
          [
           "BloodRayne: The Third Reich",
           3.9,
           9.378
          ],
          [
           "Wishing Stairs",
           6.2,
           9.356
          ],
          [
           "Bride of Re-Animator",
           6.2,
           9.352
          ],
          [
           "Mega Shark vs. Giant Octopus",
           3.9,
           9.299
          ],
          [
           "Ginger Snaps Back: The Beginning",
           6.1,
           9.243
          ],
          [
           "Lesson of the Evil",
           6.6,
           9.232
          ],
          [
           "The Curse of Frankenstein",
           6.8,
           9.196
          ],
          [
           "Hatchet III",
           5.7,
           9.183
          ],
          [
           "Maniac Cop 2",
           5.9,
           9.165
          ],
          [
           "He Never Died",
           6.1,
           9.109
          ],
          [
           "Warlock",
           6.3,
           9.103
          ],
          [
           "Sleepaway Camp II: Unhappy Campers",
           5.9,
           9.091
          ],
          [
           "Seed",
           3.9,
           9.072
          ],
          [
           "I Spit on Your Grave: Déjà Vu",
           3.1,
           9.049
          ],
          [
           "Piranha II: The Spawning",
           4.4,
           9.044
          ],
          [
           "Mostly Ghostly",
           6.3,
           9.039
          ],
          [
           "Rare Exports: A Christmas Tale",
           6.3,
           9
          ],
          [
           "Return to Horror High",
           5.4,
           8.993
          ],
          [
           "Night of the Demons",
           6.2,
           8.963
          ],
          [
           "The Beyond",
           6.9,
           8.952
          ],
          [
           "Troll 2",
           3.9,
           8.933
          ],
          [
           "Critters 4",
           5,
           8.932
          ],
          [
           "Sharktopus",
           4.5,
           8.925
          ],
          [
           "The Second Arrival",
           3.8,
           8.924
          ],
          [
           "The Eye 3: Infinity",
           5.2,
           8.842
          ],
          [
           "Amityville: A New Generation",
           4,
           8.841
          ],
          [
           "Dead Space: Aftermath",
           6,
           8.832
          ],
          [
           "Phantasm III: Lord of the Dead",
           5.8,
           8.818
          ],
          [
           "Blacula",
           5.5,
           8.813
          ],
          [
           "Aileen Wuornos: American Boogeywoman",
           5.6,
           8.795
          ],
          [
           "Waxwork",
           6.2,
           8.783
          ],
          [
           "Gamera: Guardian of the Universe",
           7.7,
           8.725
          ],
          [
           "Hello Mary Lou: Prom Night II",
           5.8,
           8.717
          ],
          [
           "Reeker",
           5.8,
           8.716
          ],
          [
           "Anatomy",
           6,
           8.708
          ],
          [
           "Jack Frost",
           5.2,
           8.697
          ],
          [
           "Puppet Master 4",
           5.9,
           8.67
          ],
          [
           "The Satanic Rites of Dracula",
           5.6,
           8.663
          ],
          [
           "Inhuman Kiss",
           6.3,
           8.661
          ],
          [
           "ChromeSkull: Laid to Rest 2",
           5,
           8.647
          ],
          [
           "The Prophecy: Uprising",
           5,
           8.641
          ],
          [
           "Beyond Re-Animator",
           5.6,
           8.525
          ],
          [
           "Zombie Massacre",
           5.1,
           8.521
          ],
          [
           "In the Spider's Web",
           4.9,
           8.487
          ],
          [
           "The Pact",
           5.7,
           8.457
          ],
          [
           "14 Cameras",
           5.2,
           8.452
          ],
          [
           "Amityville 1992: It's About Time",
           4.5,
           8.424
          ],
          [
           "Suicide Club",
           6.6,
           8.412
          ],
          [
           "The Machine Girl",
           6,
           8.406
          ],
          [
           "Darkman II: The Return of Durant",
           5.4,
           8.319
          ],
          [
           "Sharktopus vs. Pteracuda",
           4.1,
           8.313
          ],
          [
           "House II: The Second Story",
           5.5,
           8.308
          ],
          [
           "Feast II: Sloppy Seconds",
           5.2,
           8.307
          ],
          [
           "The Brides of Dracula",
           6.9,
           8.297
          ],
          [
           "The Quatermass Xperiment",
           6.7,
           8.292
          ],
          [
           "Silent Night, Deadly Night 5: The Toy Maker",
           5,
           8.282
          ],
          [
           "Dracula A.D. 1972",
           6,
           8.267
          ],
          [
           "Lost Boys: The Thirst",
           5.1,
           8.263
          ],
          [
           "The Toxic Avenger Part II",
           5.5,
           8.226
          ],
          [
           "The Curse",
           5.1,
           8.2
          ],
          [
           "Shark Attack 2",
           4.9,
           8.164
          ],
          [
           "Art of the Devil 3",
           6.6,
           8.133
          ],
          [
           "The Ouija Experiment 2: Theatre of Death",
           4.4,
           8.106
          ],
          [
           "Blood Feast",
           4.7,
           8.102
          ],
          [
           "Godzilla vs. Megaguirus",
           6.7,
           8.077
          ],
          [
           "Quatermass and the Pit",
           6.7,
           8.065
          ],
          [
           "The Vampire Lovers",
           6.5,
           8.065
          ],
          [
           "Contracted: Phase II",
           5.3,
           8.065
          ],
          [
           "Gamera 3: Revenge of Iris",
           7.6,
           8.026
          ],
          [
           "Alone in the Dark 2",
           3.8,
           8.013
          ],
          [
           "The Mummy",
           6.9,
           8.007
          ],
          [
           "Gamera, the Giant Monster",
           6.1,
           8.001
          ],
          [
           "Howling III: The Marsupials",
           4.7,
           7.997
          ],
          [
           "6-Headed Shark Attack",
           4.2,
           7.985
          ],
          [
           "2 Lava 2 Lantula!",
           5,
           7.984
          ],
          [
           "Scream Blacula Scream",
           6.1,
           7.975
          ],
          [
           "Candyman: Farewell to the Flesh",
           5.4,
           7.971
          ],
          [
           "The Dentist 2",
           5,
           7.952
          ],
          [
           "Attack of the Killer Tomatoes!",
           4.9,
           7.929
          ],
          [
           "Phantasm IV: Oblivion",
           5.3,
           7.909
          ],
          [
           "The 3rd Eye 2",
           5.7,
           7.897
          ],
          [
           "Taste the Blood of Dracula",
           6.2,
           7.878
          ],
          [
           "8213: Gacy House",
           3.3,
           7.863
          ],
          [
           "The Pact II",
           4.9,
           7.844
          ],
          [
           "Basket Case",
           6.4,
           7.8
          ],
          [
           "Trilogy of Terror",
           6.2,
           7.79
          ],
          [
           "Ghoulies II",
           5.2,
           7.758
          ],
          [
           "Amityville: The Evil Escapes",
           4.5,
           7.687
          ],
          [
           "Terror Trap",
           5,
           7.682
          ],
          [
           "Pumpkinhead: Ashes to Ashes",
           5.3,
           7.668
          ],
          [
           "Ilsa: She Wolf of the SS",
           6.1,
           7.657
          ],
          [
           "Dracula Has Risen from the Grave",
           6.7,
           7.621
          ],
          [
           "Art of the Devil 2",
           6.4,
           7.613
          ],
          [
           "The Abominable Dr. Phibes",
           6.9,
           7.587
          ],
          [
           "Feast III: The Happy Finish",
           4.8,
           7.58
          ],
          [
           "The Curse of Robert the Doll",
           3.2,
           7.572
          ],
          [
           "Bhool Bhulaiyaa",
           6.6,
           7.566
          ],
          [
           "The Haunting of Molly Hartley",
           4.4,
           7.556
          ],
          [
           "Puppet Master: The Littlest Reich",
           5.7,
           7.531
          ],
          [
           "Xtro",
           5.7,
           7.479
          ],
          [
           "The Horror Show",
           5.3,
           7.471
          ],
          [
           "Basket Case 3: The Progeny",
           5.2,
           7.465
          ],
          [
           "Bereavement",
           5.2,
           7.464
          ],
          [
           "Vampires: The Turning",
           4.1,
           7.461
          ],
          [
           "The Amityville Curse",
           3.7,
           7.459
          ],
          [
           "The Prophecy V: Forsaken",
           5.2,
           7.457
          ],
          [
           "Darkman III: Die Darkman Die",
           5,
           7.447
          ],
          [
           "Demonic Toys",
           5.4,
           7.424
          ],
          [
           "Sometimes They Come Back... Again",
           5,
           7.378
          ],
          [
           "Return of the Killer Tomatoes!",
           5.7,
           7.374
          ],
          [
           "Citizen Toxie: The Toxic Avenger IV",
           6.4,
           7.371
          ],
          [
           "Sorority House Massacre",
           4.6,
           7.361
          ],
          [
           "Outpost",
           6,
           7.359
          ],
          [
           "Phantasm II",
           6.3,
           7.347
          ],
          [
           "976-EVIL",
           5.1,
           7.324
          ],
          [
           "The Dead",
           5.6,
           7.32
          ],
          [
           "Return of the Fly",
           6.1,
           7.314
          ],
          [
           "Death Bell",
           6.5,
           7.31
          ],
          [
           "The 3rd Eye",
           5.5,
           7.31
          ],
          [
           "Howling V: The Rebirth",
           4.8,
           7.308
          ],
          [
           "ABCs of Death 2",
           5.3,
           7.283
          ],
          [
           "Hell House LLC III: Lake of Fire",
           5.1,
           7.273
          ],
          [
           "Return to Sleepaway Camp",
           6,
           7.25
          ],
          [
           "Ben",
           6,
           7.245
          ],
          [
           "Python 2",
           5.7,
           7.196
          ],
          [
           "The Hamiltons",
           5,
           7.183
          ],
          [
           "4bia",
           6.3,
           7.119
          ],
          [
           "Paranormal Entity",
           5.3,
           7.105
          ],
          [
           "Cold Prey II",
           6.3,
           7.055
          ],
          [
           "Hannibal Rising",
           6.2,
           7.051
          ],
          [
           "Puppet Master 5: The Final Chapter",
           5.1,
           7.007
          ],
          [
           "Alligator 2: The Mutation",
           4.2,
           6.987
          ],
          [
           "Krampus: The Devil Returns",
           4.1,
           6.985
          ],
          [
           "13 Cameras",
           5.1,
           6.982
          ],
          [
           "When a Stranger Calls",
           6.2,
           6.98
          ],
          [
           "Revenge of the Creature",
           5.8,
           6.963
          ],
          [
           "Art of the Devil",
           6.4,
           6.939
          ],
          [
           "The Zombie Diaries",
           4.4,
           6.905
          ],
          [
           "Amityville: Dollhouse",
           4.4,
           6.894
          ],
          [
           "Scars of Dracula",
           6,
           6.875
          ],
          [
           "Abbott and Costello Meet the Invisible Man",
           6.8,
           6.86
          ],
          [
           "Children of the Damned",
           6.2,
           6.855
          ],
          [
           "The Boogey Man",
           4.7,
           6.853
          ],
          [
           "The Slumber Party Massacre",
           5.6,
           6.831
          ],
          [
           "Puppet Master vs Demonic Toys",
           4.7,
           6.825
          ],
          [
           "The Revenge of Frankenstein",
           6.8,
           6.815
          ],
          [
           "The Hive",
           4.4,
           6.813
          ],
          [
           "Gamera 2: Attack of Legion",
           7.6,
           6.813
          ],
          [
           "Sleepaway Camp III: Teenage Wasteland",
           5.6,
           6.807
          ],
          [
           "Resident Evil: Retribution",
           5.8,
           6.804
          ],
          [
           "Slumber Party Massacre II",
           5,
           6.799
          ],
          [
           "Return to Nuke 'Em High Volume 1",
           6.3,
           6.777
          ],
          [
           "Frankenstein Created Woman",
           6.5,
           6.769
          ],
          [
           "It's Alive",
           6,
           6.673
          ],
          [
           "Sorority Babes in the Slimeball Bowl-O-Rama",
           4.8,
           6.644
          ],
          [
           "Gamera vs. Gyaos",
           6.5,
           6.637
          ],
          [
           "Cold Prey III",
           5.9,
           6.629
          ],
          [
           "Manos: The Hands of Fate",
           2,
           6.591
          ],
          [
           "Silent Night, Deadly Night III: Better Watch Out!",
           3.9,
           6.584
          ],
          [
           "WolfCop",
           5.3,
           6.573
          ],
          [
           "Basket Case 2",
           5.8,
           6.563
          ],
          [
           "Faces of Death",
           4.1,
           6.554
          ],
          [
           "Decoys 2: Alien Seduction",
           5.5,
           6.46
          ],
          [
           "The Ouija Experiment",
           4.2,
           6.456
          ],
          [
           "Along Came the Devil",
           5.8,
           6.442
          ],
          [
           "Voice",
           6.8,
           6.402
          ],
          [
           "Dr. Phibes Rises Again",
           6.3,
           6.374
          ],
          [
           "Ghoulies III: Ghoulies Go to College",
           4.8,
           6.35
          ],
          [
           "Tombs of the Blind Dead",
           6.2,
           6.341
          ],
          [
           "The Gingerdead Man",
           4.1,
           6.33
          ],
          [
           "Grizzly",
           5,
           6.329
          ],
          [
           "Memento Mori",
           6.2,
           6.328
          ],
          [
           "Ilsa, Harem Keeper of the Oil Sheiks",
           4.7,
           6.326
          ],
          [
           "Warlock III: The End of Innocence",
           4.5,
           6.326
          ],
          [
           "Red Dragon",
           7,
           6.313
          ],
          [
           "The Legend of the 7 Golden Vampires",
           5.9,
           6.302
          ],
          [
           "Bad Kids Go To Hell",
           4.4,
           6.272
          ],
          [
           "Frankenstein and the Monster from Hell",
           6.1,
           6.247
          ],
          [
           "Gate II",
           5.5,
           6.245
          ],
          [
           "Sinister Squad",
           3.1,
           6.199
          ],
          [
           "Puppet Master II",
           6.1,
           6.191
          ],
          [
           "August Underground's Penance",
           4.4,
           6.144
          ],
          [
           "Anatomy 2",
           5.6,
           6.135
          ],
          [
           "Stepfather 3",
           4.9,
           6.134
          ],
          [
           "976-EVIL 2",
           4.7,
           6.105
          ],
          [
           "The Cell 2",
           3.8,
           6.089
          ],
          [
           "Puppet Master III: Toulon's Revenge",
           6.5,
           6.071
          ],
          [
           "Phantasm: Ravager",
           4.9,
           6.035
          ],
          [
           "Gamera vs. Barugon",
           6.5,
           6.022
          ],
          [
           "Scanners II: The New Order",
           4.9,
           6.02
          ],
          [
           "2001 Maniacs: Field of Screams",
           4,
           6.016
          ],
          [
           "Frankenstein Must Be Destroyed",
           6.7,
           5.938
          ],
          [
           "Birdemic: Shock and Terror",
           2.1,
           5.919
          ],
          [
           "Lust for a Vampire",
           6,
           5.85
          ],
          [
           "Ritual",
           4.6,
           5.843
          ],
          [
           "Scarecrow Gone Wild",
           3.6,
           5.759
          ],
          [
           "Blood from the Mummy's Tomb",
           6.1,
           5.756
          ],
          [
           "Carnosaur 2",
           4.5,
           5.743
          ],
          [
           "The Hollow",
           4.7,
           5.707
          ],
          [
           "Baby Blood",
           6.1,
           5.692
          ],
          [
           "Spiders II: Breeding Ground",
           4.4,
           5.676
          ],
          [
           "The Killer Shrews",
           4.4,
           5.652
          ],
          [
           "Carry On Screaming",
           6.6,
           5.642
          ],
          [
           "Sometimes They Come Back... for More",
           4.4,
           5.626
          ],
          [
           "The Zombie Diaries 2",
           4.7,
           5.621
          ],
          [
           "Sadako 3D 2",
           4.9,
           5.599
          ],
          [
           "Killjoy",
           2.9,
           5.596
          ],
          [
           "The Evil of Frankenstein",
           6.1,
           5.586
          ],
          [
           "Jack and Jill",
           5.6,
           5.559
          ],
          [
           "Naked Fear",
           5.3,
           5.556
          ],
          [
           "Retro Puppet Master",
           4.3,
           5.541
          ],
          [
           "Jurassic Shark",
           2.6,
           5.531
          ],
          [
           "The Curse of Halloween Jack",
           4.3,
           5.521
          ],
          [
           "Outpost: Black Sun",
           5.1,
           5.508
          ],
          [
           "Curse of the Puppet Master",
           4.6,
           5.497
          ],
          [
           "Prom Night IV: Deliver Us from Evil",
           4.2,
           5.445
          ],
          [
           "Watchers",
           5.4,
           5.436
          ],
          [
           "The Devil's Carnival",
           6,
           5.414
          ],
          [
           "The Amityville Haunting",
           4.4,
           5.408
          ],
          [
           "Dark Woods II",
           4.8,
           5.377
          ],
          [
           "The Curse of the Mummy's Tomb",
           5.7,
           5.37
          ],
          [
           "Shock",
           6.3,
           5.362
          ],
          [
           "666: The Child",
           4.2,
           5.354
          ],
          [
           "Scanners III: The Takeover",
           4.3,
           5.315
          ],
          [
           "Slumber Party Massacre III",
           5,
           5.31
          ],
          [
           "ThanksKilling",
           4.1,
           5.303
          ],
          [
           "The War of the Gargantuas",
           6.7,
           5.284
          ],
          [
           "Golmaal Again",
           5.7,
           5.27
          ],
          [
           "Bunnyman Vengeance",
           5.9,
           5.27
          ],
          [
           "In Search of Darkness",
           7.9,
           5.252
          ],
          [
           "Ripper: Letter from Hell",
           4.2,
           5.238
          ],
          [
           "Waxwork II: Lost in Time",
           5.1,
           5.204
          ],
          [
           "Carnosaur",
           4.2,
           5.196
          ],
          [
           "Gogol. The Beginning",
           6.5,
           5.17
          ],
          [
           "Sex Files: Alien Erotica",
           5.7,
           5.144
          ],
          [
           "Horror Stories",
           5.8,
           5.135
          ],
          [
           "Witchboard",
           5.9,
           5.132
          ],
          [
           "Willard",
           6.1,
           5.119
          ],
          [
           "Ghoulies IV",
           3.3,
           5.097
          ],
          [
           "Gamera the Brave",
           7.2,
           5.083
          ],
          [
           "Attack of the Blind Dead",
           5.6,
           5.079
          ],
          [
           "Zombieworld",
           4.9,
           5.064
          ],
          [
           "Bunnyman",
           4.6,
           5.059
          ],
          [
           "Shark Attack",
           4.7,
           5.053
          ],
          [
           "Trilogy of Terror II",
           5,
           5.044
          ],
          [
           "It Lives Again",
           5.4,
           5.024
          ],
          [
           "Don't Fuck in the Woods",
           3.8,
           5.006
          ],
          [
           "Death Bell 2",
           6.1,
           4.984
          ],
          [
           "Xtro 2: The Second Encounter",
           4.6,
           4.962
          ],
          [
           "Puppet Master: The Legacy",
           3.8,
           4.957
          ],
          [
           "Tooth Fairy",
           5.2,
           4.935
          ],
          [
           "Dark Woods",
           5.7,
           4.905
          ],
          [
           "The Amityville Playhouse",
           5.4,
           4.882
          ],
          [
           "Another WolfCop",
           5.6,
           4.874
          ],
          [
           "Mission Galactica: The Cylon Attack",
           7,
           4.845
          ],
          [
           "Teacher's Pet",
           3.5,
           4.815
          ],
          [
           "The Thompsons",
           4.7,
           4.811
          ],
          [
           "Night of the Living Dead: Re-Animation",
           4.7,
           4.784
          ],
          [
           "In Search of Darkness: Part II",
           7.3,
           4.735
          ],
          [
           "Roadkill",
           5.8,
           4.72
          ],
          [
           "Night of the Werewolf",
           5.9,
           4.71
          ],
          [
           "Sadako 3D",
           5.4,
           4.694
          ],
          [
           "Hotel Inferno",
           5.1,
           4.693
          ],
          [
           "The Revenge of Robert",
           3.6,
           4.693
          ],
          [
           "Tales from the Hood 3",
           5.6,
           4.662
          ],
          [
           "My Super Psycho Sweet 16: Part 3",
           5.4,
           4.625
          ],
          [
           "Children of the Corn",
           7,
           4.603
          ],
          [
           "Britannia Hospital",
           6.5,
           4.6
          ],
          [
           "C.H.U.D. II: Bud the Chud",
           4.3,
           4.576
          ],
          [
           "Class of Nuke 'Em High 2: Subhumanoid Meltdown",
           4.5,
           4.575
          ],
          [
           "WNUF Halloween Special",
           5.7,
           4.557
          ],
          [
           "Clown Motel: Spirits Arise",
           6.3,
           4.552
          ],
          [
           "Mummy, I'm a Zombie",
           7.2,
           4.55
          ],
          [
           "The Horror of Frankenstein",
           5.8,
           4.53
          ],
          [
           "Dollman vs. Demonic Toys",
           4.8,
           4.523
          ],
          [
           "Pretham",
           5.1,
           4.509
          ],
          [
           "It's Alive III: Island of the Alive",
           5.3,
           4.503
          ],
          [
           "Prom Night III: The Last Kiss",
           4.8,
           4.429
          ],
          [
           "The Creature Walks Among Us",
           5.6,
           4.428
          ],
          [
           "Devil in the Flesh",
           5,
           4.415
          ],
          [
           "Moontrap",
           4.7,
           4.366
          ],
          [
           "Phobia 2",
           6.1,
           4.356
          ],
          [
           "The Diabolical Dr. Z",
           6.1,
           4.355
          ],
          [
           "Killer Crocodile 2",
           5.6,
           4.317
          ],
          [
           "Hobgoblins",
           2.7,
           4.239
          ],
          [
           "Hybrid",
           5,
           4.232
          ],
          [
           "Octopus",
           3.5,
           4.196
          ],
          [
           "Eye of the Beast",
           5.4,
           4.194
          ],
          [
           "The Brotherhood IV: the Complex",
           3.1,
           4.179
          ],
          [
           "The Legend of Boggy Creek",
           5,
           4.14
          ],
          [
           "Ripper 2: Letter from Within",
           2.9,
           4.139
          ],
          [
           "Knights of the Damned",
           3.4,
           4.133
          ],
          [
           "Frankenstein Conquers the World",
           6.9,
           4.118
          ],
          [
           "Head of the Family",
           5.5,
           4.095
          ],
          [
           "Carnosaur 3: Primal Species",
           4.2,
           4.087
          ],
          [
           "Catacombs",
           5,
           4.085
          ],
          [
           "May the Devil Take You Too",
           7.6,
           4.066
          ],
          [
           "The Toymaker",
           4,
           4.057
          ],
          [
           "The Mummy's Shroud",
           5.8,
           4.049
          ],
          [
           "Tomie",
           5.2,
           4.038
          ],
          [
           "The Fear: Resurrection",
           4.2,
           4.027
          ],
          [
           "Henry: Portrait of a Serial Killer 2 - Mask of Sanity",
           4.9,
           4.025
          ],
          [
           "Tomie: Re-birth",
           6.3,
           4.022
          ],
          [
           "Count Yorga, Vampire",
           5.6,
           4.009
          ],
          [
           "Carny",
           4.6,
           3.997
          ],
          [
           "Yokai Monsters: Along with Ghosts",
           6.5,
           3.975
          ],
          [
           "The Mother of Tears",
           4.5,
           3.958
          ],
          [
           "The Crawlers",
           4,
           3.941
          ],
          [
           "Muni 2: Kanchana",
           6.2,
           3.931
          ],
          [
           "Zoombies 2",
           5.9,
           3.918
          ],
          [
           "The Doll 2",
           5.6,
           3.901
          ],
          [
           "The Unnamable",
           4.7,
           3.888
          ],
          [
           "Tomie: Unlimited",
           4.5,
           3.884
          ],
          [
           "Subspecies 4: Bloodstorm",
           5.4,
           3.816
          ],
          [
           "When a Stranger Calls Back",
           5.9,
           3.814
          ],
          [
           "Island of the Fishmen",
           5.6,
           3.794
          ],
          [
           "Watchers II",
           5,
           3.789
          ],
          [
           "Pee Nak 2",
           5,
           3.787
          ],
          [
           "The Brotherhood 2: Young Warlocks",
           4.5,
           3.775
          ],
          [
           "Sand Serpents",
           3.8,
           3.77
          ],
          [
           "Beyond the Door",
           5.2,
           3.761
          ],
          [
           "Look What's Happened to Rosemary's Baby",
           3.7,
           3.757
          ],
          [
           "The Hospital 2",
           3.7,
           3.737
          ],
          [
           "The Birds II: Land's End",
           3.2,
           3.721
          ],
          [
           "Lake Fear",
           4.7,
           3.71
          ],
          [
           "Beware! The Blob",
           4.9,
           3.701
          ],
          [
           "Tooth Fairy: The Last Extraction",
           2.5,
           3.68
          ],
          [
           "The X from Outer Space",
           5.3,
           3.672
          ],
          [
           "Summoning Bloody Mary",
           4.5,
           3.666
          ],
          [
           "The Haunting of Alice D",
           6,
           3.63
          ],
          [
           "The Face of Fu Manchu",
           6.1,
           3.623
          ],
          [
           "Ilsa, the Tigress of Siberia",
           4.5,
           3.615
          ],
          [
           "Go Goa Gone",
           5.7,
           3.602
          ],
          [
           "The Redwood Massacre",
           4.2,
           3.599
          ],
          [
           "Queen of Spades: The Dark Rite",
           5.3,
           3.595
          ],
          [
           "Necromancer 2020",
           5.2,
           3.581
          ],
          [
           "The Dead 2: India",
           5.3,
           3.575
          ],
          [
           "The Brotherhood",
           4.6,
           3.562
          ],
          [
           "Witchboard 2: The Devil's Doorway",
           5.1,
           3.54
          ],
          [
           "Killer Tomatoes Strike Back!",
           4.3,
           3.528
          ],
          [
           "1920",
           5.8,
           3.52
          ],
          [
           "The Brotherhood V: Alumni",
           1.6,
           3.501
          ],
          [
           "Pee Nak",
           6,
           3.499
          ],
          [
           "Relentless",
           5.4,
           3.471
          ],
          [
           "The Vampire Doll",
           7.3,
           3.461
          ],
          [
           "War of the Colossal Beast",
           3.8,
           3.451
          ],
          [
           "The Terror Within",
           4.1,
           3.412
          ],
          [
           "Asih",
           6.9,
           3.402
          ],
          [
           "Scanner Cop",
           5.6,
           3.325
          ],
          [
           "ThanksKilling 3",
           3.6,
           3.322
          ],
          [
           "Lake of Dracula",
           6.8,
           3.314
          ],
          [
           "My Super Psycho Sweet 16",
           6.3,
           3.304
          ],
          [
           "The Wicked One",
           3.3,
           3.237
          ],
          [
           "The Fear",
           3.6,
           3.234
          ],
          [
           "The Werewolf Versus the Vampire Woman",
           5.6,
           3.23
          ],
          [
           "1313: Cougar Cult",
           4.1,
           3.207
          ],
          [
           "The Killer Eye",
           2.5,
           3.194
          ],
          [
           "Aquarium of the Dead",
           6.2,
           3.194
          ],
          [
           "Mirror Mirror",
           5.1,
           3.18
          ],
          [
           "Bloody Murder 2: Closing Camp",
           5.2,
           3.171
          ],
          [
           "Curse II: The Bite",
           4.8,
           3.157
          ],
          [
           "Bride of Boogedy",
           6.9,
           3.151
          ],
          [
           "Raaz 3",
           5.4,
           3.15
          ],
          [
           "Night of the Howling Beast",
           5.2,
           3.127
          ],
          [
           "The Scissors Massacre",
           5.6,
           3.101
          ],
          [
           "The Robot vs. The Aztec Mummy",
           3,
           3.085
          ],
          [
           "The Mangler 2",
           3.6,
           3.071
          ],
          [
           "Haunting at the Rectory",
           4.4,
           3.043
          ],
          [
           "Devi(L)",
           5.8,
           3.036
          ],
          [
           "Something Beneath",
           3.8,
           3.015
          ],
          [
           "Eko Eko Azarak: Wizard of Darkness",
           5.5,
           3.009
          ],
          [
           "Psycho Cop",
           4.4,
           3.001
          ],
          [
           "My Super Psycho Sweet 16: Part 2",
           6,
           3
          ],
          [
           "Make Me Shudder",
           6,
           2.975
          ],
          [
           "Vampire Boys 2: The New Brood",
           2.9,
           2.972
          ],
          [
           "Sleepaway Camp IV: The Survivor",
           2.1,
           2.954
          ],
          [
           "Haunted",
           4.5,
           2.951
          ],
          [
           "Dear God No!",
           3.6,
           2.931
          ],
          [
           "Evil Bong 3: The Wrath of Bong",
           4.9,
           2.93
          ],
          [
           "Gogol. A Terrible Vengeance",
           6.8,
           2.929
          ],
          [
           "The Invoking 2",
           4.4,
           2.921
          ],
          [
           "Gingerdead Man vs. Evil Bong",
           4.4,
           2.9
          ],
          [
           "Resident Evil: The Final Chapter",
           6.1,
           2.844
          ],
          [
           "Howard Lovecraft & the Frozen Kingdom",
           5.3,
           2.824
          ],
          [
           "The Return of Count Yorga",
           5.7,
           2.817
          ],
          [
           "Lake Fear 2: The Swamp",
           5.2,
           2.807
          ],
          [
           "Sorority House Massacre II",
           5.6,
           2.803
          ],
          [
           "The Brotherhood III: Young Demons",
           2.8,
           2.794
          ],
          [
           "Mermaid Forest",
           6,
           2.779
          ],
          [
           "Fear PHarm",
           5,
           2.778
          ],
          [
           "Shrill Cries of Summer",
           6,
           2.764
          ],
          [
           "Octopus 2: River of Fear",
           4,
           2.762
          ],
          [
           "Ghost of Camp Blood",
           5.2,
           2.762
          ],
          [
           "3 A.M. 3D",
           5,
           2.711
          ],
          [
           "Doomwatch",
           6.1,
           2.696
          ],
          [
           "The Fear Footage",
           6.2,
           2.695
          ],
          [
           "The Invoking: Paranormal Dimensions",
           7.8,
           2.677
          ],
          [
           "Dark Web",
           4.5,
           2.653
          ],
          [
           "Black Magic",
           5.2,
           2.652
          ],
          [
           "Darna Mana Hai",
           6.3,
           2.645
          ],
          [
           "Gigantis: The Fire Monster",
           6.1,
           2.639
          ],
          [
           "Ragini MMS",
           4,
           2.628
          ],
          [
           "Scanner Cop II",
           5.3,
           2.624
          ],
          [
           "Watchers Reborn",
           5.4,
           2.623
          ],
          [
           "Lake Fear 3",
           6.3,
           2.621
          ],
          [
           "Rahtree: Flower of the Night",
           5.9,
           2.593
          ],
          [
           "Tomb of the Werewolf",
           3.6,
           2.574
          ],
          [
           "Xtro 3: Watch the Skies",
           4.1,
           2.569
          ],
          [
           "The Stepford Children",
           5,
           2.567
          ],
          [
           "Yokai Monsters: 100 Monsters",
           6.6,
           2.562
          ],
          [
           "Curse of the Fly",
           5.5,
           2.556
          ],
          [
           "Criminally Insane",
           5.8,
           2.553
          ],
          [
           "Fear PHarm 2",
           4.7,
           2.549
          ],
          [
           "Vampires in Havana",
           5.9,
           2.545
          ],
          [
           "Evil Bong: High 5",
           3.1,
           2.52
          ],
          [
           "The Fear Footage 2: Curse of the Tape",
           3.3,
           2.496
          ],
          [
           "Three",
           5.9,
           2.486
          ],
          [
           "Psycho Cop Returns",
           5.1,
           2.484
          ],
          [
           "Violent Shit: the Movie",
           3.4,
           2.471
          ],
          [
           "Onechanbara: Bikini Samurai Squad",
           4.6,
           2.441
          ],
          [
           "Sadako DX",
           0,
           2.404
          ],
          [
           "Demonte Colony",
           7.4,
           2.374
          ],
          [
           "Hantu Kak Limah Balik Rumah",
           6.7,
           2.364
          ],
          [
           "Black Magic 2",
           5.4,
           2.336
          ],
          [
           "Bloody Murder",
           4,
           2.321
          ],
          [
           "The H-Man",
           6.3,
           2.313
          ],
          [
           "Mad Doctor of Blood Island",
           4,
           2.292
          ],
          [
           "A Haunting on Dice Road: The Hell House",
           5.9,
           2.289
          ],
          [
           "Kuntilanak 3",
           6.8,
           2.265
          ],
          [
           "Evil Bong 666",
           6.5,
           2.261
          ],
          [
           "Boggy Creek II: And the Legend Continues",
           2.4,
           2.259
          ],
          [
           "Encounter",
           3.4,
           2.258
          ],
          [
           "Tomie: Beginning",
           5.2,
           2.254
          ],
          [
           "Tooth Fairy: Queen of Pain",
           0,
           2.254
          ],
          [
           "Swamp Zombies 2",
           5.8,
           2.247
          ],
          [
           "Evil Bong 420",
           4.3,
           2.235
          ],
          [
           "Killjoy's Psycho Circus",
           4.9,
           2.226
          ],
          [
           "1313: Bigfoot Island",
           5.3,
           2.224
          ],
          [
           "The Ghost in the Invisible Bikini",
           5.6,
           2.199
          ],
          [
           "Grindsploitation",
           4.5,
           2.188
          ],
          [
           "Sacred",
           7.4,
           2.187
          ],
          [
           "Tomie: Revenge",
           4.2,
           2.185
          ],
          [
           "Vampire Journals",
           4.9,
           2.168
          ],
          [
           "Killjoy Goes to Hell",
           5.4,
           2.165
          ],
          [
           "Rahtree Reborn",
           5.7,
           2.159
          ],
          [
           "The Secret of the Telegian",
           6.4,
           2.147
          ],
          [
           "Killjoy 2: Deliverance from Evil",
           3.8,
           2.134
          ],
          [
           "Blood Scarab",
           4.2,
           2.11
          ],
          [
           "The Hound of the Baskervilles",
           6.6,
           2.106
          ],
          [
           "Sex Files: Portrait of the Soul",
           3.3,
           2.074
          ],
          [
           "1313: Boy Crazies",
           3.4,
           2.026
          ],
          [
           "1313: Haunted Frat",
           3.2,
           2.013
          ],
          [
           "Slime City",
           5,
           1.999
          ],
          [
           "The Fear Footage 3AM",
           4.9,
           1.984
          ],
          [
           "Frankenstein's Bloody Terror",
           6,
           1.967
          ],
          [
           "Brides of Blood",
           4.9,
           1.96
          ],
          [
           "Witchcraft 13: Blood of the Chosen",
           3.7,
           1.934
          ],
          [
           "Curse of the Devil",
           5,
           1.93
          ],
          [
           "Invoking 5",
           6.3,
           1.922
          ],
          [
           "To Jennifer",
           3.9,
           1.921
          ],
          [
           "Amityville: No Escape",
           3.3,
           1.92
          ],
          [
           "Resident Evil: Afterlife",
           6.1,
           1.916
          ],
          [
           "Mother Riley Meets the Vampire",
           4.5,
           1.892
          ],
          [
           "Axegrinder",
           5,
           1.869
          ],
          [
           "Still",
           3.3,
           1.859
          ],
          [
           "Feng Shui",
           5.6,
           1.788
          ],
          [
           "The Invisible Man's Love Life",
           3.2,
           1.786
          ],
          [
           "Witchouse",
           4.7,
           1.784
          ],
          [
           "Bloody Chainsaw Girl Returns: Revenge of Nero",
           5.5,
           1.776
          ],
          [
           "The Awful Dr. Orlof",
           6.3,
           1.769
          ],
          [
           "Video Violence",
           5.7,
           1.757
          ],
          [
           "Alleluia! The Devil's Carnival",
           6.3,
           1.72
          ],
          [
           "Witchcraft",
           4.1,
           1.719
          ],
          [
           "The Girl in the Woods",
           6.8,
           1.702
          ],
          [
           "Angel Guts: Nami",
           5.9,
           1.698
          ],
          [
           "Bloody Chainsaw Girl",
           4.6,
           1.649
          ],
          [
           "Nightmare Detective 2",
           5.9,
           1.642
          ],
          [
           "The Child's Eye",
           3.9,
           1.626
          ],
          [
           "Invoking 4",
           6.7,
           1.623
          ],
          [
           "The Locker",
           5,
           1.602
          ],
          [
           "Ghost Shark 2: Urban Jaws",
           4.8,
           1.582
          ],
          [
           "Buppha Ratree: Haunting in Japan",
           4.3,
           1.574
          ],
          [
           "Haunted",
           5.4,
           1.57
          ],
          [
           "Rahtree Revenge",
           6.2,
           1.559
          ],
          [
           "The Bowery Boys Meet the Monsters",
           5.3,
           1.539
          ],
          [
           "Kamen Rider Amazons The Movie: The Final Judgment",
           8.3,
           1.529
          ],
          [
           "This Night I'll Possess Your Corpse",
           6.9,
           1.515
          ],
          [
           "Witchcraft XIV: Angel of Death",
           0,
           1.503
          ],
          [
           "Tiktik: The Aswang Chronicles",
           5.8,
           1.492
          ],
          [
           "Beast of Blood",
           4.4,
           1.49
          ],
          [
           "Strip Mahjong Police 24:00 Naked Battle Royale",
           0,
           1.471
          ],
          [
           "Criminally Insane 2",
           2.5,
           1.461
          ],
          [
           "Horror House on Highway Five",
           4.3,
           1.46
          ],
          [
           "The Terror Within II",
           4.1,
           1.449
          ],
          [
           "The Foreign Exchange Student",
           0,
           1.444
          ],
          [
           "Hotel Inferno 2: The Cathedral of Pain",
           6.2,
           1.415
          ],
          [
           "CarousHELL",
           5.6,
           1.406
          ],
          [
           "Danur",
           5.7,
           1.404
          ],
          [
           "Unseen Evil",
           4.3,
           1.403
          ],
          [
           "Ang Panday",
           0,
           1.4
          ],
          [
           "The House in Between",
           5.9,
           1.4
          ],
          [
           "Nikos the Impaler",
           2.7,
           1.349
          ],
          [
           "Frankenstein Created Bikers",
           4.5,
           1.346
          ],
          [
           "3 A.M. PART 2",
           5.4,
           1.344
          ],
          [
           "Rahtree Returns",
           6.3,
           1.332
          ],
          [
           "Camp Blood",
           4.7,
           1.321
          ],
          [
           "Baby Oopsie",
           6.6,
           1.319
          ],
          [
           "Oneechanbara THE MOVIE vorteX",
           5.1,
           1.318
          ],
          [
           "Violent Shit 3 - Infantry of Doom",
           3.2,
           1.317
          ],
          [
           "Haunting Me",
           3.8,
           1.316
          ],
          [
           "Witchcraft V: Dance with the Devil",
           2.4,
           1.252
          ],
          [
           "Evil of Dracula",
           6.3,
           1.242
          ],
          [
           "Jack vs. Lanterns",
           0,
           1.21
          ],
          [
           "Pizza 2: Villa",
           5.7,
           1.172
          ],
          [
           "Shake, Rattle & Roll",
           5,
           1.14
          ],
          [
           "The Bare Wench Project 2: Scared Topless",
           3,
           1.136
          ],
          [
           "Siren",
           3,
           1.131
          ],
          [
           "DV",
           3,
           1.129
          ],
          [
           "Coons! Night of the Bandits of the Night",
           4.5,
           1.124
          ],
          [
           "Witchcraft IV: The Virgin Heart",
           1.8,
           1.091
          ],
          [
           "Pickaxe",
           3.7,
           1.079
          ],
          [
           "Oh My Ghost 2",
           5.6,
           1.067
          ],
          [
           "Bad Ben: Eulogy",
           0,
           1.064
          ],
          [
           "Killer Raccoons 2: Dark Christmas in the Dark",
           5.8,
           1.062
          ],
          [
           "Dark Confessions",
           5.7,
           1.049
          ],
          [
           "Prema Katha Chitram",
           5.9,
           1.037
          ],
          [
           "Axeman at Cutters Creek",
           3.5,
           1.023
          ],
          [
           "Oh My Ghost",
           5.5,
           0.992
          ],
          [
           "Terror Is a Man",
           4.3,
           0.984
          ],
          [
           "The Chanting 3",
           5.3,
           0.946
          ],
          [
           "Wicked Ones",
           0,
           0.911
          ],
          [
           "Asih 2",
           7.1,
           0.91
          ],
          [
           "Pretham 2",
           4.3,
           0.898
          ],
          [
           "Evil",
           5.3,
           0.891
          ],
          [
           "Mangkujiwo",
           6.7,
           0.84
          ],
          [
           "Jurassic Shark 2: Aquapocalypse",
           8,
           0.791
          ],
          [
           "Bloodthirst: Legend of the Chupacabras",
           1,
           0.629
          ],
          [
           "Witchcraft VII: Judgement Hour",
           3.7,
           0.6
          ],
          [
           "Stop the Bitch Campaign: Hell Version",
           2,
           0.6
          ],
          [
           "The Curse of Her Flesh",
           5,
           0.6
          ],
          [
           "See A Ghost",
           5,
           0.6
          ],
          [
           "Tokyo Videos of Horror",
           0,
           0.6
          ],
          [
           "Oh My Ghost! 4",
           7,
           0.6
          ],
          [
           "Honto ni Atta! Noroi no Video Vol. 25",
           0,
           0.6
          ],
          [
           "Honto ni Atta! Noroi no Video Vol. 30",
           0,
           0.6
          ],
          [
           "Jailangkung",
           4.6,
           0.6
          ],
          [
           "Strip Mahjong Idol Sengoku Era",
           0,
           0.6
          ],
          [
           "Project Genesis: Crossclub 2",
           0,
           0.6
          ],
          [
           "Prema Katha Chitram 2",
           6,
           0.6
          ],
          [
           "Shitters",
           5,
           0.6
          ],
          [
           "The Return of Shitters",
           4.7,
           0.6
          ],
          [
           "DV2",
           0,
           0.6
          ],
          [
           "Dv3",
           0,
           0.6
          ],
          [
           "Incarnation of the Devil 2",
           6,
           0.6
          ],
          [
           "Tokyo Videos of Horror 14",
           0,
           0.6
          ],
          [
           "Honto Ni Atta! Noroi No Video 10",
           0,
           0.6
          ],
          [
           "Honto ni Atta! Noroi no Video Vol. 21",
           0,
           0.6
          ],
          [
           "Honto ni Atta! Noroi no Video Vol. 20",
           0,
           0.6
          ],
          [
           "Honto Ni Atta! Noroi No Video 27",
           0,
           0.6
          ],
          [
           "DV5: Cord Cutter Hell",
           0,
           0.6
          ],
          [
           "The Beast From Twenty Zillion Years Ago",
           9,
           0.6
          ],
          [
           "Night of the Beast (From Twenty Zillion Years Ago)",
           9,
           0.6
          ]
         ],
         "hovertemplate": "vote_count=%{x}<br>revenue=%{y}<br>title=%{customdata[0]}<br>vote_average=%{customdata[1]}<br>popularity=%{customdata[2]}<br>color=%{marker.color}<extra></extra>",
         "legendgroup": "",
         "marker": {
          "color": [
           0,
           0,
           0,
           0,
           1,
           0,
           1,
           1,
           0,
           0,
           1,
           1,
           2,
           1,
           0,
           0,
           2,
           1,
           2,
           2,
           0,
           0,
           0,
           0,
           2,
           2,
           0,
           0,
           0,
           2,
           2,
           0,
           1,
           0,
           0,
           0,
           1,
           0,
           1,
           2,
           0,
           0,
           0,
           2,
           0,
           0,
           1,
           0,
           1,
           1,
           1,
           0,
           0,
           0,
           2,
           1,
           1,
           0,
           1,
           2,
           2,
           1,
           2,
           1,
           1,
           1,
           1,
           1,
           1,
           0,
           1,
           0,
           0,
           2,
           0,
           1,
           1,
           0,
           1,
           1,
           0,
           1,
           1,
           1,
           1,
           2,
           0,
           1,
           0,
           0,
           1,
           1,
           0,
           1,
           1,
           0,
           0,
           1,
           0,
           0,
           0,
           0,
           0,
           1,
           0,
           0,
           1,
           0,
           0,
           0,
           0,
           1,
           0,
           1,
           1,
           0,
           0,
           1,
           1,
           1,
           0,
           0,
           0,
           0,
           2,
           1,
           1,
           1,
           0,
           1,
           2,
           0,
           1,
           0,
           0,
           1,
           0,
           1,
           0,
           1,
           1,
           0,
           2,
           0,
           0,
           0,
           1,
           1,
           0,
           1,
           0,
           0,
           0,
           2,
           1,
           1,
           0,
           0,
           0,
           1,
           0,
           0,
           1,
           0,
           1,
           0,
           1,
           1,
           0,
           1,
           1,
           1,
           0,
           0,
           0,
           1,
           0,
           0,
           0,
           0,
           1,
           0,
           0,
           0,
           1,
           0,
           1,
           0,
           0,
           0,
           0,
           0,
           1,
           0,
           0,
           0,
           0,
           0,
           1,
           1,
           0,
           1,
           0,
           0,
           0,
           0,
           0,
           1,
           0,
           0,
           0,
           0,
           1,
           0,
           0,
           0,
           0,
           0,
           0,
           0,
           0,
           0,
           0,
           0,
           0,
           0,
           0,
           0,
           0,
           0,
           1,
           1,
           0,
           0,
           1,
           0,
           0,
           0,
           0,
           0,
           0,
           1,
           0,
           0,
           0,
           0,
           0,
           1,
           1,
           0,
           0,
           0,
           1,
           1,
           0,
           0,
           0,
           0,
           0,
           1,
           0,
           0,
           0,
           1,
           0,
           0,
           0,
           1,
           0,
           1,
           0,
           0,
           0,
           0,
           0,
           0,
           0,
           1,
           0,
           0,
           0,
           0,
           0,
           0,
           1,
           0,
           1,
           1,
           0,
           0,
           1,
           0,
           0,
           0,
           0,
           0,
           0,
           0,
           0,
           0,
           0,
           0,
           0,
           0,
           0,
           0,
           0,
           0,
           1,
           0,
           0,
           0,
           0,
           0,
           0,
           0,
           0,
           0,
           0,
           0,
           0,
           0,
           1,
           0,
           0,
           0,
           0,
           0,
           0,
           0,
           0,
           1,
           0,
           0,
           0,
           1,
           1,
           0,
           0,
           0,
           0,
           0,
           0,
           0,
           0,
           0,
           0,
           0,
           0,
           0,
           0,
           0,
           1,
           0,
           0,
           0,
           0,
           0,
           0,
           0,
           0,
           0,
           0,
           0,
           0,
           0,
           0,
           0,
           0,
           0,
           0,
           0,
           0,
           0,
           0,
           0,
           0,
           0,
           0,
           0,
           0,
           0,
           0,
           0,
           0,
           0,
           0,
           0,
           0,
           0,
           1,
           0,
           0,
           0,
           0,
           0,
           0,
           0,
           0,
           0,
           0,
           1,
           1,
           0,
           0,
           0,
           0,
           0,
           0,
           0,
           0,
           0,
           0,
           0,
           1,
           0,
           0,
           0,
           0,
           0,
           0,
           0,
           1,
           0,
           0,
           0,
           0,
           0,
           0,
           0,
           0,
           0,
           0,
           0,
           0,
           0,
           0,
           0,
           0,
           0,
           0,
           0,
           1,
           0,
           0,
           0,
           0,
           0,
           0,
           0,
           0,
           0,
           0,
           0,
           0,
           0,
           0,
           0,
           0,
           0,
           0,
           0,
           0,
           0,
           0,
           0,
           0,
           0,
           0,
           0,
           0,
           0,
           0,
           0,
           0,
           0,
           1,
           0,
           0,
           0,
           0,
           0,
           0,
           0,
           0,
           0,
           0,
           0,
           0,
           0,
           0,
           1,
           0,
           0,
           0,
           0,
           0,
           0,
           0,
           0,
           0,
           0,
           0,
           0,
           0,
           0,
           0,
           0,
           0,
           0,
           0,
           0,
           0,
           0,
           0,
           0,
           0,
           0,
           0,
           0,
           0,
           0,
           0,
           0,
           0,
           0,
           0,
           0,
           0,
           0,
           0,
           0,
           0,
           0,
           0,
           0,
           0,
           0,
           0,
           0,
           0,
           0,
           0,
           0,
           0,
           0,
           0,
           0,
           0,
           0,
           0,
           0,
           0,
           0,
           0,
           0,
           0,
           0,
           0,
           0,
           0,
           0,
           0,
           0,
           0,
           0,
           0,
           0,
           0,
           0,
           0,
           0,
           0,
           0,
           0,
           0,
           0,
           0,
           0,
           0,
           0,
           0,
           0,
           0,
           0,
           0,
           0,
           0,
           0,
           0,
           0,
           0,
           0,
           0,
           0,
           0,
           0,
           0,
           0,
           0,
           0,
           0,
           0,
           0,
           0,
           0,
           0,
           0,
           0,
           0,
           0,
           0,
           0,
           0,
           0,
           0,
           0,
           0,
           0,
           0,
           0,
           0,
           0,
           0,
           0,
           0,
           0,
           0,
           0,
           0,
           0,
           0,
           0,
           0,
           0,
           0,
           0,
           0,
           0,
           0,
           0,
           0,
           0,
           0,
           0,
           0,
           0,
           0,
           0,
           0,
           0,
           0,
           0,
           0,
           0,
           0,
           0,
           0,
           0,
           0,
           0,
           0,
           0,
           0,
           0,
           0,
           0,
           0,
           0,
           0,
           0,
           0,
           0,
           0,
           0,
           0,
           0,
           0,
           0,
           0,
           0,
           0,
           0,
           0,
           1,
           0,
           0,
           0,
           0,
           0,
           0,
           0,
           0,
           0,
           0,
           0,
           0,
           0,
           0,
           0,
           0,
           0,
           0,
           0,
           2,
           0,
           0,
           0,
           0,
           0,
           0,
           0,
           0,
           0,
           0,
           0,
           0,
           0,
           0,
           0,
           0,
           0,
           0,
           0,
           0,
           0,
           0,
           0,
           0,
           1,
           0,
           0,
           0,
           0,
           0,
           0,
           0,
           0,
           0,
           0,
           0,
           0,
           0,
           0,
           0,
           0,
           0,
           0,
           0,
           0,
           0,
           0,
           0,
           0,
           0,
           0,
           0,
           0,
           0,
           0,
           0,
           0,
           0,
           0,
           0,
           0,
           0,
           0,
           0,
           0,
           0,
           0,
           0,
           0,
           0,
           0,
           0,
           0,
           0,
           0,
           0,
           0,
           0,
           0,
           0,
           0,
           0,
           0,
           0,
           0,
           0,
           0,
           0,
           0,
           0,
           0,
           0,
           0,
           0,
           0,
           0,
           0,
           0,
           0,
           0,
           0,
           0,
           0,
           0,
           0,
           0,
           0,
           0,
           0,
           0,
           0,
           0,
           0,
           0,
           0,
           0,
           0,
           0,
           1,
           0,
           0,
           0,
           0,
           0,
           0,
           0,
           0,
           0,
           0,
           0,
           0,
           0,
           0,
           0,
           0,
           0,
           0,
           0,
           0,
           0,
           0,
           0,
           0,
           0,
           0,
           0,
           0,
           0,
           0,
           0,
           0,
           0,
           0,
           0,
           0,
           0,
           0,
           0,
           0,
           0,
           0,
           0,
           0,
           0,
           0,
           0,
           0,
           0,
           0,
           0,
           0,
           0,
           0,
           0,
           0,
           0,
           0,
           0,
           0,
           0,
           0,
           0,
           0,
           0,
           0,
           0,
           0,
           0,
           0,
           0,
           0,
           0,
           0,
           0,
           0,
           0,
           0,
           0,
           0,
           0,
           0,
           0,
           0,
           0,
           0,
           0,
           0,
           0,
           0,
           0,
           0,
           0,
           0,
           0,
           0,
           0,
           0,
           0,
           0,
           0,
           0,
           0,
           0,
           0,
           0,
           0,
           0,
           0,
           0,
           0,
           0,
           0,
           2,
           0,
           0,
           0,
           0,
           0,
           0,
           0,
           0,
           0,
           0,
           0,
           0,
           0,
           0,
           0,
           0,
           0,
           0,
           0,
           0,
           0,
           0,
           0,
           0,
           0,
           0,
           0,
           0,
           0,
           0,
           0,
           0,
           0,
           0,
           0,
           0,
           0,
           0,
           0,
           0,
           0,
           0,
           0,
           0,
           0,
           0,
           0,
           0,
           0,
           0,
           0,
           0,
           0,
           0,
           0,
           0,
           0,
           0,
           0,
           0,
           0,
           0,
           0,
           0,
           0,
           0,
           0,
           0,
           0,
           0,
           0,
           0,
           0,
           0,
           0,
           0,
           0,
           0,
           2,
           0,
           0,
           0,
           0,
           0,
           0,
           0,
           0,
           0,
           0,
           0,
           0,
           0,
           0,
           0,
           0,
           0,
           0,
           0,
           0,
           0,
           0,
           0,
           0,
           0,
           0,
           0,
           0,
           0,
           0,
           0,
           0,
           0,
           0,
           0,
           0,
           0,
           0,
           0,
           0,
           0,
           0,
           0,
           0,
           0,
           0,
           0,
           0,
           0,
           0,
           0,
           0,
           0,
           0,
           0,
           0,
           0,
           0,
           0,
           0,
           0,
           0,
           0,
           0,
           0,
           0,
           0,
           0,
           0,
           0,
           0,
           0,
           0,
           0,
           0,
           0,
           0,
           0,
           0,
           0,
           0,
           0,
           0,
           0,
           0,
           0,
           0,
           0,
           0,
           0,
           0,
           0,
           0,
           0,
           0,
           0,
           0,
           0,
           0,
           0
          ],
          "coloraxis": "coloraxis",
          "symbol": "circle"
         },
         "mode": "markers",
         "name": "",
         "showlegend": false,
         "type": "scattergl",
         "x": [
          902,
          125,
          1035,
          157,
          1941,
          958,
          1732,
          4403,
          34,
          692,
          4689,
          953,
          7221,
          1904,
          1847,
          2395,
          9735,
          1287,
          3974,
          4721,
          426,
          351,
          1495,
          904,
          7061,
          5393,
          1126,
          857,
          1084,
          5863,
          6068,
          959,
          1851,
          750,
          1708,
          1,
          4421,
          1499,
          3413,
          16900,
          1406,
          318,
          1252,
          6535,
          3233,
          1434,
          1873,
          38,
          5939,
          7650,
          4614,
          2127,
          1234,
          22,
          2870,
          2163,
          4585,
          1280,
          7386,
          4859,
          5208,
          2809,
          7298,
          5689,
          2334,
          1235,
          3302,
          2084,
          4309,
          615,
          1445,
          3576,
          535,
          5341,
          1311,
          3528,
          5318,
          1772,
          3573,
          3174,
          1251,
          4563,
          10704,
          1234,
          3321,
          12032,
          14911,
          3221,
          1933,
          1971,
          2447,
          1108,
          1029,
          5695,
          12083,
          612,
          1341,
          4357,
          223,
          1120,
          232,
          63,
          765,
          3653,
          2289,
          927,
          4965,
          1836,
          2525,
          5566,
          1474,
          2313,
          1346,
          1878,
          3038,
          781,
          1175,
          3514,
          6387,
          2670,
          840,
          1067,
          935,
          227,
          8659,
          3103,
          3654,
          3023,
          1191,
          1829,
          4987,
          1591,
          3758,
          1645,
          1043,
          5557,
          1013,
          2833,
          1000,
          1935,
          2425,
          3055,
          3901,
          3093,
          1281,
          243,
          2393,
          2486,
          1221,
          2815,
          4150,
          1059,
          1748,
          4852,
          2559,
          2801,
          8452,
          1887,
          2495,
          1302,
          3123,
          671,
          2075,
          600,
          2416,
          2640,
          1862,
          3275,
          242,
          3963,
          3044,
          3346,
          1491,
          1127,
          233,
          2270,
          19,
          1054,
          1460,
          1421,
          1294,
          872,
          843,
          541,
          2127,
          899,
          2664,
          1095,
          295,
          1652,
          485,
          1044,
          3924,
          1069,
          793,
          1336,
          3020,
          496,
          3519,
          3384,
          141,
          5369,
          1062,
          1497,
          196,
          2367,
          796,
          2272,
          396,
          647,
          73,
          540,
          2765,
          928,
          528,
          235,
          470,
          739,
          1832,
          134,
          244,
          2876,
          753,
          1291,
          567,
          1096,
          788,
          782,
          876,
          3311,
          5392,
          3486,
          588,
          2089,
          2086,
          25,
          123,
          325,
          668,
          353,
          1045,
          2267,
          683,
          2390,
          2406,
          1072,
          1590,
          1194,
          2000,
          908,
          452,
          605,
          1619,
          3981,
          167,
          433,
          2994,
          244,
          256,
          1540,
          854,
          4977,
          908,
          621,
          61,
          677,
          1157,
          3635,
          1269,
          1520,
          817,
          1935,
          1674,
          746,
          264,
          157,
          231,
          5385,
          1222,
          282,
          1281,
          204,
          408,
          544,
          1015,
          3512,
          1198,
          1736,
          434,
          332,
          704,
          165,
          412,
          263,
          1598,
          97,
          195,
          833,
          192,
          520,
          1217,
          274,
          650,
          1225,
          168,
          268,
          3211,
          615,
          3088,
          395,
          1663,
          493,
          1162,
          610,
          851,
          439,
          537,
          381,
          228,
          246,
          1376,
          1634,
          839,
          972,
          846,
          1287,
          909,
          1041,
          268,
          532,
          316,
          4615,
          445,
          831,
          1078,
          2002,
          1849,
          905,
          109,
          495,
          905,
          357,
          277,
          189,
          841,
          297,
          383,
          840,
          228,
          342,
          312,
          75,
          941,
          424,
          156,
          376,
          434,
          124,
          179,
          922,
          268,
          331,
          588,
          1058,
          507,
          989,
          257,
          306,
          500,
          272,
          1145,
          848,
          162,
          699,
          111,
          315,
          488,
          449,
          171,
          236,
          179,
          115,
          450,
          452,
          492,
          295,
          965,
          510,
          219,
          576,
          1278,
          248,
          91,
          319,
          172,
          183,
          686,
          428,
          491,
          294,
          314,
          2326,
          374,
          431,
          131,
          412,
          694,
          115,
          466,
          451,
          47,
          915,
          521,
          468,
          1062,
          354,
          1055,
          181,
          166,
          77,
          131,
          164,
          684,
          39,
          693,
          422,
          239,
          531,
          71,
          449,
          346,
          250,
          463,
          289,
          328,
          120,
          419,
          80,
          91,
          111,
          146,
          142,
          3492,
          113,
          48,
          81,
          427,
          359,
          202,
          16,
          187,
          229,
          6,
          119,
          118,
          328,
          301,
          396,
          311,
          37,
          138,
          383,
          189,
          1371,
          434,
          514,
          985,
          204,
          196,
          202,
          460,
          129,
          504,
          578,
          156,
          447,
          544,
          3,
          155,
          323,
          303,
          100,
          21,
          202,
          57,
          111,
          78,
          138,
          263,
          314,
          527,
          624,
          37,
          121,
          151,
          263,
          41,
          231,
          149,
          111,
          235,
          62,
          112,
          69,
          196,
          94,
          66,
          12,
          426,
          322,
          161,
          131,
          76,
          129,
          411,
          207,
          637,
          192,
          144,
          59,
          168,
          144,
          210,
          483,
          279,
          57,
          115,
          175,
          309,
          284,
          641,
          424,
          184,
          210,
          61,
          154,
          55,
          181,
          308,
          87,
          85,
          289,
          177,
          168,
          119,
          105,
          114,
          183,
          234,
          211,
          345,
          218,
          69,
          149,
          108,
          166,
          82,
          297,
          201,
          199,
          154,
          214,
          292,
          170,
          381,
          293,
          204,
          98,
          79,
          179,
          42,
          429,
          132,
          249,
          424,
          332,
          205,
          138,
          55,
          58,
          62,
          127,
          177,
          116,
          37,
          214,
          108,
          128,
          180,
          230,
          174,
          88,
          100,
          43,
          80,
          59,
          224,
          100,
          33,
          410,
          76,
          84,
          374,
          152,
          203,
          62,
          195,
          141,
          164,
          145,
          38,
          129,
          91,
          116,
          89,
          49,
          43,
          75,
          132,
          134,
          180,
          139,
          180,
          96,
          75,
          175,
          86,
          89,
          46,
          67,
          45,
          275,
          93,
          219,
          145,
          29,
          124,
          44,
          145,
          311,
          127,
          101,
          79,
          48,
          67,
          287,
          136,
          54,
          244,
          94,
          34,
          127,
          132,
          114,
          156,
          109,
          77,
          133,
          40,
          70,
          59,
          104,
          107,
          78,
          170,
          104,
          75,
          194,
          257,
          89,
          138,
          190,
          122,
          66,
          67,
          240,
          61,
          266,
          75,
          38,
          154,
          74,
          92,
          196,
          1848,
          73,
          48,
          40,
          117,
          182,
          98,
          70,
          62,
          68,
          117,
          65,
          71,
          73,
          233,
          52,
          98,
          27,
          87,
          157,
          3422,
          122,
          114,
          97,
          150,
          83,
          55,
          118,
          162,
          45,
          168,
          105,
          120,
          40,
          130,
          59,
          68,
          115,
          65,
          106,
          68,
          95,
          96,
          49,
          60,
          3538,
          93,
          76,
          70,
          63,
          32,
          133,
          34,
          94,
          27,
          43,
          61,
          119,
          124,
          56,
          96,
          61,
          81,
          264,
          46,
          51,
          13,
          65,
          36,
          71,
          38,
          38,
          63,
          83,
          46,
          46,
          40,
          42,
          73,
          27,
          50,
          88,
          77,
          13,
          84,
          69,
          42,
          64,
          67,
          52,
          74,
          59,
          90,
          25,
          61,
          66,
          75,
          68,
          67,
          45,
          70,
          42,
          89,
          78,
          79,
          10,
          28,
          145,
          80,
          39,
          54,
          50,
          17,
          56,
          43,
          30,
          57,
          46,
          60,
          27,
          51,
          53,
          72,
          48,
          48,
          42,
          11,
          50,
          47,
          25,
          49,
          16,
          74,
          41,
          18,
          24,
          19,
          7,
          51,
          55,
          42,
          38,
          8,
          36,
          47,
          57,
          18,
          49,
          46,
          55,
          29,
          76,
          61,
          25,
          19,
          79,
          11,
          37,
          26,
          8,
          48,
          12,
          20,
          40,
          34,
          27,
          20,
          35,
          19,
          31,
          41,
          10,
          25,
          26,
          38,
          15,
          8,
          354,
          22,
          14,
          22,
          34,
          52,
          26,
          28,
          57,
          51,
          20,
          2,
          17,
          23,
          41,
          20,
          10,
          26,
          34,
          49,
          2,
          30,
          15,
          14,
          29,
          41,
          82,
          47,
          57,
          6,
          45,
          29,
          33,
          26,
          24,
          11,
          4,
          19,
          32,
          31,
          34,
          36,
          28,
          26,
          22,
          27,
          6,
          27,
          29,
          10,
          21,
          42,
          38,
          23,
          28,
          9,
          26,
          14,
          16,
          41,
          24,
          15,
          20,
          17,
          21,
          25,
          19,
          18,
          21,
          29,
          13,
          23,
          15,
          47,
          17,
          18,
          2642,
          30,
          25,
          8,
          49,
          13,
          9,
          14,
          19,
          24,
          11,
          21,
          18,
          5,
          6,
          14,
          22,
          27,
          20,
          23,
          20,
          11,
          24,
          15,
          7,
          22,
          8,
          14,
          51,
          22,
          6,
          32,
          12,
          3,
          49,
          27,
          6,
          28,
          0,
          18,
          7,
          11,
          23,
          22,
          16,
          7,
          2,
          13,
          27,
          12,
          11,
          0,
          3,
          12,
          8,
          25,
          18,
          6,
          9,
          13,
          40,
          16,
          9,
          4,
          24,
          13,
          23,
          4,
          9,
          8,
          16,
          4,
          13,
          15,
          7,
          21,
          9,
          12,
          7,
          3274,
          14,
          5,
          13,
          13,
          11,
          15,
          2,
          26,
          13,
          18,
          15,
          5,
          7,
          8,
          20,
          20,
          3,
          12,
          5,
          3,
          8,
          6,
          13,
          3,
          34,
          0,
          4,
          15,
          0,
          13,
          14,
          7,
          0,
          12,
          5,
          13,
          6,
          0,
          7,
          7,
          4,
          9,
          4,
          22,
          5,
          9,
          13,
          8,
          8,
          18,
          0,
          8,
          6,
          6,
          3,
          1,
          5,
          9,
          3,
          4,
          0,
          4,
          6,
          6,
          4,
          7,
          18,
          3,
          0,
          14,
          6,
          14,
          3,
          3,
          1,
          6,
          1,
          3,
          2,
          0,
          2,
          0,
          0,
          7,
          0,
          0,
          1,
          3,
          5,
          0,
          0,
          1,
          0,
          0,
          0,
          0,
          0,
          0,
          2,
          2
         ],
         "xaxis": "x",
         "y": [
          9572765,
          2892594,
          14257609,
          0,
          131647155,
          0,
          140000000,
          77912251,
          0,
          3600000,
          201000000,
          119815153,
          473122525,
          76994245,
          45000000,
          59217789,
          319494638,
          63102666,
          253688035,
          297372261,
          0,
          0,
          50671850,
          0,
          320392818,
          365550119,
          25343661,
          0,
          0,
          230884728,
          530243742,
          2200000,
          203044905,
          0,
          0,
          0,
          70274000,
          60141683,
          137056262,
          701842551,
          0,
          0,
          24829644,
          441306145,
          780000,
          35763605,
          80460948,
          0,
          87547518,
          103911669,
          118587880,
          28650575,
          20560255,
          0,
          231252591,
          107363905,
          112880294,
          3800000,
          89328627,
          306515884,
          249348933,
          157887643,
          240891763,
          97009150,
          130290885,
          86362372,
          158162788,
          116643421,
          194183034,
          0,
          107363905,
          32511655,
          0,
          257047661,
          17800000,
          161000000,
          173046663,
          252207,
          160112671,
          118890272,
          0,
          82515113,
          102391540,
          93320380,
          90941129,
          340677200,
          44781695,
          81093313,
          14575193,
          39657073,
          69623713,
          77389310,
          34900000,
          111928365,
          104931801,
          0,
          44888959,
          147748505,
          5303,
          39421467,
          0,
          0,
          0,
          164874275,
          59754601,
          11642254,
          131183530,
          572809,
          30900000,
          19629760,
          0,
          167184112,
          0,
          207039844,
          139352633,
          0,
          37697773,
          65048678,
          159047649,
          186167139,
          15116634,
          0,
          4915757,
          0,
          470653000,
          172363301,
          177427090,
          81979826,
          0,
          83188165,
          300257475,
          25533818,
          97542952,
          35728183,
          678604,
          85720385,
          32980880,
          104303851,
          37664855,
          161451538,
          136151680,
          33800000,
          248639099,
          29400000,
          21722776,
          0,
          103590271,
          183474602,
          11019975,
          113864059,
          25685134,
          24922237,
          57469467,
          223664608,
          68234154,
          97231420,
          50000000,
          31973249,
          21502976,
          75000000,
          57130027,
          2325035,
          136885767,
          8556940,
          122200000,
          48572000,
          108047131,
          128905366,
          2260622,
          155010032,
          102952888,
          64188367,
          14237880,
          31039126,
          0,
          83080890,
          0,
          14400000,
          30000000,
          32721635,
          113374103,
          7048886,
          12090735,
          39024251,
          81705746,
          19472057,
          161834276,
          49400000,
          5600000,
          18469680,
          9630444,
          0,
          155712077,
          16951798,
          14000000,
          52302796,
          0,
          16000000,
          100605135,
          148868835,
          0,
          125479266,
          36690067,
          24819936,
          0,
          2884265,
          14568989,
          125586134,
          5765562,
          8025872,
          0,
          30749142,
          112399944,
          0,
          18707966,
          0,
          185898,
          13167232,
          53329150,
          0,
          34592118,
          25327500,
          0,
          17949758,
          12534961,
          57000000,
          19170001,
          21028755,
          21930418,
          11500000,
          153083102,
          72281712,
          17985893,
          41482207,
          177512032,
          0,
          0,
          0,
          0,
          0,
          20311536,
          75505973,
          54207,
          31505287,
          44235023,
          19400000,
          60922980,
          114000000,
          82391145,
          48854305,
          0,
          16184,
          142817992,
          162000000,
          0,
          19444631,
          62882090,
          0,
          0,
          187884007,
          8493728,
          25836616,
          27762648,
          78000586,
          0,
          55060212,
          0,
          129394835,
          25792310,
          72436439,
          51881013,
          30000000,
          55000000,
          0,
          2491460,
          0,
          0,
          102984862,
          0,
          0,
          9602624,
          426290,
          17092453,
          26570463,
          87987055,
          60629159,
          78096553,
          93983911,
          0,
          0,
          86432000,
          0,
          0,
          251495,
          32222567,
          0,
          0,
          6842058,
          0,
          40996665,
          100345,
          0,
          47737094,
          40002112,
          8992523,
          0,
          33395426,
          0,
          127730736,
          16675000,
          45172994,
          0,
          35300645,
          3657876,
          39143839,
          0,
          19165560,
          38574362,
          0,
          0,
          44800000,
          41002607,
          67738090,
          22168359,
          0,
          47074133,
          56870414,
          30553395,
          12534817,
          47053625,
          3813293,
          159773545,
          48333932,
          21833,
          1882074,
          164648142,
          58072119,
          54667954,
          0,
          38610009,
          0,
          0,
          0,
          0,
          42664410,
          0,
          14144000,
          45479110,
          0,
          0,
          0,
          0,
          77527732,
          29907685,
          0,
          0,
          42918532,
          0,
          0,
          2166797,
          0,
          2295825,
          0,
          2023414,
          0,
          20308772,
          0,
          2983784,
          2756,
          0,
          20901859,
          25480490,
          0,
          40846082,
          154323,
          14796236,
          12693645,
          0,
          6980986,
          0,
          0,
          0,
          15179302,
          0,
          34725000,
          0,
          34000000,
          37473,
          0,
          1300000,
          104155843,
          0,
          0,
          2175000,
          0,
          1952653,
          5844868,
          20471382,
          38903179,
          1845819,
          0,
          112892319,
          74827344,
          14000000,
          0,
          3000000,
          2250000,
          3902679,
          0,
          3500000,
          0,
          14225876,
          208550,
          4000000,
          72527595,
          0,
          40855419,
          2000000,
          11000000,
          0,
          0,
          0,
          91196419,
          12175665,
          25000000,
          658573,
          0,
          26518355,
          0,
          15738769,
          4385516,
          0,
          0,
          0,
          1045873,
          0,
          3650275,
          0,
          0,
          0,
          0,
          0,
          148412065,
          0,
          0,
          0,
          0,
          0,
          0,
          0,
          167445,
          1798418,
          0,
          0,
          0,
          16200000,
          9747988,
          16115878,
          17762705,
          22449857,
          0,
          21089146,
          0,
          0,
          0,
          11988469,
          21133087,
          0,
          0,
          0,
          0,
          0,
          11000000,
          32100816,
          7000000,
          9205924,
          200000000,
          0,
          0,
          10000000,
          323776,
          0,
          0,
          0,
          6,
          0,
          0,
          0,
          1271556,
          0,
          0,
          67192859,
          0,
          0,
          0,
          0,
          0,
          0,
          10155690,
          0,
          0,
          0,
          12000000,
          1519796,
          35000000,
          0,
          0,
          0,
          58221,
          1766761,
          0,
          0,
          0,
          0,
          800000,
          0,
          5540941,
          0,
          0,
          0,
          0,
          0,
          0,
          23589,
          13500000,
          0,
          0,
          0,
          156190,
          516930,
          33245,
          5781885,
          364937,
          0,
          0,
          5450815,
          0,
          0,
          13818181,
          0,
          0,
          14481606,
          0,
          6333135,
          0,
          0,
          0,
          192816,
          0,
          0,
          0,
          3412497,
          0,
          0,
          2409225,
          0,
          0,
          0,
          0,
          0,
          0,
          8000000,
          0,
          0,
          0,
          9094451,
          0,
          155362,
          0,
          0,
          0,
          0,
          0,
          3109904,
          0,
          0,
          0,
          0,
          0,
          0,
          0,
          0,
          0,
          0,
          0,
          808114,
          16000000,
          2683519,
          2289000,
          0,
          0,
          0,
          544476,
          0,
          0,
          0,
          0,
          0,
          0,
          0,
          0,
          0,
          0,
          0,
          0,
          0,
          7800000,
          0,
          0,
          0,
          0,
          0,
          0,
          0,
          0,
          0,
          0,
          0,
          4000000,
          11068800,
          0,
          0,
          0,
          15000000,
          0,
          0,
          0,
          0,
          0,
          0,
          0,
          13940383,
          0,
          0,
          0,
          0,
          0,
          0,
          0,
          0,
          0,
          0,
          0,
          0,
          0,
          0,
          0,
          0,
          0,
          0,
          0,
          0,
          15,
          0,
          0,
          1738897,
          0,
          0,
          0,
          0,
          0,
          0,
          0,
          0,
          0,
          0,
          0,
          0,
          7282851,
          2955917,
          0,
          0,
          0,
          0,
          0,
          7171,
          0,
          0,
          0,
          0,
          0,
          0,
          0,
          0,
          82169884,
          0,
          0,
          0,
          0,
          0,
          0,
          0,
          2000000,
          0,
          0,
          0,
          0,
          0,
          3600000,
          0,
          0,
          0,
          14000000,
          0,
          240159255,
          0,
          0,
          0,
          0,
          0,
          0,
          2439448,
          0,
          0,
          0,
          0,
          0,
          0,
          0,
          0,
          2041000,
          0,
          0,
          0,
          0,
          0,
          0,
          0,
          0,
          209196298,
          0,
          0,
          0,
          0,
          0,
          0,
          0,
          0,
          0,
          0,
          0,
          0,
          0,
          0,
          14225876,
          0,
          0,
          0,
          0,
          0,
          0,
          0,
          0,
          0,
          0,
          0,
          1000000,
          0,
          0,
          0,
          0,
          0,
          0,
          0,
          0,
          0,
          0,
          0,
          0,
          0,
          0,
          940173,
          0,
          0,
          0,
          0,
          0,
          0,
          0,
          1242995,
          0,
          0,
          0,
          0,
          0,
          0,
          0,
          1753979,
          7939761,
          0,
          0,
          7369373,
          0,
          0,
          4000000,
          0,
          0,
          0,
          0,
          0,
          0,
          0,
          0,
          0,
          0,
          0,
          1156728,
          0,
          0,
          0,
          0,
          0,
          0,
          0,
          0,
          0,
          0,
          0,
          0,
          0,
          0,
          0,
          0,
          62405000,
          0,
          0,
          0,
          1000000,
          0,
          0,
          0,
          0,
          0,
          0,
          0,
          0,
          5030049,
          0,
          0,
          0,
          0,
          0,
          0,
          0,
          22000000,
          0,
          0,
          0,
          0,
          0,
          0,
          0,
          0,
          0,
          0,
          0,
          0,
          0,
          7000000,
          0,
          0,
          3119957,
          0,
          0,
          0,
          0,
          0,
          0,
          0,
          0,
          0,
          0,
          0,
          0,
          0,
          0,
          0,
          0,
          0,
          0,
          102433,
          0,
          0,
          0,
          0,
          1300000,
          0,
          5400000,
          0,
          2228115,
          0,
          0,
          0,
          168180,
          0,
          0,
          0,
          0,
          0,
          0,
          0,
          858591,
          0,
          0,
          0,
          0,
          0,
          0,
          0,
          0,
          0,
          0,
          0,
          0,
          0,
          0,
          0,
          14000000,
          0,
          0,
          0,
          0,
          0,
          0,
          0,
          0,
          0,
          0,
          0,
          0,
          0,
          0,
          0,
          91260,
          7141571,
          0,
          0,
          312242626,
          28115,
          0,
          0,
          0,
          0,
          0,
          0,
          0,
          0,
          0,
          0,
          0,
          0,
          0,
          0,
          0,
          0,
          0,
          0,
          0,
          0,
          0,
          0,
          0,
          0,
          0,
          0,
          0,
          0,
          0,
          0,
          0,
          0,
          1691811,
          0,
          0,
          0,
          0,
          0,
          0,
          0,
          0,
          0,
          0,
          0,
          0,
          0,
          0,
          0,
          0,
          0,
          0,
          0,
          0,
          0,
          0,
          0,
          0,
          0,
          0,
          0,
          0,
          0,
          0,
          0,
          0,
          0,
          0,
          0,
          0,
          0,
          0,
          0,
          0,
          0,
          0,
          0,
          0,
          300228084,
          0,
          0,
          0,
          0,
          0,
          0,
          0,
          0,
          0,
          0,
          0,
          0,
          0,
          0,
          0,
          0,
          0,
          0,
          0,
          0,
          45000,
          0,
          0,
          0,
          0,
          0,
          2035311,
          0,
          0,
          0,
          0,
          0,
          0,
          0,
          0,
          0,
          0,
          0,
          0,
          0,
          0,
          0,
          0,
          0,
          0,
          0,
          0,
          0,
          0,
          0,
          0,
          2800000,
          0,
          0,
          0,
          0,
          0,
          0,
          0,
          0,
          0,
          0,
          0,
          0,
          0,
          0,
          0,
          0,
          0,
          0,
          0,
          0,
          0,
          0,
          0,
          0,
          0,
          0,
          0,
          0,
          100000,
          0,
          0,
          0,
          0,
          0,
          0,
          0,
          0,
          0,
          0,
          0,
          0,
          0,
          0,
          0,
          0,
          0,
          0,
          0
         ],
         "yaxis": "y"
        }
       ],
       "layout": {
        "coloraxis": {
         "colorbar": {
          "title": {
           "text": "color"
          }
         },
         "colorscale": [
          [
           0,
           "#0d0887"
          ],
          [
           0.1111111111111111,
           "#46039f"
          ],
          [
           0.2222222222222222,
           "#7201a8"
          ],
          [
           0.3333333333333333,
           "#9c179e"
          ],
          [
           0.4444444444444444,
           "#bd3786"
          ],
          [
           0.5555555555555556,
           "#d8576b"
          ],
          [
           0.6666666666666666,
           "#ed7953"
          ],
          [
           0.7777777777777778,
           "#fb9f3a"
          ],
          [
           0.8888888888888888,
           "#fdca26"
          ],
          [
           1,
           "#f0f921"
          ]
         ]
        },
        "legend": {
         "tracegroupgap": 0
        },
        "margin": {
         "t": 60
        },
        "template": {
         "data": {
          "bar": [
           {
            "error_x": {
             "color": "#2a3f5f"
            },
            "error_y": {
             "color": "#2a3f5f"
            },
            "marker": {
             "line": {
              "color": "#E5ECF6",
              "width": 0.5
             },
             "pattern": {
              "fillmode": "overlay",
              "size": 10,
              "solidity": 0.2
             }
            },
            "type": "bar"
           }
          ],
          "barpolar": [
           {
            "marker": {
             "line": {
              "color": "#E5ECF6",
              "width": 0.5
             },
             "pattern": {
              "fillmode": "overlay",
              "size": 10,
              "solidity": 0.2
             }
            },
            "type": "barpolar"
           }
          ],
          "carpet": [
           {
            "aaxis": {
             "endlinecolor": "#2a3f5f",
             "gridcolor": "white",
             "linecolor": "white",
             "minorgridcolor": "white",
             "startlinecolor": "#2a3f5f"
            },
            "baxis": {
             "endlinecolor": "#2a3f5f",
             "gridcolor": "white",
             "linecolor": "white",
             "minorgridcolor": "white",
             "startlinecolor": "#2a3f5f"
            },
            "type": "carpet"
           }
          ],
          "choropleth": [
           {
            "colorbar": {
             "outlinewidth": 0,
             "ticks": ""
            },
            "type": "choropleth"
           }
          ],
          "contour": [
           {
            "colorbar": {
             "outlinewidth": 0,
             "ticks": ""
            },
            "colorscale": [
             [
              0,
              "#0d0887"
             ],
             [
              0.1111111111111111,
              "#46039f"
             ],
             [
              0.2222222222222222,
              "#7201a8"
             ],
             [
              0.3333333333333333,
              "#9c179e"
             ],
             [
              0.4444444444444444,
              "#bd3786"
             ],
             [
              0.5555555555555556,
              "#d8576b"
             ],
             [
              0.6666666666666666,
              "#ed7953"
             ],
             [
              0.7777777777777778,
              "#fb9f3a"
             ],
             [
              0.8888888888888888,
              "#fdca26"
             ],
             [
              1,
              "#f0f921"
             ]
            ],
            "type": "contour"
           }
          ],
          "contourcarpet": [
           {
            "colorbar": {
             "outlinewidth": 0,
             "ticks": ""
            },
            "type": "contourcarpet"
           }
          ],
          "heatmap": [
           {
            "colorbar": {
             "outlinewidth": 0,
             "ticks": ""
            },
            "colorscale": [
             [
              0,
              "#0d0887"
             ],
             [
              0.1111111111111111,
              "#46039f"
             ],
             [
              0.2222222222222222,
              "#7201a8"
             ],
             [
              0.3333333333333333,
              "#9c179e"
             ],
             [
              0.4444444444444444,
              "#bd3786"
             ],
             [
              0.5555555555555556,
              "#d8576b"
             ],
             [
              0.6666666666666666,
              "#ed7953"
             ],
             [
              0.7777777777777778,
              "#fb9f3a"
             ],
             [
              0.8888888888888888,
              "#fdca26"
             ],
             [
              1,
              "#f0f921"
             ]
            ],
            "type": "heatmap"
           }
          ],
          "heatmapgl": [
           {
            "colorbar": {
             "outlinewidth": 0,
             "ticks": ""
            },
            "colorscale": [
             [
              0,
              "#0d0887"
             ],
             [
              0.1111111111111111,
              "#46039f"
             ],
             [
              0.2222222222222222,
              "#7201a8"
             ],
             [
              0.3333333333333333,
              "#9c179e"
             ],
             [
              0.4444444444444444,
              "#bd3786"
             ],
             [
              0.5555555555555556,
              "#d8576b"
             ],
             [
              0.6666666666666666,
              "#ed7953"
             ],
             [
              0.7777777777777778,
              "#fb9f3a"
             ],
             [
              0.8888888888888888,
              "#fdca26"
             ],
             [
              1,
              "#f0f921"
             ]
            ],
            "type": "heatmapgl"
           }
          ],
          "histogram": [
           {
            "marker": {
             "pattern": {
              "fillmode": "overlay",
              "size": 10,
              "solidity": 0.2
             }
            },
            "type": "histogram"
           }
          ],
          "histogram2d": [
           {
            "colorbar": {
             "outlinewidth": 0,
             "ticks": ""
            },
            "colorscale": [
             [
              0,
              "#0d0887"
             ],
             [
              0.1111111111111111,
              "#46039f"
             ],
             [
              0.2222222222222222,
              "#7201a8"
             ],
             [
              0.3333333333333333,
              "#9c179e"
             ],
             [
              0.4444444444444444,
              "#bd3786"
             ],
             [
              0.5555555555555556,
              "#d8576b"
             ],
             [
              0.6666666666666666,
              "#ed7953"
             ],
             [
              0.7777777777777778,
              "#fb9f3a"
             ],
             [
              0.8888888888888888,
              "#fdca26"
             ],
             [
              1,
              "#f0f921"
             ]
            ],
            "type": "histogram2d"
           }
          ],
          "histogram2dcontour": [
           {
            "colorbar": {
             "outlinewidth": 0,
             "ticks": ""
            },
            "colorscale": [
             [
              0,
              "#0d0887"
             ],
             [
              0.1111111111111111,
              "#46039f"
             ],
             [
              0.2222222222222222,
              "#7201a8"
             ],
             [
              0.3333333333333333,
              "#9c179e"
             ],
             [
              0.4444444444444444,
              "#bd3786"
             ],
             [
              0.5555555555555556,
              "#d8576b"
             ],
             [
              0.6666666666666666,
              "#ed7953"
             ],
             [
              0.7777777777777778,
              "#fb9f3a"
             ],
             [
              0.8888888888888888,
              "#fdca26"
             ],
             [
              1,
              "#f0f921"
             ]
            ],
            "type": "histogram2dcontour"
           }
          ],
          "mesh3d": [
           {
            "colorbar": {
             "outlinewidth": 0,
             "ticks": ""
            },
            "type": "mesh3d"
           }
          ],
          "parcoords": [
           {
            "line": {
             "colorbar": {
              "outlinewidth": 0,
              "ticks": ""
             }
            },
            "type": "parcoords"
           }
          ],
          "pie": [
           {
            "automargin": true,
            "type": "pie"
           }
          ],
          "scatter": [
           {
            "fillpattern": {
             "fillmode": "overlay",
             "size": 10,
             "solidity": 0.2
            },
            "type": "scatter"
           }
          ],
          "scatter3d": [
           {
            "line": {
             "colorbar": {
              "outlinewidth": 0,
              "ticks": ""
             }
            },
            "marker": {
             "colorbar": {
              "outlinewidth": 0,
              "ticks": ""
             }
            },
            "type": "scatter3d"
           }
          ],
          "scattercarpet": [
           {
            "marker": {
             "colorbar": {
              "outlinewidth": 0,
              "ticks": ""
             }
            },
            "type": "scattercarpet"
           }
          ],
          "scattergeo": [
           {
            "marker": {
             "colorbar": {
              "outlinewidth": 0,
              "ticks": ""
             }
            },
            "type": "scattergeo"
           }
          ],
          "scattergl": [
           {
            "marker": {
             "colorbar": {
              "outlinewidth": 0,
              "ticks": ""
             }
            },
            "type": "scattergl"
           }
          ],
          "scattermapbox": [
           {
            "marker": {
             "colorbar": {
              "outlinewidth": 0,
              "ticks": ""
             }
            },
            "type": "scattermapbox"
           }
          ],
          "scatterpolar": [
           {
            "marker": {
             "colorbar": {
              "outlinewidth": 0,
              "ticks": ""
             }
            },
            "type": "scatterpolar"
           }
          ],
          "scatterpolargl": [
           {
            "marker": {
             "colorbar": {
              "outlinewidth": 0,
              "ticks": ""
             }
            },
            "type": "scatterpolargl"
           }
          ],
          "scatterternary": [
           {
            "marker": {
             "colorbar": {
              "outlinewidth": 0,
              "ticks": ""
             }
            },
            "type": "scatterternary"
           }
          ],
          "surface": [
           {
            "colorbar": {
             "outlinewidth": 0,
             "ticks": ""
            },
            "colorscale": [
             [
              0,
              "#0d0887"
             ],
             [
              0.1111111111111111,
              "#46039f"
             ],
             [
              0.2222222222222222,
              "#7201a8"
             ],
             [
              0.3333333333333333,
              "#9c179e"
             ],
             [
              0.4444444444444444,
              "#bd3786"
             ],
             [
              0.5555555555555556,
              "#d8576b"
             ],
             [
              0.6666666666666666,
              "#ed7953"
             ],
             [
              0.7777777777777778,
              "#fb9f3a"
             ],
             [
              0.8888888888888888,
              "#fdca26"
             ],
             [
              1,
              "#f0f921"
             ]
            ],
            "type": "surface"
           }
          ],
          "table": [
           {
            "cells": {
             "fill": {
              "color": "#EBF0F8"
             },
             "line": {
              "color": "white"
             }
            },
            "header": {
             "fill": {
              "color": "#C8D4E3"
             },
             "line": {
              "color": "white"
             }
            },
            "type": "table"
           }
          ]
         },
         "layout": {
          "annotationdefaults": {
           "arrowcolor": "#2a3f5f",
           "arrowhead": 0,
           "arrowwidth": 1
          },
          "autotypenumbers": "strict",
          "coloraxis": {
           "colorbar": {
            "outlinewidth": 0,
            "ticks": ""
           }
          },
          "colorscale": {
           "diverging": [
            [
             0,
             "#8e0152"
            ],
            [
             0.1,
             "#c51b7d"
            ],
            [
             0.2,
             "#de77ae"
            ],
            [
             0.3,
             "#f1b6da"
            ],
            [
             0.4,
             "#fde0ef"
            ],
            [
             0.5,
             "#f7f7f7"
            ],
            [
             0.6,
             "#e6f5d0"
            ],
            [
             0.7,
             "#b8e186"
            ],
            [
             0.8,
             "#7fbc41"
            ],
            [
             0.9,
             "#4d9221"
            ],
            [
             1,
             "#276419"
            ]
           ],
           "sequential": [
            [
             0,
             "#0d0887"
            ],
            [
             0.1111111111111111,
             "#46039f"
            ],
            [
             0.2222222222222222,
             "#7201a8"
            ],
            [
             0.3333333333333333,
             "#9c179e"
            ],
            [
             0.4444444444444444,
             "#bd3786"
            ],
            [
             0.5555555555555556,
             "#d8576b"
            ],
            [
             0.6666666666666666,
             "#ed7953"
            ],
            [
             0.7777777777777778,
             "#fb9f3a"
            ],
            [
             0.8888888888888888,
             "#fdca26"
            ],
            [
             1,
             "#f0f921"
            ]
           ],
           "sequentialminus": [
            [
             0,
             "#0d0887"
            ],
            [
             0.1111111111111111,
             "#46039f"
            ],
            [
             0.2222222222222222,
             "#7201a8"
            ],
            [
             0.3333333333333333,
             "#9c179e"
            ],
            [
             0.4444444444444444,
             "#bd3786"
            ],
            [
             0.5555555555555556,
             "#d8576b"
            ],
            [
             0.6666666666666666,
             "#ed7953"
            ],
            [
             0.7777777777777778,
             "#fb9f3a"
            ],
            [
             0.8888888888888888,
             "#fdca26"
            ],
            [
             1,
             "#f0f921"
            ]
           ]
          },
          "colorway": [
           "#636efa",
           "#EF553B",
           "#00cc96",
           "#ab63fa",
           "#FFA15A",
           "#19d3f3",
           "#FF6692",
           "#B6E880",
           "#FF97FF",
           "#FECB52"
          ],
          "font": {
           "color": "#2a3f5f"
          },
          "geo": {
           "bgcolor": "white",
           "lakecolor": "white",
           "landcolor": "#E5ECF6",
           "showlakes": true,
           "showland": true,
           "subunitcolor": "white"
          },
          "hoverlabel": {
           "align": "left"
          },
          "hovermode": "closest",
          "mapbox": {
           "style": "light"
          },
          "paper_bgcolor": "white",
          "plot_bgcolor": "#E5ECF6",
          "polar": {
           "angularaxis": {
            "gridcolor": "white",
            "linecolor": "white",
            "ticks": ""
           },
           "bgcolor": "#E5ECF6",
           "radialaxis": {
            "gridcolor": "white",
            "linecolor": "white",
            "ticks": ""
           }
          },
          "scene": {
           "xaxis": {
            "backgroundcolor": "#E5ECF6",
            "gridcolor": "white",
            "gridwidth": 2,
            "linecolor": "white",
            "showbackground": true,
            "ticks": "",
            "zerolinecolor": "white"
           },
           "yaxis": {
            "backgroundcolor": "#E5ECF6",
            "gridcolor": "white",
            "gridwidth": 2,
            "linecolor": "white",
            "showbackground": true,
            "ticks": "",
            "zerolinecolor": "white"
           },
           "zaxis": {
            "backgroundcolor": "#E5ECF6",
            "gridcolor": "white",
            "gridwidth": 2,
            "linecolor": "white",
            "showbackground": true,
            "ticks": "",
            "zerolinecolor": "white"
           }
          },
          "shapedefaults": {
           "line": {
            "color": "#2a3f5f"
           }
          },
          "ternary": {
           "aaxis": {
            "gridcolor": "white",
            "linecolor": "white",
            "ticks": ""
           },
           "baxis": {
            "gridcolor": "white",
            "linecolor": "white",
            "ticks": ""
           },
           "bgcolor": "#E5ECF6",
           "caxis": {
            "gridcolor": "white",
            "linecolor": "white",
            "ticks": ""
           }
          },
          "title": {
           "x": 0.05
          },
          "xaxis": {
           "automargin": true,
           "gridcolor": "white",
           "linecolor": "white",
           "ticks": "",
           "title": {
            "standoff": 15
           },
           "zerolinecolor": "white",
           "zerolinewidth": 2
          },
          "yaxis": {
           "automargin": true,
           "gridcolor": "white",
           "linecolor": "white",
           "ticks": "",
           "title": {
            "standoff": 15
           },
           "zerolinecolor": "white",
           "zerolinewidth": 2
          }
         }
        },
        "xaxis": {
         "anchor": "y",
         "domain": [
          0,
          1
         ],
         "title": {
          "text": "vote_count"
         }
        },
        "yaxis": {
         "anchor": "x",
         "domain": [
          0,
          1
         ],
         "title": {
          "text": "revenue"
         }
        }
       }
      },
      "text/html": [
       "<div>                            <div id=\"4bfef67f-cbc8-4301-90e1-5fee3bbae49f\" class=\"plotly-graph-div\" style=\"height:525px; width:100%;\"></div>            <script type=\"text/javascript\">                require([\"plotly\"], function(Plotly) {                    window.PLOTLYENV=window.PLOTLYENV || {};                                    if (document.getElementById(\"4bfef67f-cbc8-4301-90e1-5fee3bbae49f\")) {                    Plotly.newPlot(                        \"4bfef67f-cbc8-4301-90e1-5fee3bbae49f\",                        [{\"customdata\":[[\"Orphan: First Kill\",6.9,5088.584],[\"Jeepers Creepers: Reborn\",5.8,821.605],[\"X\",6.8,543.67],[\"The Jack in the Box: Awakening\",6.4,527.579],[\"Halloween Kills\",6.7,315.027],[\"Texas Chainsaw Massacre\",5.3,293.443],[\"Scream\",6.7,291.196],[\"Orphan\",7.0,265.858],[\"Bring It On: Cheer or Die\",6.2,253.614],[\"Jeepers Creepers 3\",4.9,246.189],[\"The Conjuring: The Devil Made Me Do It\",7.6,246.13],[\"The Addams Family 2\",7.1,241.156],[\"It Chapter Two\",6.9,230.451],[\"The Forever Purge\",7.2,198.269],[\"Don't Breathe 2\",7.3,196.003],[\"Jeepers Creepers\",6.4,195.983],[\"The Conjuring\",7.5,173.527],[\"Jeepers Creepers 2\",6.1,169.063],[\"Halloween\",6.5,158.374],[\"A Quiet Place Part II\",7.6,153.956],[\"Paranormal Activity: Next of Kin\",6.4,149.767],[\"Black Water: Abyss\",5.1,147.567],[\"Bride of Chucky\",6.0,139.831],[\"Wrong Turn 3: Left for Dead\",5.6,138.012],[\"The Conjuring 2\",7.3,137.18],[\"The Nun\",5.8,131.032],[\"A Haunted House 2\",6.0,125.807],[\"Wrong Turn 4: Bloody Beginnings\",5.7,125.455],[\"Wrong Turn 2: Dead End\",6.0,123.581],[\"Constantine\",7.0,119.677],[\"The Meg\",6.2,116.512],[\"Cult of Chucky\",5.8,116.318],[\"The Addams Family\",6.6,116.021],[\"Wrong Turn 5: Bloodlines\",5.4,112.707],[\"Fear Street: 1994\",6.8,111.397],[\"Terrifier 2\",8.0,109.994],[\"Halloween\",7.6,109.29],[\"A Haunted House\",5.8,108.186],[\"The First Purge\",6.0,108.11],[\"It\",7.2,106.786],[\"Fear Street: 1978\",7.3,105.156],[\"Straight Outta Nowhere: Scooby-Doo! Meets Courage the Cowardly Dog\",8.1,103.618],[\"Seed of Chucky\",5.4,102.731],[\"The Exorcist\",7.7,101.991],[\"Army of the Dead\",6.3,99.777],[\"Child's Play 2\",6.2,97.858],[\"Halloween\",6.2,97.161],[\"Dragon Fury\",6.0,96.114],[\"Train to Busan\",7.8,94.624],[\"Saw\",7.4,93.053],[\"The Purge: Election Year\",6.4,91.119],[\"Wrong Turn\",6.3,90.04],[\"Child's Play 3\",5.9,89.455],[\"Hellraiser\",5.8,89.225],[\"Annabelle Comes Home\",6.4,88.826],[\"The Texas Chainsaw Massacre\",6.2,86.118],[\"Final Destination\",6.6,83.626],[\"Curse of Chucky\",5.9,82.858],[\"The Purge\",6.3,81.585],[\"Annabelle: Creation\",6.6,81.021],[\"The Ring\",6.6,73.898],[\"Final Destination 5\",6.1,73.733],[\"Alien: Covenant\",6.1,73.672],[\"Insidious\",6.9,73.643],[\"Aliens vs Predator: Requiem\",5.1,73.039],[\"Paranormal Activity: The Marked Ones\",5.4,73.028],[\"Goosebumps\",6.3,72.726],[\"Freddy vs. Jason\",6.0,72.488],[\"Paranormal Activity\",6.0,71.944],[\"The Craft: Legacy\",6.3,71.202],[\"The Texas Chainsaw Massacre: The Beginning\",6.1,69.979],[\"[REC]\",7.2,68.845],[\"Nobody Sleeps in the Woods Tonight\",5.3,68.493],[\"Annabelle\",5.7,68.243],[\"Halloween 4: The Return of Michael Myers\",6.1,68.198],[\"Insidious: Chapter 2\",6.7,68.172],[\"Scream\",7.4,67.783],[\"The Human Centipede (First Sequence)\",5.2,67.63],[\"Underworld: Awakening\",6.3,67.467],[\"Final Destination 3\",6.1,67.459],[\"Fear Street: 1666\",7.3,66.278],[\"Sinister\",6.8,65.319],[\"Zombieland\",7.3,65.001],[\"Goosebumps 2: Haunted Halloween\",6.1,64.989],[\"Final Destination 2\",6.2,64.18],[\"A Quiet Place\",7.4,63.493],[\"The Shining\",8.2,63.472],[\"Underworld: Blood Wars\",5.8,63.45],[\"Hellraiser\",6.9,63.431],[\"Peninsula\",6.8,62.868],[\"The Hills Have Eyes\",6.4,62.574],[\"Candyman\",6.1,62.465],[\"Freddy's Dead: The Final Nightmare\",5.3,61.784],[\"The Purge: Anarchy\",6.7,61.71],[\"Alien\",8.1,60.982],[\"Terrifier\",6.5,60.726],[\"Escape Room: Tournament of Champions\",6.7,60.72],[\"Saw II\",6.6,60.408],[\"Megalodon\",5.7,60.183],[\"Halloween II\",5.4,59.789],[\"Attack on Titan II: End of the World\",5.9,59.771],[\"Dinosaur Hotel\",5.2,59.573],[\"Anacondas: The Hunt for the Blood Orchid\",5.4,59.552],[\"Saw III\",6.4,59.343],[\"Friday the 13th\",6.4,58.957],[\"Halloween 5: The Revenge of Michael Myers\",5.4,58.22],[\"Blade\",6.7,57.899],[\"I Spit on Your Grave\",6.5,57.811],[\"The Texas Chain Saw Massacre\",7.3,57.809],[\"The Thing\",8.0,56.545],[\"Veronica\",6.2,56.39],[\"Insidious: The Last Key\",6.2,56.103],[\"Texas Chainsaw 3D\",5.5,55.817],[\"Paranormal Activity 3\",5.9,55.508],[\"Saw IV\",6.2,54.942],[\"I Spit on Your Grave III: Vengeance is Mine\",5.7,53.578],[\"The Hills Have Eyes 2\",5.5,53.301],[\"28 Weeks Later\",6.6,53.104],[\"Don't Breathe\",7.0,53.069],[\"The Final Destination\",5.6,53.023],[\"Halloween: The Curse of Michael Myers\",5.2,52.474],[\"The Human Centipede 2 (Full Sequence)\",4.8,51.967],[\"[REC]\\u2074 Apocalypse\",5.5,51.876],[\"Deep Blue Sea 3\",5.8,51.476],[\"Jaws\",7.6,51.381],[\"Scream 2\",6.4,51.026],[\"AVP: Alien vs. Predator\",5.9,50.996],[\"Hostel\",5.9,50.839],[\"The Babysitter: Killer Queen\",6.4,50.778],[\"Piranha 3D\",5.4,50.603],[\"Van Helsing\",6.3,50.495],[\"Halloween II\",6.5,50.085],[\"Evil Dead\",6.5,49.982],[\"Hostel: Part II\",5.8,49.793],[\"I Spit on Your Grave 2\",6.3,49.755],[\"28 Days Later\",7.2,49.268],[\"Friday the 13th: The Final Chapter\",6.1,48.887],[\"Insidious: Chapter 3\",6.3,48.653],[\"Halloween: Resurrection\",4.7,47.79],[\"The Ring Two\",5.7,47.482],[\"Saw 3D\",6.0,47.018],[\"Carrie\",7.3,46.915],[\"The Blair Witch Project\",6.3,46.286],[\"The Evil Dead\",7.3,46.079],[\"Friday the 13th Part 2\",6.1,45.906],[\"Leprechaun 3\",5.9,45.746],[\"Ouija\",5.2,45.058],[\"The Grudge\",5.9,44.825],[\"[REC]\\u00b3 Genesis\",5.2,44.643],[\"Saw V\",6.2,44.561],[\"A Nightmare on Elm Street\",7.3,44.489],[\"Fright Night\",7.0,44.473],[\"Pet Sematary\",6.6,43.608],[\"Interview with the Vampire\",7.4,42.674],[\"Saw VI\",6.3,42.6],[\"Scream 4\",6.4,42.342],[\"Psycho\",8.4,42.064],[\"An American Werewolf in London\",7.4,41.806],[\"Army of Darkness\",7.3,41.242],[\"Halloween H20: 20 Years Later\",6.0,41.178],[\"The Descent\",6.9,40.383],[\"Resident Evil: Damnation\",6.8,40.315],[\"Anaconda\",5.1,40.311],[\"Leprechaun\",5.6,40.194],[\"Poltergeist\",7.1,40.123],[\"Tremors\",6.8,40.012],[\"The Amityville Horror\",6.1,39.997],[\"Blade: Trinity\",5.9,39.805],[\"Leprechaun 2\",5.6,39.55],[\"Blade II\",6.5,39.411],[\"Jigsaw\",6.2,39.398],[\"The Boy\",5.9,38.999],[\"The Return of the Living Dead\",7.2,38.791],[\"The Strangers: Prey at Night\",5.6,38.516],[\"Hellraiser: Hellworld\",4.8,38.501],[\"Rings\",5.0,38.303],[\"Pearl\",7.0,38.183],[\"Halloween III: Season of the Witch\",5.1,38.146],[\"A Nightmare on Elm Street Part 2: Freddy's Revenge\",5.8,38.067],[\"The Last House on the Left\",6.4,38.056],[\"Species\",5.9,38.051],[\"The Descent: Part 2\",5.9,38.029],[\"Hellbound: Hellraiser II\",6.4,37.92],[\"The Exorcist III\",6.2,37.903],[\"Ouija: Origin of Evil\",6.1,37.821],[\"Friday the 13th Part VI: Jason Lives\",6.2,37.545],[\"Scream 3\",5.9,37.529],[\"A Nightmare on Elm Street 4: The Dream Master\",5.8,37.502],[\"Bordello of Blood\",5.9,37.441],[\"[REC]\\u00b2\",6.6,37.108],[\"Wolf Creek 2\",6.3,36.644],[\"Leatherface\",5.5,36.593],[\"Escape Room\",6.5,36.573],[\"Jason X\",4.8,36.342],[\"Friday the 13th Part VIII: Jason Takes Manhattan\",5.0,36.337],[\"Silent Hill: Revelation 3D\",5.5,36.244],[\"The Babysitter\",6.1,35.85],[\"Piranha\",5.9,35.829],[\"Silent Hill\",6.5,35.639],[\"Lights Out\",6.3,35.639],[\"Leprechaun: Back 2 tha Hood\",5.2,35.458],[\"Happy Death Day\",6.6,35.43],[\"Friday the 13th Part III\",5.8,35.313],[\"The Craft\",6.7,35.18],[\"Wishmaster 2: Evil Never Dies\",5.5,35.088],[\"Suspiria\",7.5,34.891],[\"Children of the Corn\",5.7,34.686],[\"I Know What You Did Last Summer\",5.9,34.017],[\"Leatherface: The Texas Chainsaw Massacre III\",5.3,33.339],[\"The Texas Chainsaw Massacre 2\",5.6,33.29],[\"The Empire of Corpses\",6.0,33.239],[\"Exorcist II: The Heretic\",4.5,32.967],[\"Pet Sematary\",5.7,32.935],[\"Hostel: Part III\",5.1,32.318],[\"See No Evil\",5.4,32.164],[\"Hellraiser: Deader\",4.7,31.757],[\"The Return of the Texas Chainsaw Massacre\",4.4,31.468],[\"Critters\",6.4,31.428],[\"Sinister 2\",5.8,31.394],[\"Messengers 2: The Scarecrow\",5.4,31.216],[\"Forbidden Empire\",5.9,31.129],[\"Happy Death Day 2U\",6.3,30.925],[\"Grave Encounters 2\",5.5,30.872],[\"House of 1000 Corpses\",6.2,30.568],[\"Hellraiser III: Hell on Earth\",5.7,30.562],[\"New Nightmare\",6.4,30.385],[\"Friday the 13th Part VII: The New Blood\",5.4,30.38],[\"Creepshow\",6.9,30.331],[\"Friday the 13th: A New Beginning\",5.3,30.247],[\"The Birds\",7.5,30.096],[\"Gremlins\",7.1,30.063],[\"Doctor Sleep\",7.2,29.402],[\"The Howling\",6.5,29.36],[\"Gremlins 2: The New Batch\",6.4,29.242],[\"Paranormal Activity 2\",5.7,29.023],[\"Robert Reborn\",3.9,28.911],[\"Creepshow 3\",4.7,28.786],[\"Doom: Annihilation\",4.9,28.724],[\"Ginger Snaps\",6.8,28.2],[\"Hellraiser: Inferno\",5.4,28.195],[\"Brahms: The Boy II\",6.0,28.004],[\"30 Days of Night\",6.4,27.909],[\"Return of the Living Dead III\",6.6,27.871],[\"The Thing\",6.2,27.719],[\"47 Meters Down\",5.8,27.688],[\"Ringu\",7.1,27.596],[\"The Omen\",7.4,27.545],[\"The Collector\",6.6,27.476],[\"The Strangers\",6.1,27.332],[\"The Woman in Black 2: Angel of Death\",5.2,27.191],[\"I Spit on Your Grave\",6.0,27.131],[\"The Human Centipede 3 (Final Sequence)\",3.7,27.09],[\"Paranormal Activity 4\",5.4,26.924],[\"Alien Resurrection\",6.1,26.916],[\"Leprechaun in the Hood\",5.1,26.911],[\"House\",6.1,26.73],[\"Unfriended\",5.5,26.72],[\"Anaconda 3: Offspring\",4.8,26.672],[\"Hellraiser: Hellseeker\",4.9,26.19],[\"Jaws 2\",5.9,26.18],[\"Piranha 3DD\",4.3,26.066],[\"From Dusk Till Dawn\",7.0,25.818],[\"Wolf Creek\",6.2,25.809],[\"Exorcist: The Beginning\",5.4,25.745],[\"The Bridge Curse\",6.5,25.721],[\"The Messengers\",5.7,25.592],[\"47 Meters Down: Uncaged\",5.7,25.522],[\"Resident Evil: Apocalypse\",6.3,25.504],[\"Candyman\",6.6,25.43],[\"Mirrors\",6.2,25.389],[\"Jaws: The Revenge\",4.1,25.29],[\"Night of the Living Dead\",7.6,25.289],[\"Dawn of the Dead\",7.5,25.198],[\"Tremors 2: Aftershocks\",6.2,25.188],[\"Silent Night, Deadly Night\",5.8,24.794],[\"Zoombies\",5.2,24.788],[\"Anacondas: Trail of Blood\",4.8,24.47],[\"Resident Evil\",6.6,24.356],[\"Grave Encounters\",6.3,24.32],[\"Leprechaun Returns\",6.0,24.287],[\"Unfriended: Dark Web\",6.3,24.191],[\"Hellraiser: Judgment\",5.1,24.182],[\"Pet Sematary II\",5.3,24.157],[\"An American Werewolf in Paris\",5.9,24.146],[\"Jaws 3-D\",4.4,24.146],[\"The Fly\",7.4,24.061],[\"Paranormal Activity: The Ghost Dimension\",5.3,24.036],[\"The Skeleton Key\",6.6,23.969],[\"The Haunting in Connecticut 2: Ghosts of Georgia\",5.8,23.934],[\"Species III\",5.3,23.901],[\"The Amityville Horror\",6.3,23.878],[\"Leprechaun 4: In Space\",4.6,23.875],[\"30 Days of Night: Dark Days\",4.9,23.715],[\"Dominion: Prequel to The Exorcist\",5.3,23.695],[\"The Lost Boys\",7.1,23.542],[\"Darlin'\",5.5,23.513],[\"Leprechaun: Origins\",4.7,23.492],[\"The Collection\",6.3,23.464],[\"Satan's Slaves\",6.7,23.425],[\"Poltergeist II: The Other Side\",6.0,23.377],[\"V/H/S\",6.1,23.35],[\"Dead Space: Downfall\",6.2,23.337],[\"Book of Shadows: Blair Witch 2\",4.2,23.306],[\"I Still Know What You Did Last Summer\",5.3,23.219],[\"Sadako vs. Kayako\",5.4,23.105],[\"V/H/S/94\",6.3,23.043],[\"Rosemary's Baby\",7.8,22.975],[\"Creep 2\",6.3,22.877],[\"The Woman in Black\",6.1,22.819],[\"Hellraiser: Bloodline\",5.3,22.544],[\"Blair Witch\",5.2,22.395],[\"Tremors 3: Back to Perfection\",5.8,22.373],[\"Vacancy\",6.2,22.325],[\"Ju-on: The Grudge\",6.7,22.301],[\"The Grudge 2\",5.5,22.217],[\"Deep Blue Sea 2\",5.1,22.013],[\"Species II\",5.1,21.794],[\"Urban Legends: Final Cut\",4.8,21.559],[\"Hellraiser: Revelations\",3.6,21.545],[\"Ginger Snaps 2: Unleashed\",6.5,21.484],[\"A Nightmare on Elm Street 3: Dream Warriors\",6.7,21.198],[\"Fright Night\",6.2,21.17],[\"The Last Exorcism\",5.6,21.06],[\"A Nightmare on Elm Street: The Dream Child\",5.4,20.909],[\"Resident Evil: Degeneration\",6.8,20.906],[\"Land of the Dead\",6.2,20.544],[\"Lake Placid\",5.9,20.488],[\"Cabin Fever\",5.7,20.364],[\"Amityville II: The Possession\",5.8,20.16],[\"Dracula 2000\",5.1,20.145],[\"Critters 2\",6.0,20.123],[\"Alien\\u00b3\",6.3,19.883],[\"Boo 2! A Madea Halloween\",5.7,19.835],[\"V/H/S/2\",6.2,19.644],[\"Tusk\",5.5,19.296],[\"Deep Blue Sea\",5.9,19.294],[\"Doom\",5.1,19.26],[\"Open Water\",5.5,19.112],[\"Wishmaster 4: The Prophecy Fulfilled\",4.6,18.827],[\"The Grudge 3\",5.4,18.813],[\"Amityville: The Awakening\",5.4,18.767],[\"Tremors 4: The Legend Begins\",5.6,18.695],[\"Swamp Thing\",5.4,18.641],[\"Species: The Awakening\",4.7,18.637],[\"The Gallows\",5.0,18.548],[\"I'll Always Know What You Did Last Summer\",4.3,18.538],[\"Poltergeist III\",5.2,18.531],[\"Queen of the Damned\",6.1,18.506],[\"All Hallows' Eve\",5.9,18.378],[\"Mirrors 2\",5.5,18.309],[\"American Psycho II: All American Girl\",4.6,18.281],[\"Tokyo Ghoul 'S'\",6.7,18.238],[\"The Haunting in Connecticut\",6.2,18.168],[\"Pulse\",5.0,18.137],[\"Scooby-Doo! Frankencreepy\",7.8,17.711],[\"Survival of the Dead\",4.9,17.627],[\"Day Watch\",6.1,17.544],[\"Wishmaster 3: Beyond the Gates of Hell\",4.4,17.425],[\"Lake Placid 3\",5.3,17.338],[\"Dead Snow\",6.0,17.114],[\"Cage Dive\",4.6,17.114],[\"3 from Hell\",5.9,17.106],[\"Open Water 2: Adrift\",5.5,17.096],[\"Re-Animator\",7.0,17.048],[\"The Last House on the Left\",6.0,16.966],[\"Vampires\",6.3,16.921],[\"The Crow: Salvation\",5.4,16.866],[\"Fright Night Part 2\",6.4,16.865],[\"V/H/S: Viral\",4.9,16.663],[\"Critters 3\",5.1,16.561],[\"The Devil's Rejects\",6.8,16.424],[\"Mimic\",6.0,16.409],[\"Medusa: Queen of the Serpents\",6.3,16.399],[\"House on Haunted Hill\",5.6,16.294],[\"Silent Night, Deadly Night Part 2\",4.6,16.282],[\"Prom Night\",5.7,16.274],[\"Alone in the Dark\",3.2,16.253],[\"Quarantine 2: Terminal\",5.7,16.223],[\"Children of the Corn II: The Final Sacrifice\",4.8,16.22],[\"The Stepfather\",6.5,16.199],[\"Vampires: Los Muertos\",5.4,16.191],[\"Dracula II: Ascension\",5.6,16.058],[\"The Last Exorcism Part II\",4.7,16.057],[\"Starship Troopers 2: Hero of the Federation\",4.3,16.009],[\"Psycho II\",6.4,16.001],[\"Cabin Fever 2: Spring Fever\",4.5,15.97],[\"Day of the Dead\",7.0,15.962],[\"Dead Snow 2: Red vs. Dead\",6.6,15.94],[\"Urban Legends: Bloody Mary\",4.9,15.84],[\"Creature from the Black Lagoon\",6.9,15.758],[\"The Cell\",6.3,15.71],[\"See No Evil 2\",5.4,15.566],[\"The Reef: Stalked\",6.3,15.533],[\"Village of the Damned\",7.2,15.516],[\"Omen IV: The Awakening\",5.1,15.415],[\"Godzilla Raids Again\",6.0,15.389],[\"The Hitcher\",7.0,15.342],[\"Omen III: The Final Conflict\",5.8,15.321],[\"The Fly II\",5.5,15.288],[\"The House by the Cemetery\",6.1,15.266],[\"Cold Prey\",6.2,15.212],[\"The Rocky Horror Picture Show\",7.5,15.202],[\"Boo! A Madea Halloween\",5.7,14.994],[\"Creepshow 2\",6.2,14.978],[\"Crocodile\",5.3,14.929],[\"The Fly\",7.1,14.889],[\"Godzilla\",7.6,14.815],[\"Warlock: The Armageddon\",5.3,14.802],[\"Zombie Flesh Eaters\",6.6,14.667],[\"Dracula\",7.3,14.65],[\"Ouija: Deadly Reunion\",4.9,14.597],[\"Scanners\",6.7,14.422],[\"Hatchet\",5.8,14.42],[\"The Blob\",6.3,14.249],[\"Urban Legend\",5.7,14.192],[\"Yoga Hosers\",4.7,14.067],[\"Quarantine\",5.8,14.059],[\"Godzilla, King of the Monsters!\",6.6,13.969],[\"The Golden Voyage of Sinbad\",6.6,13.913],[\"Emanuelle and the Last Cannibals\",4.9,13.815],[\"Laid to Rest\",5.2,13.805],[\"Mimic 2\",5.3,13.673],[\"White Noise\",5.6,13.653],[\"Howling Village\",5.3,13.636],[\"The Hills Have Eyes\",6.2,13.5],[\"Feast\",6.2,13.423],[\"The Stepford Wives\",6.7,13.352],[\"Damien: Omen II\",6.4,13.287],[\"5 Headed Shark Attack\",3.6,13.272],[\"Wishmaster\",6.0,13.226],[\"Pumpkinhead\",6.3,13.113],[\"Cabin Fever: Patient Zero\",5.0,13.089],[\"Inferno\",6.7,13.079],[\"City of the Living Dead\",6.3,13.03],[\"Becky\",6.4,13.017],[\"Pumpkinhead II: Blood Wings\",5.4,12.97],[\"BloodRayne\",4.2,12.952],[\"Dracula III: Legacy\",5.0,12.945],[\"Shark Attack 3: Megalodon\",4.3,12.932],[\"Children of the Corn IV: The Gathering\",4.5,12.932],[\"The Crow: Wicked Prayer\",3.4,12.858],[\"3-Headed Shark Attack\",4.2,12.823],[\"Resident Evil: Extinction\",6.3,12.617],[\"Night of the Demons 2\",6.2,12.597],[\"Wyrmwood: Apocalypse\",5.6,12.521],[\"Children of the Corn: Revelation\",4.0,12.465],[\"Demons\",6.6,12.433],[\"Wyrmwood: Road of the Dead\",6.1,12.431],[\"2-Headed Shark Attack\",4.2,12.421],[\"Joker's Poltergeist\",4.3,12.385],[\"BloodRayne 2: Deliverance\",4.1,12.358],[\"Boogeyman 2\",5.5,12.334],[\"Rape Zombie: Lust of the Dead 5\",5.5,12.327],[\"Children of the Corn V: Fields of Terror\",4.0,12.273],[\"Critters Attack!\",5.0,12.252],[\"One Missed Call\",6.1,12.137],[\"The Hidden\",7.0,12.103],[\"The Prophecy\",6.5,12.044],[\"The Rage: Carrie 2\",5.7,12.025],[\"Bhool Bhulaiyaa 2\",6.7,12.004],[\"Children of the Corn III: Urban Harvest\",4.7,11.984],[\"Tales from the Crypt: Demon Knight\",6.8,11.97],[\"Psycho IV: The Beginning\",5.6,11.819],[\"Sharknado\",3.9,11.762],[\"The Woman\",6.1,11.627],[\"Phantasm\",6.6,11.607],[\"Stir of Echoes\",6.7,11.572],[\"Vacancy 2: The First Cut\",5.3,11.571],[\"Nekromantik\",5.3,11.566],[\"Hollow Man II\",4.9,11.509],[\"The Reef\",5.7,11.506],[\"The Stakelander\",5.8,11.492],[\"Sleepaway Camp\",6.3,11.407],[\"The Lawnmower Man\",5.6,11.382],[\"Godzilla vs. Biollante\",7.2,11.296],[\"Return of the Living Dead Part II\",6.2,11.282],[\"One Cut of the Dead\",7.7,11.247],[\"V/H/S/99\",4.3,11.243],[\"Return of the Living Dead: Rave to the Grave\",5.3,11.239],[\"Maniac\",6.4,11.219],[\"The Cured\",5.6,11.18],[\"Quatermass 2\",6.5,11.178],[\"Grizzly II: Revenge\",3.3,11.172],[\"Victor Crowley\",5.7,11.152],[\"Planet of the Sharks\",3.8,11.088],[\"Screamers: The Hunting\",5.0,11.025],[\"Decoys\",4.8,11.004],[\"Lost Boys: The Tribe\",4.7,10.989],[\"Black Water\",5.9,10.975],[\"The Thinning\",6.9,10.937],[\"Henry: Portrait of a Serial Killer\",6.8,10.926],[\"Boogeyman\",4.9,10.898],[\"Emanuelle Around the World\",5.6,10.818],[\"Lavalantula\",5.0,10.75],[\"Howling II: Stirba - Werewolf Bitch\",5.2,10.734],[\"Puppet Master\",5.8,10.717],[\"Silent Night Deadly Night 4: Initiation\",4.3,10.715],[\"Alligator\",5.9,10.71],[\"Bats\",4.6,10.654],[\"Dark Night of the Scarecrow\",6.6,10.632],[\"Fright Night 2: New Blood\",4.8,10.581],[\"Mostly Ghostly: Have You Met My Ghoulfriend?\",5.8,10.578],[\"Tales from the Hood\",6.1,10.53],[\"Stepfather 2\",5.4,10.433],[\"Ghoulies\",4.8,10.416],[\"The Thinning: New World Order\",7.2,10.394],[\"Night of the Demons III\",5.6,10.38],[\"Satan's Slaves 2: Communion\",7.3,10.334],[\"Contracted\",5.3,10.322],[\"The Eye\",6.5,10.319],[\"The Prophecy II\",6.2,10.293],[\"Night of the Demons\",5.0,10.276],[\"August Underground\",4.3,10.271],[\"The Prophecy 3: The Ascent\",6.1,10.245],[\"The Toxic Avenger\",6.3,10.214],[\"2001 Maniacs\",5.3,10.204],[\"Diary of the Dead\",5.6,10.191],[\"Ringu 0\",6.2,10.163],[\"Children of the Corn 666: Isaac's Return\",4.8,10.163],[\"Greta, the Mad Butcher\",4.6,10.161],[\"The Hills Have Eyes Part II\",4.5,10.142],[\"Mega Shark vs. Crocosaurus\",4.0,10.129],[\"Demons 2\",6.1,10.111],[\"The ABCs of Death\",5.0,10.088],[\"The Gate\",6.0,10.085],[\"The Tag-Along\",6.0,10.063],[\"Buried Alive\",6.6,9.989],[\"Candyman: Day of the Dead\",4.7,9.974],[\"Hatchet II\",5.5,9.959],[\"Three\\u2026 Extremes\",6.8,9.952],[\"Stake Land\",6.2,9.922],[\"Screamers\",6.2,9.911],[\"Dracula: Prince of Darkness\",6.8,9.905],[\"The Car\",6.3,9.884],[\"Malibu Shark Attack\",3.9,9.835],[\"Troll\",4.9,9.774],[\"Mega Shark vs. Kolossus\",4.4,9.703],[\"Breaking Wind\",3.4,9.677],[\"House of the Dead\",3.2,9.663],[\"Python\",5.0,9.651],[\"The Howling: Reborn\",4.8,9.646],[\"Psycho III\",5.5,9.632],[\"Return of the Living Dead: Necropolis\",5.4,9.632],[\"Amityville 3-D\",4.6,9.618],[\"Blood Monkey\",5.6,9.589],[\"Twins of Evil\",6.8,9.579],[\"Robert\",4.1,9.566],[\"The Return of Swamp Thing\",5.6,9.491],[\"The Dentist\",5.6,9.468],[\"White Noise 2: The Light\",5.5,9.465],[\"Maniac Cop\",6.2,9.46],[\"C.H.U.D.\",5.7,9.442],[\"Pumpkinhead: Blood Feud\",5.8,9.44],[\"Dead in Tombstone\",5.0,9.423],[\"Lawnmower Man 2: Beyond Cyberspace\",2.9,9.386],[\"BloodRayne: The Third Reich\",3.9,9.378],[\"Wishing Stairs\",6.2,9.356],[\"Bride of Re-Animator\",6.2,9.352],[\"Mega Shark vs. Giant Octopus\",3.9,9.299],[\"Ginger Snaps Back: The Beginning\",6.1,9.243],[\"Lesson of the Evil\",6.6,9.232],[\"The Curse of Frankenstein\",6.8,9.196],[\"Hatchet III\",5.7,9.183],[\"Maniac Cop 2\",5.9,9.165],[\"He Never Died\",6.1,9.109],[\"Warlock\",6.3,9.103],[\"Sleepaway Camp II: Unhappy Campers\",5.9,9.091],[\"Seed\",3.9,9.072],[\"I Spit on Your Grave: D\\u00e9j\\u00e0 Vu\",3.1,9.049],[\"Piranha II: The Spawning\",4.4,9.044],[\"Mostly Ghostly\",6.3,9.039],[\"Rare Exports: A Christmas Tale\",6.3,9.0],[\"Return to Horror High\",5.4,8.993],[\"Night of the Demons\",6.2,8.963],[\"The Beyond\",6.9,8.952],[\"Troll 2\",3.9,8.933],[\"Critters 4\",5.0,8.932],[\"Sharktopus\",4.5,8.925],[\"The Second Arrival\",3.8,8.924],[\"The Eye 3: Infinity\",5.2,8.842],[\"Amityville: A New Generation\",4.0,8.841],[\"Dead Space: Aftermath\",6.0,8.832],[\"Phantasm III: Lord of the Dead\",5.8,8.818],[\"Blacula\",5.5,8.813],[\"Aileen Wuornos: American Boogeywoman\",5.6,8.795],[\"Waxwork\",6.2,8.783],[\"Gamera: Guardian of the Universe\",7.7,8.725],[\"Hello Mary Lou: Prom Night II\",5.8,8.717],[\"Reeker\",5.8,8.716],[\"Anatomy\",6.0,8.708],[\"Jack Frost\",5.2,8.697],[\"Puppet Master 4\",5.9,8.67],[\"The Satanic Rites of Dracula\",5.6,8.663],[\"Inhuman Kiss\",6.3,8.661],[\"ChromeSkull: Laid to Rest 2\",5.0,8.647],[\"The Prophecy: Uprising\",5.0,8.641],[\"Beyond Re-Animator\",5.6,8.525],[\"Zombie Massacre\",5.1,8.521],[\"In the Spider's Web\",4.9,8.487],[\"The Pact\",5.7,8.457],[\"14 Cameras\",5.2,8.452],[\"Amityville 1992: It's About Time\",4.5,8.424],[\"Suicide Club\",6.6,8.412],[\"The Machine Girl\",6.0,8.406],[\"Darkman II: The Return of Durant\",5.4,8.319],[\"Sharktopus vs. Pteracuda\",4.1,8.313],[\"House II: The Second Story\",5.5,8.308],[\"Feast II: Sloppy Seconds\",5.2,8.307],[\"The Brides of Dracula\",6.9,8.297],[\"The Quatermass Xperiment\",6.7,8.292],[\"Silent Night, Deadly Night 5: The Toy Maker\",5.0,8.282],[\"Dracula A.D. 1972\",6.0,8.267],[\"Lost Boys: The Thirst\",5.1,8.263],[\"The Toxic Avenger Part II\",5.5,8.226],[\"The Curse\",5.1,8.2],[\"Shark Attack 2\",4.9,8.164],[\"Art of the Devil 3\",6.6,8.133],[\"The Ouija Experiment 2: Theatre of Death\",4.4,8.106],[\"Blood Feast\",4.7,8.102],[\"Godzilla vs. Megaguirus\",6.7,8.077],[\"Quatermass and the Pit\",6.7,8.065],[\"The Vampire Lovers\",6.5,8.065],[\"Contracted: Phase II\",5.3,8.065],[\"Gamera 3: Revenge of Iris\",7.6,8.026],[\"Alone in the Dark 2\",3.8,8.013],[\"The Mummy\",6.9,8.007],[\"Gamera, the Giant Monster\",6.1,8.001],[\"Howling III: The Marsupials\",4.7,7.997],[\"6-Headed Shark Attack\",4.2,7.985],[\"2 Lava 2 Lantula!\",5.0,7.984],[\"Scream Blacula Scream\",6.1,7.975],[\"Candyman: Farewell to the Flesh\",5.4,7.971],[\"The Dentist 2\",5.0,7.952],[\"Attack of the Killer Tomatoes!\",4.9,7.929],[\"Phantasm IV: Oblivion\",5.3,7.909],[\"The 3rd Eye 2\",5.7,7.897],[\"Taste the Blood of Dracula\",6.2,7.878],[\"8213: Gacy House\",3.3,7.863],[\"The Pact II\",4.9,7.844],[\"Basket Case\",6.4,7.8],[\"Trilogy of Terror\",6.2,7.79],[\"Ghoulies II\",5.2,7.758],[\"Amityville: The Evil Escapes\",4.5,7.687],[\"Terror Trap\",5.0,7.682],[\"Pumpkinhead: Ashes to Ashes\",5.3,7.668],[\"Ilsa: She Wolf of the SS\",6.1,7.657],[\"Dracula Has Risen from the Grave\",6.7,7.621],[\"Art of the Devil 2\",6.4,7.613],[\"The Abominable Dr. Phibes\",6.9,7.587],[\"Feast III: The Happy Finish\",4.8,7.58],[\"The Curse of Robert the Doll\",3.2,7.572],[\"Bhool Bhulaiyaa\",6.6,7.566],[\"The Haunting of Molly Hartley\",4.4,7.556],[\"Puppet Master: The Littlest Reich\",5.7,7.531],[\"Xtro\",5.7,7.479],[\"The Horror Show\",5.3,7.471],[\"Basket Case 3: The Progeny\",5.2,7.465],[\"Bereavement\",5.2,7.464],[\"Vampires: The Turning\",4.1,7.461],[\"The Amityville Curse\",3.7,7.459],[\"The Prophecy V: Forsaken\",5.2,7.457],[\"Darkman III: Die Darkman Die\",5.0,7.447],[\"Demonic Toys\",5.4,7.424],[\"Sometimes They Come Back... Again\",5.0,7.378],[\"Return of the Killer Tomatoes!\",5.7,7.374],[\"Citizen Toxie: The Toxic Avenger IV\",6.4,7.371],[\"Sorority House Massacre\",4.6,7.361],[\"Outpost\",6.0,7.359],[\"Phantasm II\",6.3,7.347],[\"976-EVIL\",5.1,7.324],[\"The Dead\",5.6,7.32],[\"Return of the Fly\",6.1,7.314],[\"Death Bell\",6.5,7.31],[\"The 3rd Eye\",5.5,7.31],[\"Howling V: The Rebirth\",4.8,7.308],[\"ABCs of Death 2\",5.3,7.283],[\"Hell House LLC III: Lake of Fire\",5.1,7.273],[\"Return to Sleepaway Camp\",6.0,7.25],[\"Ben\",6.0,7.245],[\"Python 2\",5.7,7.196],[\"The Hamiltons\",5.0,7.183],[\"4bia\",6.3,7.119],[\"Paranormal Entity\",5.3,7.105],[\"Cold Prey II\",6.3,7.055],[\"Hannibal Rising\",6.2,7.051],[\"Puppet Master 5: The Final Chapter\",5.1,7.007],[\"Alligator 2: The Mutation\",4.2,6.987],[\"Krampus: The Devil Returns\",4.1,6.985],[\"13 Cameras\",5.1,6.982],[\"When a Stranger Calls\",6.2,6.98],[\"Revenge of the Creature\",5.8,6.963],[\"Art of the Devil\",6.4,6.939],[\"The Zombie Diaries\",4.4,6.905],[\"Amityville: Dollhouse\",4.4,6.894],[\"Scars of Dracula\",6.0,6.875],[\"Abbott and Costello Meet the Invisible Man\",6.8,6.86],[\"Children of the Damned\",6.2,6.855],[\"The Boogey Man\",4.7,6.853],[\"The Slumber Party Massacre\",5.6,6.831],[\"Puppet Master vs Demonic Toys\",4.7,6.825],[\"The Revenge of Frankenstein\",6.8,6.815],[\"The Hive\",4.4,6.813],[\"Gamera 2: Attack of Legion\",7.6,6.813],[\"Sleepaway Camp III: Teenage Wasteland\",5.6,6.807],[\"Resident Evil: Retribution\",5.8,6.804],[\"Slumber Party Massacre II\",5.0,6.799],[\"Return to Nuke 'Em High Volume 1\",6.3,6.777],[\"Frankenstein Created Woman\",6.5,6.769],[\"It's Alive\",6.0,6.673],[\"Sorority Babes in the Slimeball Bowl-O-Rama\",4.8,6.644],[\"Gamera vs. Gyaos\",6.5,6.637],[\"Cold Prey III\",5.9,6.629],[\"Manos: The Hands of Fate\",2.0,6.591],[\"Silent Night, Deadly Night III: Better Watch Out!\",3.9,6.584],[\"WolfCop\",5.3,6.573],[\"Basket Case 2\",5.8,6.563],[\"Faces of Death\",4.1,6.554],[\"Decoys 2: Alien Seduction\",5.5,6.46],[\"The Ouija Experiment\",4.2,6.456],[\"Along Came the Devil\",5.8,6.442],[\"Voice\",6.8,6.402],[\"Dr. Phibes Rises Again\",6.3,6.374],[\"Ghoulies III: Ghoulies Go to College\",4.8,6.35],[\"Tombs of the Blind Dead\",6.2,6.341],[\"The Gingerdead Man\",4.1,6.33],[\"Grizzly\",5.0,6.329],[\"Memento Mori\",6.2,6.328],[\"Ilsa, Harem Keeper of the Oil Sheiks\",4.7,6.326],[\"Warlock III: The End of Innocence\",4.5,6.326],[\"Red Dragon\",7.0,6.313],[\"The Legend of the 7 Golden Vampires\",5.9,6.302],[\"Bad Kids Go To Hell\",4.4,6.272],[\"Frankenstein and the Monster from Hell\",6.1,6.247],[\"Gate II\",5.5,6.245],[\"Sinister Squad\",3.1,6.199],[\"Puppet Master II\",6.1,6.191],[\"August Underground's Penance\",4.4,6.144],[\"Anatomy 2\",5.6,6.135],[\"Stepfather 3\",4.9,6.134],[\"976-EVIL 2\",4.7,6.105],[\"The Cell 2\",3.8,6.089],[\"Puppet Master III: Toulon's Revenge\",6.5,6.071],[\"Phantasm: Ravager\",4.9,6.035],[\"Gamera vs. Barugon\",6.5,6.022],[\"Scanners II: The New Order\",4.9,6.02],[\"2001 Maniacs: Field of Screams\",4.0,6.016],[\"Frankenstein Must Be Destroyed\",6.7,5.938],[\"Birdemic: Shock and Terror\",2.1,5.919],[\"Lust for a Vampire\",6.0,5.85],[\"Ritual\",4.6,5.843],[\"Scarecrow Gone Wild\",3.6,5.759],[\"Blood from the Mummy's Tomb\",6.1,5.756],[\"Carnosaur 2\",4.5,5.743],[\"The Hollow\",4.7,5.707],[\"Baby Blood\",6.1,5.692],[\"Spiders II: Breeding Ground\",4.4,5.676],[\"The Killer Shrews\",4.4,5.652],[\"Carry On Screaming\",6.6,5.642],[\"Sometimes They Come Back... for More\",4.4,5.626],[\"The Zombie Diaries 2\",4.7,5.621],[\"Sadako 3D 2\",4.9,5.599],[\"Killjoy\",2.9,5.596],[\"The Evil of Frankenstein\",6.1,5.586],[\"Jack and Jill\",5.6,5.559],[\"Naked Fear\",5.3,5.556],[\"Retro Puppet Master\",4.3,5.541],[\"Jurassic Shark\",2.6,5.531],[\"The Curse of Halloween Jack\",4.3,5.521],[\"Outpost: Black Sun\",5.1,5.508],[\"Curse of the Puppet Master\",4.6,5.497],[\"Prom Night IV: Deliver Us from Evil\",4.2,5.445],[\"Watchers\",5.4,5.436],[\"The Devil's Carnival\",6.0,5.414],[\"The Amityville Haunting\",4.4,5.408],[\"Dark Woods II\",4.8,5.377],[\"The Curse of the Mummy's Tomb\",5.7,5.37],[\"Shock\",6.3,5.362],[\"666: The Child\",4.2,5.354],[\"Scanners III: The Takeover\",4.3,5.315],[\"Slumber Party Massacre III\",5.0,5.31],[\"ThanksKilling\",4.1,5.303],[\"The War of the Gargantuas\",6.7,5.284],[\"Golmaal Again\",5.7,5.27],[\"Bunnyman Vengeance\",5.9,5.27],[\"In Search of Darkness\",7.9,5.252],[\"Ripper: Letter from Hell\",4.2,5.238],[\"Waxwork II: Lost in Time\",5.1,5.204],[\"Carnosaur\",4.2,5.196],[\"Gogol. The Beginning\",6.5,5.17],[\"Sex Files: Alien Erotica\",5.7,5.144],[\"Horror Stories\",5.8,5.135],[\"Witchboard\",5.9,5.132],[\"Willard\",6.1,5.119],[\"Ghoulies IV\",3.3,5.097],[\"Gamera the Brave\",7.2,5.083],[\"Attack of the Blind Dead\",5.6,5.079],[\"Zombieworld\",4.9,5.064],[\"Bunnyman\",4.6,5.059],[\"Shark Attack\",4.7,5.053],[\"Trilogy of Terror II\",5.0,5.044],[\"It Lives Again\",5.4,5.024],[\"Don't Fuck in the Woods\",3.8,5.006],[\"Death Bell 2\",6.1,4.984],[\"Xtro 2: The Second Encounter\",4.6,4.962],[\"Puppet Master: The Legacy\",3.8,4.957],[\"Tooth Fairy\",5.2,4.935],[\"Dark Woods\",5.7,4.905],[\"The Amityville Playhouse\",5.4,4.882],[\"Another WolfCop\",5.6,4.874],[\"Mission Galactica: The Cylon Attack\",7.0,4.845],[\"Teacher's Pet\",3.5,4.815],[\"The Thompsons\",4.7,4.811],[\"Night of the Living Dead: Re-Animation\",4.7,4.784],[\"In Search of Darkness: Part II\",7.3,4.735],[\"Roadkill\",5.8,4.72],[\"Night of the Werewolf\",5.9,4.71],[\"Sadako 3D\",5.4,4.694],[\"Hotel Inferno\",5.1,4.693],[\"The Revenge of Robert\",3.6,4.693],[\"Tales from the Hood 3\",5.6,4.662],[\"My Super Psycho Sweet 16: Part 3\",5.4,4.625],[\"Children of the Corn\",7.0,4.603],[\"Britannia Hospital\",6.5,4.6],[\"C.H.U.D. II: Bud the Chud\",4.3,4.576],[\"Class of Nuke 'Em High 2: Subhumanoid Meltdown\",4.5,4.575],[\"WNUF Halloween Special\",5.7,4.557],[\"Clown Motel: Spirits Arise\",6.3,4.552],[\"Mummy, I'm a Zombie\",7.2,4.55],[\"The Horror of Frankenstein\",5.8,4.53],[\"Dollman vs. Demonic Toys\",4.8,4.523],[\"Pretham\",5.1,4.509],[\"It's Alive III: Island of the Alive\",5.3,4.503],[\"Prom Night III: The Last Kiss\",4.8,4.429],[\"The Creature Walks Among Us\",5.6,4.428],[\"Devil in the Flesh\",5.0,4.415],[\"Moontrap\",4.7,4.366],[\"Phobia 2\",6.1,4.356],[\"The Diabolical Dr. Z\",6.1,4.355],[\"Killer Crocodile 2\",5.6,4.317],[\"Hobgoblins\",2.7,4.239],[\"Hybrid\",5.0,4.232],[\"Octopus\",3.5,4.196],[\"Eye of the Beast\",5.4,4.194],[\"The Brotherhood IV: the Complex\",3.1,4.179],[\"The Legend of Boggy Creek\",5.0,4.14],[\"Ripper 2: Letter from Within\",2.9,4.139],[\"Knights of the Damned\",3.4,4.133],[\"Frankenstein Conquers the World\",6.9,4.118],[\"Head of the Family\",5.5,4.095],[\"Carnosaur 3: Primal Species\",4.2,4.087],[\"Catacombs\",5.0,4.085],[\"May the Devil Take You Too\",7.6,4.066],[\"The Toymaker\",4.0,4.057],[\"The Mummy's Shroud\",5.8,4.049],[\"Tomie\",5.2,4.038],[\"The Fear: Resurrection\",4.2,4.027],[\"Henry: Portrait of a Serial Killer 2 - Mask of Sanity\",4.9,4.025],[\"Tomie: Re-birth\",6.3,4.022],[\"Count Yorga, Vampire\",5.6,4.009],[\"Carny\",4.6,3.997],[\"Yokai Monsters: Along with Ghosts\",6.5,3.975],[\"The Mother of Tears\",4.5,3.958],[\"The Crawlers\",4.0,3.941],[\"Muni 2: Kanchana\",6.2,3.931],[\"Zoombies 2\",5.9,3.918],[\"The Doll 2\",5.6,3.901],[\"The Unnamable\",4.7,3.888],[\"Tomie: Unlimited\",4.5,3.884],[\"Subspecies 4: Bloodstorm\",5.4,3.816],[\"When a Stranger Calls Back\",5.9,3.814],[\"Island of the Fishmen\",5.6,3.794],[\"Watchers II\",5.0,3.789],[\"Pee Nak 2\",5.0,3.787],[\"The Brotherhood 2: Young Warlocks\",4.5,3.775],[\"Sand Serpents\",3.8,3.77],[\"Beyond the Door\",5.2,3.761],[\"Look What's Happened to Rosemary's Baby\",3.7,3.757],[\"The Hospital 2\",3.7,3.737],[\"The Birds II: Land's End\",3.2,3.721],[\"Lake Fear\",4.7,3.71],[\"Beware! The Blob\",4.9,3.701],[\"Tooth Fairy: The Last Extraction\",2.5,3.68],[\"The X from Outer Space\",5.3,3.672],[\"Summoning Bloody Mary\",4.5,3.666],[\"The Haunting of Alice D\",6.0,3.63],[\"The Face of Fu Manchu\",6.1,3.623],[\"Ilsa, the Tigress of Siberia\",4.5,3.615],[\"Go Goa Gone\",5.7,3.602],[\"The Redwood Massacre\",4.2,3.599],[\"Queen of Spades: The Dark Rite\",5.3,3.595],[\"Necromancer 2020\",5.2,3.581],[\"The Dead 2: India\",5.3,3.575],[\"The Brotherhood\",4.6,3.562],[\"Witchboard 2: The Devil's Doorway\",5.1,3.54],[\"Killer Tomatoes Strike Back!\",4.3,3.528],[\"1920\",5.8,3.52],[\"The Brotherhood V: Alumni\",1.6,3.501],[\"Pee Nak\",6.0,3.499],[\"Relentless\",5.4,3.471],[\"The Vampire Doll\",7.3,3.461],[\"War of the Colossal Beast\",3.8,3.451],[\"The Terror Within\",4.1,3.412],[\"Asih\",6.9,3.402],[\"Scanner Cop\",5.6,3.325],[\"ThanksKilling 3\",3.6,3.322],[\"Lake of Dracula\",6.8,3.314],[\"My Super Psycho Sweet 16\",6.3,3.304],[\"The Wicked One\",3.3,3.237],[\"The Fear\",3.6,3.234],[\"The Werewolf Versus the Vampire Woman\",5.6,3.23],[\"1313: Cougar Cult\",4.1,3.207],[\"The Killer Eye\",2.5,3.194],[\"Aquarium of the Dead\",6.2,3.194],[\"Mirror Mirror\",5.1,3.18],[\"Bloody Murder 2: Closing Camp\",5.2,3.171],[\"Curse II: The Bite\",4.8,3.157],[\"Bride of Boogedy\",6.9,3.151],[\"Raaz 3\",5.4,3.15],[\"Night of the Howling Beast\",5.2,3.127],[\"The Scissors Massacre\",5.6,3.101],[\"The Robot vs. The Aztec Mummy\",3.0,3.085],[\"The Mangler 2\",3.6,3.071],[\"Haunting at the Rectory\",4.4,3.043],[\"Devi(L)\",5.8,3.036],[\"Something Beneath\",3.8,3.015],[\"Eko Eko Azarak: Wizard of Darkness\",5.5,3.009],[\"Psycho Cop\",4.4,3.001],[\"My Super Psycho Sweet 16: Part 2\",6.0,3.0],[\"Make Me Shudder\",6.0,2.975],[\"Vampire Boys 2: The New Brood\",2.9,2.972],[\"Sleepaway Camp IV: The Survivor\",2.1,2.954],[\"Haunted\",4.5,2.951],[\"Dear God No!\",3.6,2.931],[\"Evil Bong 3: The Wrath of Bong\",4.9,2.93],[\"Gogol. A Terrible Vengeance\",6.8,2.929],[\"The Invoking 2\",4.4,2.921],[\"Gingerdead Man vs. Evil Bong\",4.4,2.9],[\"Resident Evil: The Final Chapter\",6.1,2.844],[\"Howard Lovecraft & the Frozen Kingdom\",5.3,2.824],[\"The Return of Count Yorga\",5.7,2.817],[\"Lake Fear 2: The Swamp\",5.2,2.807],[\"Sorority House Massacre II\",5.6,2.803],[\"The Brotherhood III: Young Demons\",2.8,2.794],[\"Mermaid Forest\",6.0,2.779],[\"Fear PHarm\",5.0,2.778],[\"Shrill Cries of Summer\",6.0,2.764],[\"Octopus 2: River of Fear\",4.0,2.762],[\"Ghost of Camp Blood\",5.2,2.762],[\"3 A.M. 3D\",5.0,2.711],[\"Doomwatch\",6.1,2.696],[\"The Fear Footage\",6.2,2.695],[\"The Invoking: Paranormal Dimensions\",7.8,2.677],[\"Dark Web\",4.5,2.653],[\"Black Magic\",5.2,2.652],[\"Darna Mana Hai\",6.3,2.645],[\"Gigantis: The Fire Monster\",6.1,2.639],[\"Ragini MMS\",4.0,2.628],[\"Scanner Cop II\",5.3,2.624],[\"Watchers Reborn\",5.4,2.623],[\"Lake Fear 3\",6.3,2.621],[\"Rahtree: Flower of the Night\",5.9,2.593],[\"Tomb of the Werewolf\",3.6,2.574],[\"Xtro 3: Watch the Skies\",4.1,2.569],[\"The Stepford Children\",5.0,2.567],[\"Yokai Monsters: 100 Monsters\",6.6,2.562],[\"Curse of the Fly\",5.5,2.556],[\"Criminally Insane\",5.8,2.553],[\"Fear PHarm 2\",4.7,2.549],[\"Vampires in Havana\",5.9,2.545],[\"Evil Bong: High 5\",3.1,2.52],[\"The Fear Footage 2: Curse of the Tape\",3.3,2.496],[\"Three\",5.9,2.486],[\"Psycho Cop Returns\",5.1,2.484],[\"Violent Shit: the Movie\",3.4,2.471],[\"Onechanbara: Bikini Samurai Squad\",4.6,2.441],[\"Sadako DX\",0.0,2.404],[\"Demonte Colony\",7.4,2.374],[\"Hantu Kak Limah Balik Rumah\",6.7,2.364],[\"Black Magic 2\",5.4,2.336],[\"Bloody Murder\",4.0,2.321],[\"The H-Man\",6.3,2.313],[\"Mad Doctor of Blood Island\",4.0,2.292],[\"A Haunting on Dice Road: The Hell House\",5.9,2.289],[\"Kuntilanak 3\",6.8,2.265],[\"Evil Bong 666\",6.5,2.261],[\"Boggy Creek II: And the Legend Continues\",2.4,2.259],[\"Encounter\",3.4,2.258],[\"Tomie: Beginning\",5.2,2.254],[\"Tooth Fairy: Queen of Pain\",0.0,2.254],[\"Swamp Zombies 2\",5.8,2.247],[\"Evil Bong 420\",4.3,2.235],[\"Killjoy's Psycho Circus\",4.9,2.226],[\"1313: Bigfoot Island\",5.3,2.224],[\"The Ghost in the Invisible Bikini\",5.6,2.199],[\"Grindsploitation\",4.5,2.188],[\"Sacred\",7.4,2.187],[\"Tomie: Revenge\",4.2,2.185],[\"Vampire Journals\",4.9,2.168],[\"Killjoy Goes to Hell\",5.4,2.165],[\"Rahtree Reborn\",5.7,2.159],[\"The Secret of the Telegian\",6.4,2.147],[\"Killjoy 2: Deliverance from Evil\",3.8,2.134],[\"Blood Scarab\",4.2,2.11],[\"The Hound of the Baskervilles\",6.6,2.106],[\"Sex Files: Portrait of the Soul\",3.3,2.074],[\"1313: Boy Crazies\",3.4,2.026],[\"1313: Haunted Frat\",3.2,2.013],[\"Slime City\",5.0,1.999],[\"The Fear Footage 3AM\",4.9,1.984],[\"Frankenstein's Bloody Terror\",6.0,1.967],[\"Brides of Blood\",4.9,1.96],[\"Witchcraft 13: Blood of the Chosen\",3.7,1.934],[\"Curse of the Devil\",5.0,1.93],[\"Invoking 5\",6.3,1.922],[\"To Jennifer\",3.9,1.921],[\"Amityville: No Escape\",3.3,1.92],[\"Resident Evil: Afterlife\",6.1,1.916],[\"Mother Riley Meets the Vampire\",4.5,1.892],[\"Axegrinder\",5.0,1.869],[\"Still\",3.3,1.859],[\"Feng Shui\",5.6,1.788],[\"The Invisible Man's Love Life\",3.2,1.786],[\"Witchouse\",4.7,1.784],[\"Bloody Chainsaw Girl Returns: Revenge of Nero\",5.5,1.776],[\"The Awful Dr. Orlof\",6.3,1.769],[\"Video Violence\",5.7,1.757],[\"Alleluia! The Devil's Carnival\",6.3,1.72],[\"Witchcraft\",4.1,1.719],[\"The Girl in the Woods\",6.8,1.702],[\"Angel Guts: Nami\",5.9,1.698],[\"Bloody Chainsaw Girl\",4.6,1.649],[\"Nightmare Detective 2\",5.9,1.642],[\"The Child's Eye\",3.9,1.626],[\"Invoking 4\",6.7,1.623],[\"The Locker\",5.0,1.602],[\"Ghost Shark 2: Urban Jaws\",4.8,1.582],[\"Buppha Ratree: Haunting in Japan\",4.3,1.574],[\"Haunted\",5.4,1.57],[\"Rahtree Revenge\",6.2,1.559],[\"The Bowery Boys Meet the Monsters\",5.3,1.539],[\"Kamen Rider Amazons The Movie: The Final Judgment\",8.3,1.529],[\"This Night I'll Possess Your Corpse\",6.9,1.515],[\"Witchcraft XIV: Angel of Death\",0.0,1.503],[\"Tiktik: The Aswang Chronicles\",5.8,1.492],[\"Beast of Blood\",4.4,1.49],[\"Strip Mahjong Police 24:00 Naked Battle Royale\",0.0,1.471],[\"Criminally Insane 2\",2.5,1.461],[\"Horror House on Highway Five\",4.3,1.46],[\"The Terror Within II\",4.1,1.449],[\"The Foreign Exchange Student\",0.0,1.444],[\"Hotel Inferno 2: The Cathedral of Pain\",6.2,1.415],[\"CarousHELL\",5.6,1.406],[\"Danur\",5.7,1.404],[\"Unseen Evil\",4.3,1.403],[\"Ang Panday\",0.0,1.4],[\"The House in Between\",5.9,1.4],[\"Nikos the Impaler\",2.7,1.349],[\"Frankenstein Created Bikers\",4.5,1.346],[\"3 A.M. PART 2\",5.4,1.344],[\"Rahtree Returns\",6.3,1.332],[\"Camp Blood\",4.7,1.321],[\"Baby Oopsie\",6.6,1.319],[\"Oneechanbara THE MOVIE vorteX\",5.1,1.318],[\"Violent Shit 3 - Infantry of Doom\",3.2,1.317],[\"Haunting Me\",3.8,1.316],[\"Witchcraft V: Dance with the Devil\",2.4,1.252],[\"Evil of Dracula\",6.3,1.242],[\"Jack vs. Lanterns\",0.0,1.21],[\"Pizza 2: Villa\",5.7,1.172],[\"Shake, Rattle & Roll\",5.0,1.14],[\"The Bare Wench Project 2: Scared Topless\",3.0,1.136],[\"Siren\",3.0,1.131],[\"DV\",3.0,1.129],[\"Coons! Night of the Bandits of the Night\",4.5,1.124],[\"Witchcraft IV: The Virgin Heart\",1.8,1.091],[\"Pickaxe\",3.7,1.079],[\"Oh My Ghost 2\",5.6,1.067],[\"Bad Ben: Eulogy\",0.0,1.064],[\"Killer Raccoons 2: Dark Christmas in the Dark\",5.8,1.062],[\"Dark Confessions\",5.7,1.049],[\"Prema Katha Chitram\",5.9,1.037],[\"Axeman at Cutters Creek\",3.5,1.023],[\"Oh My Ghost\",5.5,0.992],[\"Terror Is a Man\",4.3,0.984],[\"The Chanting 3\",5.3,0.946],[\"Wicked Ones\",0.0,0.911],[\"Asih 2\",7.1,0.91],[\"Pretham 2\",4.3,0.898],[\"Evil\",5.3,0.891],[\"Mangkujiwo\",6.7,0.84],[\"Jurassic Shark 2: Aquapocalypse\",8.0,0.791],[\"Bloodthirst: Legend of the Chupacabras\",1.0,0.629],[\"Witchcraft VII: Judgement Hour\",3.7,0.6],[\"Stop the Bitch Campaign: Hell Version\",2.0,0.6],[\"The Curse of Her Flesh\",5.0,0.6],[\"See A Ghost\",5.0,0.6],[\"Tokyo Videos of Horror\",0.0,0.6],[\"Oh My Ghost! 4\",7.0,0.6],[\"Honto ni Atta! Noroi no Video Vol. 25\",0.0,0.6],[\"Honto ni Atta! Noroi no Video Vol. 30\",0.0,0.6],[\"Jailangkung\",4.6,0.6],[\"Strip Mahjong Idol Sengoku Era\",0.0,0.6],[\"Project Genesis: Crossclub 2\",0.0,0.6],[\"Prema Katha Chitram 2\",6.0,0.6],[\"Shitters\",5.0,0.6],[\"The Return of Shitters\",4.7,0.6],[\"DV2\",0.0,0.6],[\"Dv3\",0.0,0.6],[\"Incarnation of the Devil 2\",6.0,0.6],[\"Tokyo Videos of Horror 14\",0.0,0.6],[\"Honto Ni Atta! Noroi No Video 10\",0.0,0.6],[\"Honto ni Atta! Noroi no Video Vol. 21\",0.0,0.6],[\"Honto ni Atta! Noroi no Video Vol. 20\",0.0,0.6],[\"Honto Ni Atta! Noroi No Video 27\",0.0,0.6],[\"DV5: Cord Cutter Hell\",0.0,0.6],[\"The Beast From Twenty Zillion Years Ago\",9.0,0.6],[\"Night of the Beast (From Twenty Zillion Years Ago)\",9.0,0.6]],\"hovertemplate\":\"vote_count=%{x}<br>revenue=%{y}<br>title=%{customdata[0]}<br>vote_average=%{customdata[1]}<br>popularity=%{customdata[2]}<br>color=%{marker.color}<extra></extra>\",\"legendgroup\":\"\",\"marker\":{\"color\":[0,0,0,0,1,0,1,1,0,0,1,1,2,1,0,0,2,1,2,2,0,0,0,0,2,2,0,0,0,2,2,0,1,0,0,0,1,0,1,2,0,0,0,2,0,0,1,0,1,1,1,0,0,0,2,1,1,0,1,2,2,1,2,1,1,1,1,1,1,0,1,0,0,2,0,1,1,0,1,1,0,1,1,1,1,2,0,1,0,0,1,1,0,1,1,0,0,1,0,0,0,0,0,1,0,0,1,0,0,0,0,1,0,1,1,0,0,1,1,1,0,0,0,0,2,1,1,1,0,1,2,0,1,0,0,1,0,1,0,1,1,0,2,0,0,0,1,1,0,1,0,0,0,2,1,1,0,0,0,1,0,0,1,0,1,0,1,1,0,1,1,1,0,0,0,1,0,0,0,0,1,0,0,0,1,0,1,0,0,0,0,0,1,0,0,0,0,0,1,1,0,1,0,0,0,0,0,1,0,0,0,0,1,0,0,0,0,0,0,0,0,0,0,0,0,0,0,0,0,0,1,1,0,0,1,0,0,0,0,0,0,1,0,0,0,0,0,1,1,0,0,0,1,1,0,0,0,0,0,1,0,0,0,1,0,0,0,1,0,1,0,0,0,0,0,0,0,1,0,0,0,0,0,0,1,0,1,1,0,0,1,0,0,0,0,0,0,0,0,0,0,0,0,0,0,0,0,0,1,0,0,0,0,0,0,0,0,0,0,0,0,0,1,0,0,0,0,0,0,0,0,1,0,0,0,1,1,0,0,0,0,0,0,0,0,0,0,0,0,0,0,0,1,0,0,0,0,0,0,0,0,0,0,0,0,0,0,0,0,0,0,0,0,0,0,0,0,0,0,0,0,0,0,0,0,0,0,0,0,0,1,0,0,0,0,0,0,0,0,0,0,1,1,0,0,0,0,0,0,0,0,0,0,0,1,0,0,0,0,0,0,0,1,0,0,0,0,0,0,0,0,0,0,0,0,0,0,0,0,0,0,0,1,0,0,0,0,0,0,0,0,0,0,0,0,0,0,0,0,0,0,0,0,0,0,0,0,0,0,0,0,0,0,0,0,0,1,0,0,0,0,0,0,0,0,0,0,0,0,0,0,1,0,0,0,0,0,0,0,0,0,0,0,0,0,0,0,0,0,0,0,0,0,0,0,0,0,0,0,0,0,0,0,0,0,0,0,0,0,0,0,0,0,0,0,0,0,0,0,0,0,0,0,0,0,0,0,0,0,0,0,0,0,0,0,0,0,0,0,0,0,0,0,0,0,0,0,0,0,0,0,0,0,0,0,0,0,0,0,0,0,0,0,0,0,0,0,0,0,0,0,0,0,0,0,0,0,0,0,0,0,0,0,0,0,0,0,0,0,0,0,0,0,0,0,0,0,0,0,0,0,0,0,0,0,0,0,0,0,0,0,0,0,0,0,0,0,0,0,0,0,0,0,0,0,0,0,0,0,0,0,0,0,0,0,0,0,0,0,0,0,0,0,0,0,0,0,0,0,0,0,0,0,0,0,0,0,0,0,0,0,0,0,0,1,0,0,0,0,0,0,0,0,0,0,0,0,0,0,0,0,0,0,0,2,0,0,0,0,0,0,0,0,0,0,0,0,0,0,0,0,0,0,0,0,0,0,0,0,1,0,0,0,0,0,0,0,0,0,0,0,0,0,0,0,0,0,0,0,0,0,0,0,0,0,0,0,0,0,0,0,0,0,0,0,0,0,0,0,0,0,0,0,0,0,0,0,0,0,0,0,0,0,0,0,0,0,0,0,0,0,0,0,0,0,0,0,0,0,0,0,0,0,0,0,0,0,0,0,0,0,0,0,0,0,0,0,0,0,0,0,0,0,1,0,0,0,0,0,0,0,0,0,0,0,0,0,0,0,0,0,0,0,0,0,0,0,0,0,0,0,0,0,0,0,0,0,0,0,0,0,0,0,0,0,0,0,0,0,0,0,0,0,0,0,0,0,0,0,0,0,0,0,0,0,0,0,0,0,0,0,0,0,0,0,0,0,0,0,0,0,0,0,0,0,0,0,0,0,0,0,0,0,0,0,0,0,0,0,0,0,0,0,0,0,0,0,0,0,0,0,0,0,0,0,0,0,2,0,0,0,0,0,0,0,0,0,0,0,0,0,0,0,0,0,0,0,0,0,0,0,0,0,0,0,0,0,0,0,0,0,0,0,0,0,0,0,0,0,0,0,0,0,0,0,0,0,0,0,0,0,0,0,0,0,0,0,0,0,0,0,0,0,0,0,0,0,0,0,0,0,0,0,0,0,0,2,0,0,0,0,0,0,0,0,0,0,0,0,0,0,0,0,0,0,0,0,0,0,0,0,0,0,0,0,0,0,0,0,0,0,0,0,0,0,0,0,0,0,0,0,0,0,0,0,0,0,0,0,0,0,0,0,0,0,0,0,0,0,0,0,0,0,0,0,0,0,0,0,0,0,0,0,0,0,0,0,0,0,0,0,0,0,0,0,0,0,0,0,0,0,0,0,0,0,0,0],\"coloraxis\":\"coloraxis\",\"symbol\":\"circle\"},\"mode\":\"markers\",\"name\":\"\",\"showlegend\":false,\"x\":[902,125,1035,157,1941,958,1732,4403,34,692,4689,953,7221,1904,1847,2395,9735,1287,3974,4721,426,351,1495,904,7061,5393,1126,857,1084,5863,6068,959,1851,750,1708,1,4421,1499,3413,16900,1406,318,1252,6535,3233,1434,1873,38,5939,7650,4614,2127,1234,22,2870,2163,4585,1280,7386,4859,5208,2809,7298,5689,2334,1235,3302,2084,4309,615,1445,3576,535,5341,1311,3528,5318,1772,3573,3174,1251,4563,10704,1234,3321,12032,14911,3221,1933,1971,2447,1108,1029,5695,12083,612,1341,4357,223,1120,232,63,765,3653,2289,927,4965,1836,2525,5566,1474,2313,1346,1878,3038,781,1175,3514,6387,2670,840,1067,935,227,8659,3103,3654,3023,1191,1829,4987,1591,3758,1645,1043,5557,1013,2833,1000,1935,2425,3055,3901,3093,1281,243,2393,2486,1221,2815,4150,1059,1748,4852,2559,2801,8452,1887,2495,1302,3123,671,2075,600,2416,2640,1862,3275,242,3963,3044,3346,1491,1127,233,2270,19,1054,1460,1421,1294,872,843,541,2127,899,2664,1095,295,1652,485,1044,3924,1069,793,1336,3020,496,3519,3384,141,5369,1062,1497,196,2367,796,2272,396,647,73,540,2765,928,528,235,470,739,1832,134,244,2876,753,1291,567,1096,788,782,876,3311,5392,3486,588,2089,2086,25,123,325,668,353,1045,2267,683,2390,2406,1072,1590,1194,2000,908,452,605,1619,3981,167,433,2994,244,256,1540,854,4977,908,621,61,677,1157,3635,1269,1520,817,1935,1674,746,264,157,231,5385,1222,282,1281,204,408,544,1015,3512,1198,1736,434,332,704,165,412,263,1598,97,195,833,192,520,1217,274,650,1225,168,268,3211,615,3088,395,1663,493,1162,610,851,439,537,381,228,246,1376,1634,839,972,846,1287,909,1041,268,532,316,4615,445,831,1078,2002,1849,905,109,495,905,357,277,189,841,297,383,840,228,342,312,75,941,424,156,376,434,124,179,922,268,331,588,1058,507,989,257,306,500,272,1145,848,162,699,111,315,488,449,171,236,179,115,450,452,492,295,965,510,219,576,1278,248,91,319,172,183,686,428,491,294,314,2326,374,431,131,412,694,115,466,451,47,915,521,468,1062,354,1055,181,166,77,131,164,684,39,693,422,239,531,71,449,346,250,463,289,328,120,419,80,91,111,146,142,3492,113,48,81,427,359,202,16,187,229,6,119,118,328,301,396,311,37,138,383,189,1371,434,514,985,204,196,202,460,129,504,578,156,447,544,3,155,323,303,100,21,202,57,111,78,138,263,314,527,624,37,121,151,263,41,231,149,111,235,62,112,69,196,94,66,12,426,322,161,131,76,129,411,207,637,192,144,59,168,144,210,483,279,57,115,175,309,284,641,424,184,210,61,154,55,181,308,87,85,289,177,168,119,105,114,183,234,211,345,218,69,149,108,166,82,297,201,199,154,214,292,170,381,293,204,98,79,179,42,429,132,249,424,332,205,138,55,58,62,127,177,116,37,214,108,128,180,230,174,88,100,43,80,59,224,100,33,410,76,84,374,152,203,62,195,141,164,145,38,129,91,116,89,49,43,75,132,134,180,139,180,96,75,175,86,89,46,67,45,275,93,219,145,29,124,44,145,311,127,101,79,48,67,287,136,54,244,94,34,127,132,114,156,109,77,133,40,70,59,104,107,78,170,104,75,194,257,89,138,190,122,66,67,240,61,266,75,38,154,74,92,196,1848,73,48,40,117,182,98,70,62,68,117,65,71,73,233,52,98,27,87,157,3422,122,114,97,150,83,55,118,162,45,168,105,120,40,130,59,68,115,65,106,68,95,96,49,60,3538,93,76,70,63,32,133,34,94,27,43,61,119,124,56,96,61,81,264,46,51,13,65,36,71,38,38,63,83,46,46,40,42,73,27,50,88,77,13,84,69,42,64,67,52,74,59,90,25,61,66,75,68,67,45,70,42,89,78,79,10,28,145,80,39,54,50,17,56,43,30,57,46,60,27,51,53,72,48,48,42,11,50,47,25,49,16,74,41,18,24,19,7,51,55,42,38,8,36,47,57,18,49,46,55,29,76,61,25,19,79,11,37,26,8,48,12,20,40,34,27,20,35,19,31,41,10,25,26,38,15,8,354,22,14,22,34,52,26,28,57,51,20,2,17,23,41,20,10,26,34,49,2,30,15,14,29,41,82,47,57,6,45,29,33,26,24,11,4,19,32,31,34,36,28,26,22,27,6,27,29,10,21,42,38,23,28,9,26,14,16,41,24,15,20,17,21,25,19,18,21,29,13,23,15,47,17,18,2642,30,25,8,49,13,9,14,19,24,11,21,18,5,6,14,22,27,20,23,20,11,24,15,7,22,8,14,51,22,6,32,12,3,49,27,6,28,0,18,7,11,23,22,16,7,2,13,27,12,11,0,3,12,8,25,18,6,9,13,40,16,9,4,24,13,23,4,9,8,16,4,13,15,7,21,9,12,7,3274,14,5,13,13,11,15,2,26,13,18,15,5,7,8,20,20,3,12,5,3,8,6,13,3,34,0,4,15,0,13,14,7,0,12,5,13,6,0,7,7,4,9,4,22,5,9,13,8,8,18,0,8,6,6,3,1,5,9,3,4,0,4,6,6,4,7,18,3,0,14,6,14,3,3,1,6,1,3,2,0,2,0,0,7,0,0,1,3,5,0,0,1,0,0,0,0,0,0,2,2],\"xaxis\":\"x\",\"y\":[9572765,2892594,14257609,0,131647155,0,140000000,77912251,0,3600000,201000000,119815153,473122525,76994245,45000000,59217789,319494638,63102666,253688035,297372261,0,0,50671850,0,320392818,365550119,25343661,0,0,230884728,530243742,2200000,203044905,0,0,0,70274000,60141683,137056262,701842551,0,0,24829644,441306145,780000,35763605,80460948,0,87547518,103911669,118587880,28650575,20560255,0,231252591,107363905,112880294,3800000,89328627,306515884,249348933,157887643,240891763,97009150,130290885,86362372,158162788,116643421,194183034,0,107363905,32511655,0,257047661,17800000,161000000,173046663,252207,160112671,118890272,0,82515113,102391540,93320380,90941129,340677200,44781695,81093313,14575193,39657073,69623713,77389310,34900000,111928365,104931801,0,44888959,147748505,5303,39421467,0,0,0,164874275,59754601,11642254,131183530,572809,30900000,19629760,0,167184112,0,207039844,139352633,0,37697773,65048678,159047649,186167139,15116634,0,4915757,0,470653000,172363301,177427090,81979826,0,83188165,300257475,25533818,97542952,35728183,678604,85720385,32980880,104303851,37664855,161451538,136151680,33800000,248639099,29400000,21722776,0,103590271,183474602,11019975,113864059,25685134,24922237,57469467,223664608,68234154,97231420,50000000,31973249,21502976,75000000,57130027,2325035,136885767,8556940,122200000,48572000,108047131,128905366,2260622,155010032,102952888,64188367,14237880,31039126,0,83080890,0,14400000,30000000,32721635,113374103,7048886,12090735,39024251,81705746,19472057,161834276,49400000,5600000,18469680,9630444,0,155712077,16951798,14000000,52302796,0,16000000,100605135,148868835,0,125479266,36690067,24819936,0,2884265,14568989,125586134,5765562,8025872,0,30749142,112399944,0,18707966,0,185898,13167232,53329150,0,34592118,25327500,0,17949758,12534961,57000000,19170001,21028755,21930418,11500000,153083102,72281712,17985893,41482207,177512032,0,0,0,0,0,20311536,75505973,54207,31505287,44235023,19400000,60922980,114000000,82391145,48854305,0,16184,142817992,162000000,0,19444631,62882090,0,0,187884007,8493728,25836616,27762648,78000586,0,55060212,0,129394835,25792310,72436439,51881013,30000000,55000000,0,2491460,0,0,102984862,0,0,9602624,426290,17092453,26570463,87987055,60629159,78096553,93983911,0,0,86432000,0,0,251495,32222567,0,0,6842058,0,40996665,100345,0,47737094,40002112,8992523,0,33395426,0,127730736,16675000,45172994,0,35300645,3657876,39143839,0,19165560,38574362,0,0,44800000,41002607,67738090,22168359,0,47074133,56870414,30553395,12534817,47053625,3813293,159773545,48333932,21833,1882074,164648142,58072119,54667954,0,38610009,0,0,0,0,42664410,0,14144000,45479110,0,0,0,0,77527732,29907685,0,0,42918532,0,0,2166797,0,2295825,0,2023414,0,20308772,0,2983784,2756,0,20901859,25480490,0,40846082,154323,14796236,12693645,0,6980986,0,0,0,15179302,0,34725000,0,34000000,37473,0,1300000,104155843,0,0,2175000,0,1952653,5844868,20471382,38903179,1845819,0,112892319,74827344,14000000,0,3000000,2250000,3902679,0,3500000,0,14225876,208550,4000000,72527595,0,40855419,2000000,11000000,0,0,0,91196419,12175665,25000000,658573,0,26518355,0,15738769,4385516,0,0,0,1045873,0,3650275,0,0,0,0,0,148412065,0,0,0,0,0,0,0,167445,1798418,0,0,0,16200000,9747988,16115878,17762705,22449857,0,21089146,0,0,0,11988469,21133087,0,0,0,0,0,11000000,32100816,7000000,9205924,200000000,0,0,10000000,323776,0,0,0,6,0,0,0,1271556,0,0,67192859,0,0,0,0,0,0,10155690,0,0,0,12000000,1519796,35000000,0,0,0,58221,1766761,0,0,0,0,800000,0,5540941,0,0,0,0,0,0,23589,13500000,0,0,0,156190,516930,33245,5781885,364937,0,0,5450815,0,0,13818181,0,0,14481606,0,6333135,0,0,0,192816,0,0,0,3412497,0,0,2409225,0,0,0,0,0,0,8000000,0,0,0,9094451,0,155362,0,0,0,0,0,3109904,0,0,0,0,0,0,0,0,0,0,0,808114,16000000,2683519,2289000,0,0,0,544476,0,0,0,0,0,0,0,0,0,0,0,0,0,7800000,0,0,0,0,0,0,0,0,0,0,0,4000000,11068800,0,0,0,15000000,0,0,0,0,0,0,0,13940383,0,0,0,0,0,0,0,0,0,0,0,0,0,0,0,0,0,0,0,0,15,0,0,1738897,0,0,0,0,0,0,0,0,0,0,0,0,7282851,2955917,0,0,0,0,0,7171,0,0,0,0,0,0,0,0,82169884,0,0,0,0,0,0,0,2000000,0,0,0,0,0,3600000,0,0,0,14000000,0,240159255,0,0,0,0,0,0,2439448,0,0,0,0,0,0,0,0,2041000,0,0,0,0,0,0,0,0,209196298,0,0,0,0,0,0,0,0,0,0,0,0,0,0,14225876,0,0,0,0,0,0,0,0,0,0,0,1000000,0,0,0,0,0,0,0,0,0,0,0,0,0,0,940173,0,0,0,0,0,0,0,1242995,0,0,0,0,0,0,0,1753979,7939761,0,0,7369373,0,0,4000000,0,0,0,0,0,0,0,0,0,0,0,1156728,0,0,0,0,0,0,0,0,0,0,0,0,0,0,0,0,62405000,0,0,0,1000000,0,0,0,0,0,0,0,0,5030049,0,0,0,0,0,0,0,22000000,0,0,0,0,0,0,0,0,0,0,0,0,0,7000000,0,0,3119957,0,0,0,0,0,0,0,0,0,0,0,0,0,0,0,0,0,0,102433,0,0,0,0,1300000,0,5400000,0,2228115,0,0,0,168180,0,0,0,0,0,0,0,858591,0,0,0,0,0,0,0,0,0,0,0,0,0,0,0,14000000,0,0,0,0,0,0,0,0,0,0,0,0,0,0,0,91260,7141571,0,0,312242626,28115,0,0,0,0,0,0,0,0,0,0,0,0,0,0,0,0,0,0,0,0,0,0,0,0,0,0,0,0,0,0,0,0,1691811,0,0,0,0,0,0,0,0,0,0,0,0,0,0,0,0,0,0,0,0,0,0,0,0,0,0,0,0,0,0,0,0,0,0,0,0,0,0,0,0,0,0,0,0,300228084,0,0,0,0,0,0,0,0,0,0,0,0,0,0,0,0,0,0,0,0,45000,0,0,0,0,0,2035311,0,0,0,0,0,0,0,0,0,0,0,0,0,0,0,0,0,0,0,0,0,0,0,0,2800000,0,0,0,0,0,0,0,0,0,0,0,0,0,0,0,0,0,0,0,0,0,0,0,0,0,0,0,0,100000,0,0,0,0,0,0,0,0,0,0,0,0,0,0,0,0,0,0,0],\"yaxis\":\"y\",\"type\":\"scattergl\"}],                        {\"template\":{\"data\":{\"histogram2dcontour\":[{\"type\":\"histogram2dcontour\",\"colorbar\":{\"outlinewidth\":0,\"ticks\":\"\"},\"colorscale\":[[0.0,\"#0d0887\"],[0.1111111111111111,\"#46039f\"],[0.2222222222222222,\"#7201a8\"],[0.3333333333333333,\"#9c179e\"],[0.4444444444444444,\"#bd3786\"],[0.5555555555555556,\"#d8576b\"],[0.6666666666666666,\"#ed7953\"],[0.7777777777777778,\"#fb9f3a\"],[0.8888888888888888,\"#fdca26\"],[1.0,\"#f0f921\"]]}],\"choropleth\":[{\"type\":\"choropleth\",\"colorbar\":{\"outlinewidth\":0,\"ticks\":\"\"}}],\"histogram2d\":[{\"type\":\"histogram2d\",\"colorbar\":{\"outlinewidth\":0,\"ticks\":\"\"},\"colorscale\":[[0.0,\"#0d0887\"],[0.1111111111111111,\"#46039f\"],[0.2222222222222222,\"#7201a8\"],[0.3333333333333333,\"#9c179e\"],[0.4444444444444444,\"#bd3786\"],[0.5555555555555556,\"#d8576b\"],[0.6666666666666666,\"#ed7953\"],[0.7777777777777778,\"#fb9f3a\"],[0.8888888888888888,\"#fdca26\"],[1.0,\"#f0f921\"]]}],\"heatmap\":[{\"type\":\"heatmap\",\"colorbar\":{\"outlinewidth\":0,\"ticks\":\"\"},\"colorscale\":[[0.0,\"#0d0887\"],[0.1111111111111111,\"#46039f\"],[0.2222222222222222,\"#7201a8\"],[0.3333333333333333,\"#9c179e\"],[0.4444444444444444,\"#bd3786\"],[0.5555555555555556,\"#d8576b\"],[0.6666666666666666,\"#ed7953\"],[0.7777777777777778,\"#fb9f3a\"],[0.8888888888888888,\"#fdca26\"],[1.0,\"#f0f921\"]]}],\"heatmapgl\":[{\"type\":\"heatmapgl\",\"colorbar\":{\"outlinewidth\":0,\"ticks\":\"\"},\"colorscale\":[[0.0,\"#0d0887\"],[0.1111111111111111,\"#46039f\"],[0.2222222222222222,\"#7201a8\"],[0.3333333333333333,\"#9c179e\"],[0.4444444444444444,\"#bd3786\"],[0.5555555555555556,\"#d8576b\"],[0.6666666666666666,\"#ed7953\"],[0.7777777777777778,\"#fb9f3a\"],[0.8888888888888888,\"#fdca26\"],[1.0,\"#f0f921\"]]}],\"contourcarpet\":[{\"type\":\"contourcarpet\",\"colorbar\":{\"outlinewidth\":0,\"ticks\":\"\"}}],\"contour\":[{\"type\":\"contour\",\"colorbar\":{\"outlinewidth\":0,\"ticks\":\"\"},\"colorscale\":[[0.0,\"#0d0887\"],[0.1111111111111111,\"#46039f\"],[0.2222222222222222,\"#7201a8\"],[0.3333333333333333,\"#9c179e\"],[0.4444444444444444,\"#bd3786\"],[0.5555555555555556,\"#d8576b\"],[0.6666666666666666,\"#ed7953\"],[0.7777777777777778,\"#fb9f3a\"],[0.8888888888888888,\"#fdca26\"],[1.0,\"#f0f921\"]]}],\"surface\":[{\"type\":\"surface\",\"colorbar\":{\"outlinewidth\":0,\"ticks\":\"\"},\"colorscale\":[[0.0,\"#0d0887\"],[0.1111111111111111,\"#46039f\"],[0.2222222222222222,\"#7201a8\"],[0.3333333333333333,\"#9c179e\"],[0.4444444444444444,\"#bd3786\"],[0.5555555555555556,\"#d8576b\"],[0.6666666666666666,\"#ed7953\"],[0.7777777777777778,\"#fb9f3a\"],[0.8888888888888888,\"#fdca26\"],[1.0,\"#f0f921\"]]}],\"mesh3d\":[{\"type\":\"mesh3d\",\"colorbar\":{\"outlinewidth\":0,\"ticks\":\"\"}}],\"scatter\":[{\"fillpattern\":{\"fillmode\":\"overlay\",\"size\":10,\"solidity\":0.2},\"type\":\"scatter\"}],\"parcoords\":[{\"type\":\"parcoords\",\"line\":{\"colorbar\":{\"outlinewidth\":0,\"ticks\":\"\"}}}],\"scatterpolargl\":[{\"type\":\"scatterpolargl\",\"marker\":{\"colorbar\":{\"outlinewidth\":0,\"ticks\":\"\"}}}],\"bar\":[{\"error_x\":{\"color\":\"#2a3f5f\"},\"error_y\":{\"color\":\"#2a3f5f\"},\"marker\":{\"line\":{\"color\":\"#E5ECF6\",\"width\":0.5},\"pattern\":{\"fillmode\":\"overlay\",\"size\":10,\"solidity\":0.2}},\"type\":\"bar\"}],\"scattergeo\":[{\"type\":\"scattergeo\",\"marker\":{\"colorbar\":{\"outlinewidth\":0,\"ticks\":\"\"}}}],\"scatterpolar\":[{\"type\":\"scatterpolar\",\"marker\":{\"colorbar\":{\"outlinewidth\":0,\"ticks\":\"\"}}}],\"histogram\":[{\"marker\":{\"pattern\":{\"fillmode\":\"overlay\",\"size\":10,\"solidity\":0.2}},\"type\":\"histogram\"}],\"scattergl\":[{\"type\":\"scattergl\",\"marker\":{\"colorbar\":{\"outlinewidth\":0,\"ticks\":\"\"}}}],\"scatter3d\":[{\"type\":\"scatter3d\",\"line\":{\"colorbar\":{\"outlinewidth\":0,\"ticks\":\"\"}},\"marker\":{\"colorbar\":{\"outlinewidth\":0,\"ticks\":\"\"}}}],\"scattermapbox\":[{\"type\":\"scattermapbox\",\"marker\":{\"colorbar\":{\"outlinewidth\":0,\"ticks\":\"\"}}}],\"scatterternary\":[{\"type\":\"scatterternary\",\"marker\":{\"colorbar\":{\"outlinewidth\":0,\"ticks\":\"\"}}}],\"scattercarpet\":[{\"type\":\"scattercarpet\",\"marker\":{\"colorbar\":{\"outlinewidth\":0,\"ticks\":\"\"}}}],\"carpet\":[{\"aaxis\":{\"endlinecolor\":\"#2a3f5f\",\"gridcolor\":\"white\",\"linecolor\":\"white\",\"minorgridcolor\":\"white\",\"startlinecolor\":\"#2a3f5f\"},\"baxis\":{\"endlinecolor\":\"#2a3f5f\",\"gridcolor\":\"white\",\"linecolor\":\"white\",\"minorgridcolor\":\"white\",\"startlinecolor\":\"#2a3f5f\"},\"type\":\"carpet\"}],\"table\":[{\"cells\":{\"fill\":{\"color\":\"#EBF0F8\"},\"line\":{\"color\":\"white\"}},\"header\":{\"fill\":{\"color\":\"#C8D4E3\"},\"line\":{\"color\":\"white\"}},\"type\":\"table\"}],\"barpolar\":[{\"marker\":{\"line\":{\"color\":\"#E5ECF6\",\"width\":0.5},\"pattern\":{\"fillmode\":\"overlay\",\"size\":10,\"solidity\":0.2}},\"type\":\"barpolar\"}],\"pie\":[{\"automargin\":true,\"type\":\"pie\"}]},\"layout\":{\"autotypenumbers\":\"strict\",\"colorway\":[\"#636efa\",\"#EF553B\",\"#00cc96\",\"#ab63fa\",\"#FFA15A\",\"#19d3f3\",\"#FF6692\",\"#B6E880\",\"#FF97FF\",\"#FECB52\"],\"font\":{\"color\":\"#2a3f5f\"},\"hovermode\":\"closest\",\"hoverlabel\":{\"align\":\"left\"},\"paper_bgcolor\":\"white\",\"plot_bgcolor\":\"#E5ECF6\",\"polar\":{\"bgcolor\":\"#E5ECF6\",\"angularaxis\":{\"gridcolor\":\"white\",\"linecolor\":\"white\",\"ticks\":\"\"},\"radialaxis\":{\"gridcolor\":\"white\",\"linecolor\":\"white\",\"ticks\":\"\"}},\"ternary\":{\"bgcolor\":\"#E5ECF6\",\"aaxis\":{\"gridcolor\":\"white\",\"linecolor\":\"white\",\"ticks\":\"\"},\"baxis\":{\"gridcolor\":\"white\",\"linecolor\":\"white\",\"ticks\":\"\"},\"caxis\":{\"gridcolor\":\"white\",\"linecolor\":\"white\",\"ticks\":\"\"}},\"coloraxis\":{\"colorbar\":{\"outlinewidth\":0,\"ticks\":\"\"}},\"colorscale\":{\"sequential\":[[0.0,\"#0d0887\"],[0.1111111111111111,\"#46039f\"],[0.2222222222222222,\"#7201a8\"],[0.3333333333333333,\"#9c179e\"],[0.4444444444444444,\"#bd3786\"],[0.5555555555555556,\"#d8576b\"],[0.6666666666666666,\"#ed7953\"],[0.7777777777777778,\"#fb9f3a\"],[0.8888888888888888,\"#fdca26\"],[1.0,\"#f0f921\"]],\"sequentialminus\":[[0.0,\"#0d0887\"],[0.1111111111111111,\"#46039f\"],[0.2222222222222222,\"#7201a8\"],[0.3333333333333333,\"#9c179e\"],[0.4444444444444444,\"#bd3786\"],[0.5555555555555556,\"#d8576b\"],[0.6666666666666666,\"#ed7953\"],[0.7777777777777778,\"#fb9f3a\"],[0.8888888888888888,\"#fdca26\"],[1.0,\"#f0f921\"]],\"diverging\":[[0,\"#8e0152\"],[0.1,\"#c51b7d\"],[0.2,\"#de77ae\"],[0.3,\"#f1b6da\"],[0.4,\"#fde0ef\"],[0.5,\"#f7f7f7\"],[0.6,\"#e6f5d0\"],[0.7,\"#b8e186\"],[0.8,\"#7fbc41\"],[0.9,\"#4d9221\"],[1,\"#276419\"]]},\"xaxis\":{\"gridcolor\":\"white\",\"linecolor\":\"white\",\"ticks\":\"\",\"title\":{\"standoff\":15},\"zerolinecolor\":\"white\",\"automargin\":true,\"zerolinewidth\":2},\"yaxis\":{\"gridcolor\":\"white\",\"linecolor\":\"white\",\"ticks\":\"\",\"title\":{\"standoff\":15},\"zerolinecolor\":\"white\",\"automargin\":true,\"zerolinewidth\":2},\"scene\":{\"xaxis\":{\"backgroundcolor\":\"#E5ECF6\",\"gridcolor\":\"white\",\"linecolor\":\"white\",\"showbackground\":true,\"ticks\":\"\",\"zerolinecolor\":\"white\",\"gridwidth\":2},\"yaxis\":{\"backgroundcolor\":\"#E5ECF6\",\"gridcolor\":\"white\",\"linecolor\":\"white\",\"showbackground\":true,\"ticks\":\"\",\"zerolinecolor\":\"white\",\"gridwidth\":2},\"zaxis\":{\"backgroundcolor\":\"#E5ECF6\",\"gridcolor\":\"white\",\"linecolor\":\"white\",\"showbackground\":true,\"ticks\":\"\",\"zerolinecolor\":\"white\",\"gridwidth\":2}},\"shapedefaults\":{\"line\":{\"color\":\"#2a3f5f\"}},\"annotationdefaults\":{\"arrowcolor\":\"#2a3f5f\",\"arrowhead\":0,\"arrowwidth\":1},\"geo\":{\"bgcolor\":\"white\",\"landcolor\":\"#E5ECF6\",\"subunitcolor\":\"white\",\"showland\":true,\"showlakes\":true,\"lakecolor\":\"white\"},\"title\":{\"x\":0.05},\"mapbox\":{\"style\":\"light\"}}},\"xaxis\":{\"anchor\":\"y\",\"domain\":[0.0,1.0],\"title\":{\"text\":\"vote_count\"}},\"yaxis\":{\"anchor\":\"x\",\"domain\":[0.0,1.0],\"title\":{\"text\":\"revenue\"}},\"coloraxis\":{\"colorbar\":{\"title\":{\"text\":\"color\"}},\"colorscale\":[[0.0,\"#0d0887\"],[0.1111111111111111,\"#46039f\"],[0.2222222222222222,\"#7201a8\"],[0.3333333333333333,\"#9c179e\"],[0.4444444444444444,\"#bd3786\"],[0.5555555555555556,\"#d8576b\"],[0.6666666666666666,\"#ed7953\"],[0.7777777777777778,\"#fb9f3a\"],[0.8888888888888888,\"#fdca26\"],[1.0,\"#f0f921\"]]},\"legend\":{\"tracegroupgap\":0},\"margin\":{\"t\":60}},                        {\"responsive\": true}                    ).then(function(){\n",
       "                            \n",
       "var gd = document.getElementById('4bfef67f-cbc8-4301-90e1-5fee3bbae49f');\n",
       "var x = new MutationObserver(function (mutations, observer) {{\n",
       "        var display = window.getComputedStyle(gd).display;\n",
       "        if (!display || display === 'none') {{\n",
       "            console.log([gd, 'removed!']);\n",
       "            Plotly.purge(gd);\n",
       "            observer.disconnect();\n",
       "        }}\n",
       "}});\n",
       "\n",
       "// Listen for the removal of the full notebook cells\n",
       "var notebookContainer = gd.closest('#notebook-container');\n",
       "if (notebookContainer) {{\n",
       "    x.observe(notebookContainer, {childList: true});\n",
       "}}\n",
       "\n",
       "// Listen for the clearing of the current output cell\n",
       "var outputEl = gd.closest('.output');\n",
       "if (outputEl) {{\n",
       "    x.observe(outputEl, {childList: true});\n",
       "}}\n",
       "\n",
       "                        })                };                });            </script>        </div>"
      ]
     },
     "metadata": {},
     "output_type": "display_data"
    }
   ],
   "source": [
    "fig = px.scatter(df,\n",
    "                 x = \"vote_count\", y = \"revenue\", color=y, hover_data=['title', 'vote_average','popularity'])\n",
    "fig.show()"
   ]
  },
  {
   "cell_type": "markdown",
   "id": "69f5f4bd",
   "metadata": {},
   "source": [
    "## Clustering Analysis"
   ]
  },
  {
   "cell_type": "markdown",
   "id": "6bfc8a9e",
   "metadata": {},
   "source": [
    "It seems that movies are clustered based on how much revenue they generated. Using the interactive cluster, in the jupyter notebook linked below, I was able to gain some more insight on which specific movies were in each cluster. There are two main outliers: It (2017) and The Shining. One surprising piece of information is The Shining being clustered in cluster 1 (low revenue) despite having the second highest vote count at almost 15k and a vote average of 8.2/10. This suggests that as time went on, the movie gained appreciation. Pointing back to my motivation for this project, I'm able to find horror movies that I have not watched before. Just out of cluster 3, this includes the Resident Evil series, The Meg, the Alien series, and others."
   ]
  },
  {
   "cell_type": "markdown",
   "id": "15411a2d",
   "metadata": {},
   "source": [
    "## Impact"
   ]
  },
  {
   "cell_type": "markdown",
   "id": "48e487b8",
   "metadata": {},
   "source": [
    "An impact this project could have is discovering new movies that you may end up loving. A negative impact could be placing too much emphasis on mainstream blockbusters. The intention of this was to find lesser-known horror movies but I can see how people can overlook this."
   ]
  },
  {
   "cell_type": "markdown",
   "id": "b66eacdc",
   "metadata": {},
   "source": [
    "## References"
   ]
  },
  {
   "cell_type": "markdown",
   "id": "80fcb861",
   "metadata": {},
   "source": [
    "- [Kaggle Dataset](https://www.kaggle.com/datasets/sujaykapadnis/horror-movies-dataset)\n",
    "- [Elbow Method](\"https://www.analyticsvidhya.com/blog/2021/01/in-depth-intuition-of-k-means-clustering-algorithm-in-machine-learning/#What_Is_the_Elbow_Method_in_K-Means_Clustering?\")"
   ]
  }
 ],
 "metadata": {
  "kernelspec": {
   "display_name": "Python 3 (ipykernel)",
   "language": "python",
   "name": "python3"
  },
  "language_info": {
   "codemirror_mode": {
    "name": "ipython",
    "version": 3
   },
   "file_extension": ".py",
   "mimetype": "text/x-python",
   "name": "python",
   "nbconvert_exporter": "python",
   "pygments_lexer": "ipython3",
   "version": "3.11.4"
  }
 },
 "nbformat": 4,
 "nbformat_minor": 5
}
